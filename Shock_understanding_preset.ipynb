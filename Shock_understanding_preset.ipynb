{
 "cells": [
  {
   "cell_type": "markdown",
   "metadata": {},
   "source": [
    "## Import modules and functions"
   ]
  },
  {
   "cell_type": "code",
   "execution_count": 1,
   "metadata": {},
   "outputs": [
    {
     "name": "stdout",
     "output_type": "stream",
     "text": [
      "importing Jupyter notebook from Module_Diagnostics.ipynb\n",
      "testing compute_RMS(...):\n",
      "This should be close to 1: 0.9832907121380997\n",
      "This should be close to 0: 0.0\n"
     ]
    }
   ],
   "source": [
    "# -*- coding: utf-8 -*-\n",
    "from __future__ import print_function\n",
    "\n",
    "import numpy as np\n",
    "import matplotlib.pyplot as plt\n",
    "from mpl_toolkits.axes_grid1 import make_axes_locatable\n",
    "from matplotlib.ticker import MaxNLocator\n",
    "from matplotlib.colors import BoundaryNorm\n",
    "import matplotlib.patches as patches\n",
    "import matplotlib.colors as colors\n",
    "\n",
    "import matplotlib.pyplot as plt\n",
    "import pylab as pl\n",
    "import numpy as np\n",
    "import glob\n",
    "import re\n",
    "import os\n",
    "import math\n",
    "\n",
    "import pylab as pl\n",
    "import matplotlib\n",
    "from matplotlib.colors import BoundaryNorm\n",
    "from matplotlib.ticker import MaxNLocator\n",
    "from matplotlib import rcParams\n",
    "from scipy.signal import savgol_filter\n",
    "\n",
    "from matplotlib.gridspec    import GridSpec\n",
    "import import_ipynb\n",
    "\n",
    "import Module_Diagnostics as MD\n",
    "import numpy as np\n",
    "from tempfile import mkdtemp\n",
    "import os.path as path\n",
    "import sys\n",
    "\n",
    "from pathlib import Path\n",
    "import json\n",
    "\n",
    "#Debugger. For some reason, using it inside a function works well. Otherwise...\n",
    "from IPython.core.debugger import set_trace\n",
    "#exemple: \n",
    "# def debug():\n",
    "#     set_trace()\n",
    "    \n",
    "#     `code_to_debug`\n",
    "    \n",
    "#     return\n",
    "\n",
    "# debug()"
   ]
  },
  {
   "cell_type": "markdown",
   "metadata": {},
   "source": [
    "## Plot parameters"
   ]
  },
  {
   "cell_type": "code",
   "execution_count": 2,
   "metadata": {},
   "outputs": [],
   "source": [
    "# %matplotlib notebook\n",
    "rcParams[\"figure.figsize\"] = [9.4, 4.8]\n",
    "# matplotlib.use('nbagg') #_comment this line if you don't need to interact with plots (zoom, translations, savings...)\n",
    "\n",
    "# import matplotlib\n",
    "# matplotlib.use('TkAgg')"
   ]
  },
  {
   "cell_type": "markdown",
   "metadata": {},
   "source": [
    "## Choose run and time for analysis"
   ]
  },
  {
   "cell_type": "code",
   "execution_count": 3,
   "metadata": {},
   "outputs": [
    {
     "name": "stdout",
     "output_type": "stream",
     "text": [
      "date of the simulation (DD_MM_YY): 18_08_20\n",
      "time dump (in 1/omega_ci): 00230\n"
     ]
    }
   ],
   "source": [
    "run_name = 'RUN_NAME'\n",
    "\n",
    "loop = False #LOOP #(LOOP is a boolean)\n",
    "time = 230 #TIME\n",
    "time = '%05d' % time    # Change the time to string format, needed by functions\n",
    "\n",
    "### Only for use:\n",
    "\n",
    "#if working on lx-moissard\n",
    "Cluster = 'Occ/'\n",
    "run_name = '20_08_18_new_big_one_0'\n",
    "filepath = '/data/Lathys/Visualisation/' + Cluster + run_name + '/ncfiles/'\n",
    "\n",
    "#if working on occigene\n",
    "# filepath = '../ncfiles/'\n",
    "\n",
    "try:\n",
    "    date = re.search('Magw_(.+?)_t', glob.glob(filepath+'Magw*_t'+time+'.nc')[0]).group(1)\n",
    "except (IndexError, AttributeError): \n",
    "    sys.exit(f\"\"\"time_dump {time} does not appear to have data.\n",
    "             Let us go to the next time_dump\"\"\")\n",
    "\n",
    "print(f'date of the simulation (DD_MM_YY): {date}')\n",
    "print(f'time dump (in 1/omega_ci): {time}')\n",
    "\n",
    "#This is used by the functions find_ip_shock(N, V) and find_mc_leading_edge(B)\n",
    "metadata = {'t_shock_entrance' : 130,\n",
    "            't_shock_exit'     : 240,\n",
    "            't_MC_entrance'    : 130,\n",
    "            't_MC_exit'        : 270}\n",
    "#todo: autodefine t_collision? maybe from story_reader will be easier, as lines will cross on the multivariate plot"
   ]
  },
  {
   "cell_type": "code",
   "execution_count": 4,
   "metadata": {},
   "outputs": [],
   "source": [
    "# Prepare for plt.savefig\n",
    "storing_directory = filepath + \"../structure_images/\"\n",
    "path_png = Path(storing_directory)\n",
    "time_label = f\"t{time}\"\n",
    "if path_png.exists():\n",
    "    pass\n",
    "else:\n",
    "    path_png.mkdir()"
   ]
  },
  {
   "cell_type": "code",
   "execution_count": 5,
   "metadata": {},
   "outputs": [],
   "source": [
    "storing_directory_json = filepath + \"../json_files/\"\n",
    "\n",
    "path_store_json = Path(storing_directory_json)\n",
    "\n",
    "if not(path_store_json.exists()):\n",
    "    os.system(f'mkdir {path_store_json}')\n",
    "\n",
    "name = \"sav_shock_understanding_\" + run_name + \".json\"\n",
    "path_json = Path(storing_directory_json + name)"
   ]
  },
  {
   "cell_type": "code",
   "execution_count": 6,
   "metadata": {},
   "outputs": [],
   "source": [
    "#The next line links directly to my PhD_Manuscript on Overleaf.com\n",
    "#Saving plots there means that I do not need to worry about having the very last versions before\n",
    "#starting to write about it in Overleaf, since they will always be up-to-date.\n",
    "\n",
    "#IMPORTANT: for it to work, add the following line to ~/.bashrc\n",
    "#export DROPBOX=\"/home/moissard/Dropbox\" (to adapt to the particular machine)\n",
    "dropbox = os.environ['DROPBOX']\n",
    "dropbox_dir = \"./\" #dropbox + \"/Apps/Overleaf/PhD_Manuscript/Images/LATHYS/\"\n",
    "\n",
    "# plt.savefig(dropbox_dir + '/' + saving_title + run_name + \".png\",\n",
    "#             transparent=True, bbox_inches='tight', pad_inches=0.1)\n",
    "\n",
    "#If not working on the manuscript anymore, avoid changing images there by mistake\n",
    "dropbox_dir = storing_directory"
   ]
  },
  {
   "cell_type": "markdown",
   "metadata": {},
   "source": [
    "## Load data to large 3D arrays: N, (Bx, By, Bz), _etc._"
   ]
  },
  {
   "cell_type": "markdown",
   "metadata": {},
   "source": [
    "#### Clear /tmp"
   ]
  },
  {
   "cell_type": "code",
   "execution_count": 7,
   "metadata": {},
   "outputs": [
    {
     "name": "stdout",
     "output_type": "stream",
     "text": [
      "Clearing up /tmp/ ...\n",
      "Indeed by using memmap, this code creates heavy temporary files\n"
     ]
    },
    {
     "data": {
      "text/plain": [
       "256"
      ]
     },
     "execution_count": 7,
     "metadata": {},
     "output_type": "execute_result"
    }
   ],
   "source": [
    "print(\"\"\"Clearing up /tmp/ ...\n",
    "Indeed by using memmap, this code creates heavy temporary files\"\"\")\n",
    "#Note: >/dev/null 2>&1 makes the system silent. Usually this command raises a lot of\n",
    "# 'Action not permitted'. But that's fine. Nothing to debug here. tmp/ is full of\n",
    "# files that should not be deleted, which are protected by root privileges.\n",
    "os.system('rm -rf /tmp/* >/dev/null 2>&1')"
   ]
  },
  {
   "cell_type": "markdown",
   "metadata": {},
   "source": [
    "### Load B, n, E, T, V"
   ]
  },
  {
   "cell_type": "code",
   "execution_count": null,
   "metadata": {
    "scrolled": false
   },
   "outputs": [
    {
     "name": "stdout",
     "output_type": "stream",
     "text": [
      "Importing Magw 3D from /data/Lathys/Visualisation/Occ/20_08_18_new_big_one_0/ncfiles/\n",
      "Reading Bx...\n",
      "Reading By...\n",
      "Reading Bz...\n",
      "Close file and return...\n",
      "storing Magnetic field in a memmap\n",
      "deleting Magw to alleviate RAM\n",
      "Importing Elew 3D from /data/Lathys/Visualisation/Occ/20_08_18_new_big_one_0/ncfiles/\n",
      "Reading Ex...\n",
      "Reading Ey...\n",
      "Reading Ez...\n",
      "Close file and return...\n",
      "storing Electric field in a memmap\n",
      "deleting Elew to alleviate RAM\n",
      "Importing Hsw 3D from /data/Lathys/Visualisation/Occ/20_08_18_new_big_one_0/ncfiles/\n",
      "Reading density...\n",
      "Reading Ux...\n",
      "Reading Uy...\n",
      "Reading Uz...\n",
      "Reading T...\n",
      "Close file and return...\n",
      "storing Plasma parameters in memmaps\n"
     ]
    }
   ],
   "source": [
    "## Load B and X, Y, Z\n",
    "\n",
    "# There might be some MemoryError. In that case, follow the guide:\n",
    "# https://stackoverflow.com/questions/60563936/memoryerror-unable-to-allocate-3-78-gib-for-an-array-with-shape-802-842-1502\n",
    "Magw = MD.import_data_3D(filepath, date, time, 'Magw')\n",
    "\n",
    "cwp = Magw['c_omegapi'][0]\n",
    "gstep = Magw['gstep']\n",
    "r_planet = Magw['r_planet'][0]\n",
    "\n",
    "#Thomas Huret recommands shifting the axes so that the planet is indeed in (0,0,0)\n",
    "#It has got something to do with lists starting at 1 instead of 0 in Fortran...?\n",
    "X = np.array(np.around(Magw['x']))#+gstep[0]  \n",
    "Y = np.array(np.around(Magw['y']))#+gstep[1]\n",
    "Z = np.array(np.around(Magw['z']))#-gstep[2]\n",
    "\n",
    "nx,  ny,  nz  = len(X), len(Y), len(Z)\n",
    "# Location of the planet is defined in the .ncfiles as (x,y,z) = (0,0,0)\n",
    "# Location of the planet is defined in the .ncfiles as (x,y,z) = (0,0,0)\n",
    "nx0, ny0, nz0 = ( int(np.where(abs(X)==min(abs(X)))[0]),\n",
    "                  int(np.where(abs(Y)==min(abs(Y)))[0]), \n",
    "                  int(np.where(abs(Z)==min(abs(Z)))[0])  )\n",
    "            \n",
    "# Use memmap to alleviate RAM\n",
    "# This stores big arrays on the disk, but in a way that still allows for most\n",
    "# operations available on an np.array\n",
    "print(\"storing Magnetic field in a memmap\")\n",
    "file_Bx = path.join(mkdtemp(), 'Bx.dat')            \n",
    "Bx = np.memmap(file_Bx, dtype='float32', mode='w+', shape=(nx,ny,nz))\n",
    "Bx[:] = Magw['Bx']\n",
    "file_By = path.join(mkdtemp(), 'By.dat')            \n",
    "By = np.memmap(file_By, dtype='float32', mode='w+', shape=(nx,ny,nz))\n",
    "By[:] = Magw['By']\n",
    "file_Bz = path.join(mkdtemp(), 'Bz.dat')            \n",
    "Bz = np.memmap(file_Bz, dtype='float32', mode='w+', shape=(nx,ny,nz))\n",
    "Bz[:] = Magw['Bz']\n",
    "print(\"deleting Magw to alleviate RAM\")\n",
    "del Magw\n",
    "B = [Bx, By, Bz]\n",
    "\n",
    "## Load E\n",
    "# Electric field in mV/m\n",
    "Elew = MD.import_data_3D(filepath, date, time, 'Elew')\n",
    "print(\"storing Electric field in a memmap\")\n",
    "file_Ex = path.join(mkdtemp(), 'Ex.dat')            \n",
    "Ex = np.memmap(file_Ex, dtype='float32', mode='w+', shape=(nx,ny,nz))\n",
    "Ex[:] = Elew['Ex']*1e6\n",
    "file_Ey = path.join(mkdtemp(), 'Ey.dat')            \n",
    "Ey = np.memmap(file_Ey, dtype='float32', mode='w+', shape=(nx,ny,nz))\n",
    "Ey[:] = Elew['Ey']*1e6\n",
    "file_Ez = path.join(mkdtemp(), 'Ez.dat')            \n",
    "Ez = np.memmap(file_Ez, dtype='float32', mode='w+', shape=(nx,ny,nz))\n",
    "Ez[:] = Elew['Ez']*1e6\n",
    "print(\"deleting Elew to alleviate RAM\")\n",
    "del Elew\n",
    "E = [Ex, Ey, Ez]\n",
    "\n",
    "## Load N, Vxyz, and T\n",
    "Hsw = MD.import_data_3D(filepath, date, time, 'Hsw')\n",
    "print(\"storing Plasma parameters in memmaps\")\n",
    "# Density in nb/cm^3\n",
    "file_N = path.join(mkdtemp(), 'N.dat')            \n",
    "N = np.memmap(file_N, dtype='float32', mode='w+', shape=(nx,ny,nz))\n",
    "N[:] = Hsw['n']\n",
    "# Velocity in km/s\n",
    "file_Vx = path.join(mkdtemp(), 'Vx.dat')            \n",
    "Vx = np.memmap(file_Vx, dtype='float32', mode='w+', shape=(nx,ny,nz))\n",
    "Vx[:] = Hsw['Vx']\n",
    "file_Vy = path.join(mkdtemp(), 'Vy.dat')            \n",
    "Vy = np.memmap(file_Vy, dtype='float32', mode='w+', shape=(nx,ny,nz))\n",
    "Vy[:] = Hsw['Vy']\n",
    "file_Vz = path.join(mkdtemp(), 'Vz.dat')            \n",
    "Vz = np.memmap(file_Vz, dtype='float32', mode='w+', shape=(nx,ny,nz))\n",
    "Vz[:] = Hsw['Vz']\n",
    "# Temperature in eV\n",
    "file_T = path.join(mkdtemp(), 'T.dat')            \n",
    "T = np.memmap(file_T, dtype='float32', mode='w+', shape=(nx,ny,nz))\n",
    "T[:] = Hsw['T']\n",
    "print(\"deleting Hsw to alleviate RAM\")\n",
    "del Hsw\n",
    "V = [Vx, Vy, Vz]"
   ]
  },
  {
   "cell_type": "code",
   "execution_count": null,
   "metadata": {},
   "outputs": [],
   "source": [
    "np.shape(Bx)"
   ]
  },
  {
   "cell_type": "markdown",
   "metadata": {},
   "source": [
    "## Choose cubes"
   ]
  },
  {
   "cell_type": "markdown",
   "metadata": {},
   "source": [
    "### Def cubes"
   ]
  },
  {
   "cell_type": "code",
   "execution_count": null,
   "metadata": {
    "code_folding": []
   },
   "outputs": [],
   "source": [
    "def build_cubes(position_shock):\n",
    "    \n",
    "    '''Defines two cubes: one on the left and one on the right side of\n",
    "       a point.'''\n",
    "    \n",
    "    distance = 7\n",
    "    size_cubes = 6 # Goals and poles. This will be a 5 by 5 cube.\n",
    "    \n",
    "    x_shock = position_shock[0]\n",
    "    y_shock = position_shock[1]\n",
    "    z_shock = position_shock[2]\n",
    "    \n",
    "    center_cube = x_shock, y_shock, z_shock\n",
    "\n",
    "    cube_x_max = x_shock + size_cubes/2\n",
    "    cube_x_min = x_shock - size_cubes/2\n",
    "    cube_y_max = y_shock + size_cubes/2\n",
    "    cube_y_min = y_shock - size_cubes/2\n",
    "    cube_z_max = z_shock + size_cubes/2\n",
    "    cube_z_min = z_shock - size_cubes/2\n",
    "\n",
    "    ix_min_left  = int(np.where(cube_x_min + distance <=X)[0][0])    \n",
    "    ix_max_left  = int(np.where(cube_x_max + distance <=X)[0][0])\n",
    "    ix_min_right = int(np.where(cube_x_min - distance <=X)[0][0])    \n",
    "    ix_max_right = int(np.where(cube_x_max - distance <=X)[0][0])\n",
    "    iy_min = int(np.where(cube_y_min<=Y)[0][0])\n",
    "    iy_max = int(np.where(cube_y_max<=Y)[0][0])\n",
    "    iz_min = int(np.where(cube_z_min<=Z)[0][0])\n",
    "    iz_max = int(np.where(cube_z_max<=Z)[0][0])\n",
    "    \n",
    "    cubes = {'left':\n",
    "              { 'coord': (cube_x_min+distance, cube_x_max+distance, cube_y_min, cube_y_max, cube_z_min, cube_z_max),\n",
    "                'index': (ix_min_left , ix_max_left , iy_min, iy_max, iz_min, iz_max) },\n",
    "             \n",
    "             'right': \n",
    "              { 'coord': (cube_x_min-distance, cube_x_max-distance, cube_y_min, cube_y_max, cube_z_min, cube_z_max),\n",
    "                'index': (ix_min_right, ix_max_right, iy_min, iy_max, iz_min, iz_max) }\n",
    "             }\n",
    "    \n",
    "    return cubes"
   ]
  },
  {
   "cell_type": "markdown",
   "metadata": {},
   "source": [
    "### Locate cubes"
   ]
  },
  {
   "cell_type": "code",
   "execution_count": null,
   "metadata": {},
   "outputs": [],
   "source": [
    "#for '20_08_18_new_big_one_0', at t=230\n",
    "# cube = (xmin, xmax, ymin, ymax, zmin, zmax)\n",
    "position_shock_xy_sw = (-65, 180, 0)\n",
    "position_shock_xy_bs = (-63, 135, 0)\n",
    "# position_shock_xy_mp = (-50,  76, 0)\n",
    "position_shock_xy_mp = (-55,  90, 0)\n",
    "\n",
    "cubes_xy_sw = build_cubes(position_shock_xy_sw)\n",
    "cubes_xy_bs = build_cubes(position_shock_xy_bs)\n",
    "cubes_xy_mp = build_cubes(position_shock_xy_mp)\n",
    "\n",
    "position_shock_xz_sw = (-67, 0, 186)\n",
    "position_shock_xz_bs = (-67, 0, 150)\n",
    "# position_shock_xz_mp = (-71, 0,  87)\n",
    "position_shock_xz_mp = (-70, 0,  85)\n",
    "\n",
    "cubes_xz_sw = build_cubes(position_shock_xz_sw)\n",
    "cubes_xz_bs = build_cubes(position_shock_xz_bs)\n",
    "cubes_xz_mp = build_cubes(position_shock_xz_mp)"
   ]
  },
  {
   "cell_type": "markdown",
   "metadata": {},
   "source": [
    "## Plot global view"
   ]
  },
  {
   "cell_type": "markdown",
   "metadata": {},
   "source": [
    "### Define plot_colormap"
   ]
  },
  {
   "cell_type": "code",
   "execution_count": null,
   "metadata": {},
   "outputs": [],
   "source": [
    "def plot_colormap(A, title, label, plane,\n",
    "                  ratio_max_to_med = 4,\n",
    "                  cubes = None,\n",
    "                  save_dir = None, t_label = None, \n",
    "                  zoom = None, density = 1, linewidth = 1, map_color='plasma',\n",
    "                  streamplot = None, Bx = None, Bj = None,\n",
    "                  min_value=None, max_value=None, lines_0=None, midpoint=0):\n",
    "    \n",
    "    if not(max_value):\n",
    "        max_value = int(np.median(A[np.isfinite(A) & (A > 0)])*ratio_max_to_med)\n",
    "    \n",
    "    if not(min_value):\n",
    "        if (A < 0).any():\n",
    "            min_value = int(np.median(A[np.isfinite(A) & (A < 0)])*ratio_max_to_med) \n",
    "        else:\n",
    "            min_value = int(np.min(A))\n",
    "\n",
    "       \n",
    "    # Number of color levels\n",
    "    levels = MaxNLocator(nbins=255).tick_values(min_value, max_value)\n",
    "    nb_ticks = 11\n",
    "    cbar_ticks = list(MaxNLocator(nbins=nb_ticks).tick_values(min_value, max_value))\n",
    "    while ( len(cbar_ticks) < nb_ticks ) :\n",
    "        cbar_ticks.append(r\"$\\infty$\")\n",
    "    cmap = plt.get_cmap(map_color)\n",
    "    \n",
    "    if (A < midpoint).any():\n",
    "        norm = colors.DivergingNorm(vmin=min_value, vcenter=midpoint, vmax=max_value)\n",
    "#         norm = MidpointNormalize(vmin=min_value, vmax=max_value, midpoint=midpoint)\n",
    "    else:\n",
    "        norm = BoundaryNorm(levels, ncolors=cmap.N, clip=False)\n",
    "\n",
    "    plt.close('all')\n",
    "    plt.figure(figsize=(7, 7))\n",
    "             \n",
    "    if zoom:\n",
    "        xmin, xmax, ymin, ymax, zmin, zmax = zoom\n",
    "\n",
    "    else:\n",
    "        xmin, xmax, ymin, ymax, zmin, zmax = (min(X), max(X),\n",
    "                                              min(Y), max(Y),\n",
    "                                              min(Z), max(Z))\n",
    "    \n",
    "    if plane=='xy':\n",
    "        plot = pl.pcolor(X, Y, A.T, cmap=cmap, norm=norm) \n",
    "        plt.xlabel('x', fontsize = 16, weight=\"bold\")\n",
    "        plt.ylabel('y', fontsize = 16, weight=\"bold\")\n",
    "        plt.xlim([xmin, xmax])\n",
    "        plt.ylim([ymin, ymax])\n",
    "        \n",
    "        k1=2\n",
    "        k2=3\n",
    "                \n",
    "    if plane=='xz':\n",
    "        plot = pl.pcolor(X, Z, A.T, cmap=cmap, norm=norm) \n",
    "        plt.xlabel('x', fontsize = 16, weight=\"bold\")\n",
    "        plt.ylabel('z', fontsize = 16, weight=\"bold\")\n",
    "        plt.xlim([xmin, xmax])\n",
    "        plt.ylim([zmin, zmax])\n",
    "        \n",
    "        k1=4\n",
    "        k2=5\n",
    "\n",
    "    if cubes:\n",
    "        for cube in cubes:\n",
    "\n",
    "            Ox = cube[0]\n",
    "            Oy = cube[k1]\n",
    "            Lx = abs(cube[1] - cube[0])\n",
    "            Ly = abs(cube[k2] - cube[k1])\n",
    "\n",
    "            rect = patches.Rectangle((Ox, Oy), Lx, Ly, linewidth=1, edgecolor='black', facecolor='cyan')\n",
    "            ax = plt.gca()\n",
    "            ax.add_patch(rect)\n",
    "\n",
    "    plt.title(title +'\\n', fontsize = 16, weight=\"bold\")\n",
    "    \n",
    "    if lines_0:\n",
    "        plt.axhline(Y=0, linewidth=4, color='w')\n",
    "        plt.axvline(X=0, linewidth=4, color='w')\n",
    "        \n",
    "#     plt.gca().invert_xaxis()\n",
    "    plt.gca().set_aspect('equal')\n",
    "    ax = plt.gca()\n",
    "    # create an axes on the right side of ax. The width of cax will be 5%\n",
    "    # of ax and the padding between cax and ax will be fixed at 0.05 inch.\n",
    "    divider = make_axes_locatable(ax)\n",
    "    cax = divider.append_axes(\"right\", size=\"5%\", pad=0.05)\n",
    "    cbar = plt.colorbar(cax=cax, cmap=cmap, norm=norm)\n",
    "    if not((A < 0).any()):\n",
    "        try:\n",
    "            cbar.ax.set_yticklabels(cbar_ticks) #, fontsize=16, weight='bold')\n",
    "        except ValueError:\n",
    "            pass\n",
    "    cbar.ax.set_yticklabels([\"{:.1f}\".format(i) for i in cbar.get_ticks()])\n",
    "    cbar.set_label(label, rotation=270, fontsize = 16, weight=\"bold\", labelpad=20)\n",
    "                            \n",
    "    if (streamplot): \n",
    "        # Magnetic field lines\n",
    "        \n",
    "        if plane=='xy':\n",
    "            ax.streamplot(X, Y, Bx.transpose(), Bj.transpose(), linewidth=linewidth, density=density, color=\"lightgrey\")\n",
    "        if plane=='xz':\n",
    "            ax.streamplot(X, Z, Bx.transpose(), Bj.transpose(), linewidth=linewidth, density=density, color=\"lightgrey\")\n",
    "\n",
    "    ax.invert_xaxis()\n",
    "\n",
    "    try:\n",
    "        if save_dir and t_label:\n",
    "            title = title.replace(\" \", \"\")\n",
    "            title = title.replace(\".\", \"\")\n",
    "            title = title.replace(\"#\", \"\")\n",
    "            title = title.replace(\"é\", \"e\")\n",
    "            svg_name = t_label + title + '_' + plane + run_name\n",
    "            plt.savefig(save_dir + svg_name + \".png\",\n",
    "                        transparent = True, bbox_inches='tight', pad_inches=0.1)\n",
    "    except: \n",
    "        print(\"Please specify both save_dir and t_label\")\n",
    "        \n",
    "    if not(loop):\n",
    "        plt.show()\n",
    "                  \n",
    "    return ax"
   ]
  },
  {
   "cell_type": "code",
   "execution_count": null,
   "metadata": {},
   "outputs": [],
   "source": [
    "cubes_xy_sw['right']['coord']"
   ]
  },
  {
   "cell_type": "markdown",
   "metadata": {},
   "source": [
    "### Plots"
   ]
  },
  {
   "cell_type": "code",
   "execution_count": null,
   "metadata": {
    "scrolled": false
   },
   "outputs": [],
   "source": [
    "xmin = min(X)\n",
    "xmax = 3*abs(xmin)   #Most of the length in the x direction is used to give space for the sheath to form\n",
    "                     #It is not really interesting\n",
    "zoom = (xmin, xmax, min(Y), max(Y), min(Z), max(Z))\n",
    "zoom = (-100, 70, -200, 200, -200, 200)\n",
    "\n",
    "# %matplotlib notebook"
   ]
  },
  {
   "cell_type": "markdown",
   "metadata": {},
   "source": [
    "#### Density"
   ]
  },
  {
   "cell_type": "code",
   "execution_count": null,
   "metadata": {},
   "outputs": [],
   "source": [
    "plot_colormap(N[:,:,nz0], f'Density at {time} in (xy)', r'N (cm$^{-3}$)', 'xy',\n",
    "              cubes = [cubes_xy_sw['right']['coord'],\n",
    "                       cubes_xy_bs['right']['coord'],\n",
    "                       cubes_xy_mp['right']['coord']],\n",
    "                 save_dir = storing_directory, t_label = time_label, zoom = zoom)"
   ]
  },
  {
   "cell_type": "code",
   "execution_count": null,
   "metadata": {},
   "outputs": [],
   "source": [
    "plot_colormap(N[:,ny0,:], f'Density at {time} in (xz)', r'N (cm$^{-3}$)', 'xz',\n",
    "              cubes = [cubes_xz_sw['right']['coord'],\n",
    "                       cubes_xz_bs['right']['coord'],\n",
    "                       cubes_xz_mp['right']['coord']],\n",
    "                 save_dir = storing_directory, t_label = time_label, zoom = zoom)"
   ]
  },
  {
   "cell_type": "markdown",
   "metadata": {},
   "source": [
    "#### Current"
   ]
  },
  {
   "cell_type": "code",
   "execution_count": null,
   "metadata": {},
   "outputs": [],
   "source": [
    "slice_x = slice(None)\n",
    "slice_y = slice(None)\n",
    "slice_z = slice(nz0-1, nz0+1)\n",
    "slices = (slice_x, slice_y, slice_z)\n",
    "\n",
    "mag_J = np.sqrt(MD.Jx(B, slices)[:,:,1]**2 + MD.Jy(B, slices)[:,:,1]**2 + MD.Jz(B, slices)[:,:,1]**2)\n",
    "\n",
    "plot_colormap(mag_J, f'J in plane (x,y) at {time}', 'J (nA/m²)', 'xy',\n",
    "              ratio_max_to_med = 80,\n",
    "              cubes = [cubes_xy_sw['right']['coord'],\n",
    "                       cubes_xy_bs['right']['coord'],\n",
    "                       cubes_xy_mp['right']['coord']],\n",
    "              save_dir = storing_directory, t_label = time_label, zoom = zoom)"
   ]
  },
  {
   "cell_type": "code",
   "execution_count": null,
   "metadata": {},
   "outputs": [],
   "source": [
    "%matplotlib notebook\n",
    "\n",
    "slice_x = slice(None)\n",
    "slice_y = slice(ny0-1, ny0+1)\n",
    "slice_z = slice(None)\n",
    "slices = (slice_x, slice_y, slice_z)\n",
    "\n",
    "mag_J = np.sqrt(MD.Jx(B, slices)[:,1,:]**2 + MD.Jy(B, slices)[:,1,:]**2 + MD.Jz(B, slices)[:,1,:]**2)\n",
    "\n",
    "plot_colormap(mag_J, f'J in plane (x,z) at {time}', 'J (nA/m²)', 'xz',\n",
    "              ratio_max_to_med = 80,\n",
    "              cubes = [cubes_xz_sw['right']['coord'],\n",
    "                       cubes_xz_bs['right']['coord'],\n",
    "                       cubes_xz_mp['right']['coord']],\n",
    "              save_dir = storing_directory, t_label = time_label, zoom = zoom)"
   ]
  },
  {
   "cell_type": "markdown",
   "metadata": {},
   "source": [
    "#### Velocity"
   ]
  },
  {
   "cell_type": "code",
   "execution_count": null,
   "metadata": {},
   "outputs": [],
   "source": [
    "mag_V = np.sqrt( Vx[:,:,nz0]**2\n",
    "                +Vy[:,:,nz0]**2\n",
    "                +Vz[:,:,nz0]**2 )\n",
    "\n",
    "np.nan_to_num(mag_V, 0)\n",
    "\n",
    "plot_colormap(mag_V, title = f'V in plane (x,y) at {time}', label = 'V (km/s)', plane = 'xy',\n",
    "              ratio_max_to_med = 1.4,\n",
    "              cubes = [cubes_xy_sw['right']['coord'],\n",
    "                       cubes_xy_bs['right']['coord'],\n",
    "                       cubes_xy_mp['right']['coord']],\n",
    "                 save_dir = storing_directory, t_label = time_label, zoom = zoom)"
   ]
  },
  {
   "cell_type": "markdown",
   "metadata": {},
   "source": [
    "#### Magnetic field"
   ]
  },
  {
   "cell_type": "code",
   "execution_count": null,
   "metadata": {},
   "outputs": [],
   "source": [
    "mag_B = np.sqrt( Bx[:,:,nz0]**2\n",
    "                +By[:,:,nz0]**2\n",
    "                +Bz[:,:,nz0]**2 )\n",
    "\n",
    "plot_colormap(mag_B, title = f'B in plane (x,y) at {time}', label = 'B (nT)', plane = 'xy',\n",
    "              ratio_max_to_med = 1.4,\n",
    "              save_dir = storing_directory, t_label = time_label, zoom = zoom,\n",
    "              density = 17.5, streamplot = True, Bx = Bx[:,:,nz0], Bj = By[:,:,nz0])"
   ]
  },
  {
   "cell_type": "code",
   "execution_count": null,
   "metadata": {
    "code_folding": []
   },
   "outputs": [],
   "source": [
    "plot_colormap(Bx[:,:,nz0], title = f'Bx in plane (x,y) at {time}', label = 'Bx (nT)', plane = 'xy',\n",
    "              save_dir = storing_directory, t_label = time_label, zoom = zoom)\n",
    "\n",
    "plot_colormap(By[:,:,nz0], title = f'By in plane (x,y) at {time}', label = 'By (nT)', plane = 'xy',\n",
    "              save_dir = storing_directory, t_label = time_label, zoom = zoom)\n",
    "\n",
    "plot_colormap(Bz[:,:,nz0], title = f'Bz in plane (x,y) at {time}', label = 'Bz (nT)', plane = 'xy',\n",
    "              save_dir = storing_directory, t_label = time_label, zoom = zoom)"
   ]
  },
  {
   "cell_type": "markdown",
   "metadata": {},
   "source": [
    "## Generate relevant data"
   ]
  },
  {
   "cell_type": "markdown",
   "metadata": {},
   "source": [
    "### Define cubes"
   ]
  },
  {
   "cell_type": "code",
   "execution_count": null,
   "metadata": {},
   "outputs": [],
   "source": [
    "# Simple geometry assumption: shock normal is along x. This is not completely true.\n",
    "# Should we do something about it? It's tough because we don't have that many grid cells to play with.\n",
    "\n",
    "\n",
    "def function_data_in_cube(cube, data1, data2=None, function1=MD.identity, function_both=None):\n",
    "    \n",
    "    '''\n",
    "    Returns the mean value of data in the different cubes.\n",
    "    If data is a vector (len(data)==3), then the function returns the mean value the norm(data[cubes])\n",
    "    '''\n",
    "                  \n",
    "    ixmin, ixmax, iymin, iymax, izmin, izmax = cube\n",
    "        \n",
    "    slices = (slice(ixmin, ixmax), slice(iymin, iymax), slice(izmin, izmax))\n",
    "        \n",
    "    if (not(data2)):                       \n",
    "        result = function1( data1, slices )\n",
    "            \n",
    "    else:\n",
    "        result = function_both( function1( data1, slices ), [data2[0][slices],\n",
    "                                                             data2[1][slices],\n",
    "                                                             data2[2][slices]] )\n",
    "    data_in_cube = []        \n",
    "    if (len(result) == 3):\n",
    "        data_in_cube.append( (np.nanmean(result[0]), np.nanmean(result[1]), np.nanmean(result[2])) )\n",
    "    else:\n",
    "        data_in_cube.append( np.nanmean(result) )\n",
    "\n",
    "        \n",
    "\n",
    "    return data_in_cube"
   ]
  },
  {
   "cell_type": "markdown",
   "metadata": {},
   "source": [
    "### Data in cubes"
   ]
  },
  {
   "cell_type": "markdown",
   "metadata": {
    "heading_collapsed": true
   },
   "source": [
    "#### Draft values"
   ]
  },
  {
   "cell_type": "code",
   "execution_count": null,
   "metadata": {
    "hidden": true
   },
   "outputs": [],
   "source": [
    "E_xy_left  = function_data_in_cube(cubes_xy['left' ], E, function1=MD.norm)[0]\n",
    "E_xz_left  = function_data_in_cube(cubes_xz['left' ], E, function1=MD.norm)[0]\n",
    "\n",
    "E_xy_right = function_data_in_cube(cubes_xy['right'], E, function1=MD.norm)[0]\n",
    "E_xz_right = function_data_in_cube(cubes_xz['right'], E, function1=MD.norm)[0]\n",
    "\n",
    "E_vec_xy_left  = function_data_in_cube(cubes_xy['left' ], E)[0]\n",
    "E_vec_xz_left  = function_data_in_cube(cubes_xz['left' ], E)[0]\n",
    "\n",
    "E_vec_xy_right = function_data_in_cube(cubes_xy['right'], E)[0]\n",
    "E_vec_xz_right = function_data_in_cube(cubes_xz['right'], E)[0]\n",
    "\n",
    "print(f\"E_xy_left = {E_xy_left:0.1f} (mV)\")\n",
    "print(f\"E_xz_left = {E_xz_left:0.1f} (mV)\")\n",
    "\n",
    "print(f\"E_xy_right = {E_xy_right:0.1f} (mV)\")\n",
    "print(f\"E_xz_right = {E_xz_right:0.1f} (mV)\")\n",
    "\n",
    "print(f\"E_vec_xy_left = {E_vec_xy_left} (mV)\")\n",
    "print(f\"E_vec_xz_left = {E_vec_xz_left} (mV)\")\n",
    "\n",
    "print(f\"E_vec_xy_right = {E_vec_xy_right} (mV)\")\n",
    "print(f\"E_vec_xz_right = {E_vec_xz_right} (mV)\")"
   ]
  },
  {
   "cell_type": "code",
   "execution_count": null,
   "metadata": {
    "hidden": true
   },
   "outputs": [],
   "source": [
    "cubes_xy = cubes(position_shock_xy, 'xy')\n",
    "cubes_xz = cubes(position_shock_xz, 'xz')"
   ]
  },
  {
   "cell_type": "code",
   "execution_count": null,
   "metadata": {
    "hidden": true
   },
   "outputs": [],
   "source": [
    "T_xy_left  = function_data_in_cube(cubes_xy['left' ], T)[0]\n",
    "T_xz_left  = function_data_in_cube(cubes_xz['left' ], T)[0]\n",
    "\n",
    "T_xy_right = function_data_in_cube(cubes_xy['right'], T)[0]\n",
    "T_xz_right = function_data_in_cube(cubes_xz['right'], T)[0]\n",
    "\n",
    "print(f\"T_xy_left = {T_xy_left:.0f} (K)\")\n",
    "print(f\"T_xz_left = {T_xz_left:.0f} (K)\")\n",
    "\n",
    "print(f\"T_xy_right = {T_xy_right:.0f} (K)\")\n",
    "print(f\"T_xz_right = {T_xz_right:.0f} (K)\")"
   ]
  },
  {
   "cell_type": "code",
   "execution_count": null,
   "metadata": {
    "hidden": true
   },
   "outputs": [],
   "source": [
    "J_xy_left = function_data_in_cube(cubes_xy['left'], B, function1=MD.J)[0]\n",
    "J_xz_left = function_data_in_cube(cubes_xz['left'], B, function1=MD.J)[0]\n",
    "\n",
    "J_xy_right = function_data_in_cube(cubes_xy['right'], B, function1=MD.J)[0]\n",
    "J_xz_right = function_data_in_cube(cubes_xz['right'], B, function1=MD.J)[0]\n",
    "\n",
    "Jx_xy_left = function_data_in_cube(cubes_xy['left'], B, function1=MD.Jx)[0]\n",
    "Jx_xz_left = function_data_in_cube(cubes_xz['left'], B, function1=MD.Jx)[0]\n",
    "\n",
    "Jx_xy_right = function_data_in_cube(cubes_xy['right'], B, function1=MD.Jx)[0]\n",
    "Jx_xz_right = function_data_in_cube(cubes_xz['right'], B, function1=MD.Jx)[0]\n",
    "\n",
    "Jy_xy_left = function_data_in_cube(cubes_xy['left'], B, function1=MD.Jy)[0]\n",
    "Jy_xz_left = function_data_in_cube(cubes_xz['left'], B, function1=MD.Jy)[0]\n",
    "\n",
    "Jy_xy_right = function_data_in_cube(cubes_xy['right'], B, function1=MD.Jy)[0]\n",
    "Jy_xz_right = function_data_in_cube(cubes_xz['right'], B, function1=MD.Jy)[0]\n",
    "\n",
    "Jz_xy_left = function_data_in_cube(cubes_xy['left'], B, function1=MD.Jz)[0]\n",
    "Jz_xz_left = function_data_in_cube(cubes_xz['left'], B, function1=MD.Jz)[0]\n",
    "\n",
    "Jz_xy_right = function_data_in_cube(cubes_xy['right'], B, function1=MD.Jz)[0]\n",
    "Jz_xz_right = function_data_in_cube(cubes_xz['right'], B, function1=MD.Jz)[0]"
   ]
  },
  {
   "cell_type": "code",
   "execution_count": null,
   "metadata": {
    "hidden": true
   },
   "outputs": [],
   "source": [
    "#conversion to SI:\n",
    "b = 1e-9\n",
    "n = 1e6\n",
    "v = 1e3\n",
    "t = 11605\n",
    "#put pressure in nPa\n",
    "p = 1e9"
   ]
  },
  {
   "cell_type": "code",
   "execution_count": null,
   "metadata": {
    "hidden": true,
    "scrolled": true
   },
   "outputs": [],
   "source": [
    "Pmag_xy_left = function_data_in_cube(cubes_xy['left'], p*(b*MD.norm(B))**2/(2*MD.µ0))[0]\n",
    "Pmag_xz_left = function_data_in_cube(cubes_xz['left'], p*(b*MD.norm(B))**2/(2*MD.µ0))[0]\n",
    "\n",
    "Pmag_xy_right = function_data_in_cube(cubes_xy['right'], p*(b*MD.norm(B))**2/(2*MD.µ0))[0]\n",
    "Pmag_xz_right = function_data_in_cube(cubes_xz['right'], p*(b*MD.norm(B))**2/(2*MD.µ0))[0]\n",
    "\n",
    "print(f\"Pmag_xy_left = {Pmag_xy_left:.1f} nPa\")\n",
    "print(f\"Pmag_xz_left = {Pmag_xz_left:.1f} nPa\")\n",
    "\n",
    "print(f\"Pmag_xy_right = {Pmag_xy_right:.1f} nPa\")\n",
    "print(f\"Pmag_xz_right = {Pmag_xz_right:.1f} nPa\")"
   ]
  },
  {
   "cell_type": "code",
   "execution_count": null,
   "metadata": {
    "hidden": true
   },
   "outputs": [],
   "source": [
    "Pdyn_xy_left = function_data_in_cube(cubes_xy['left'], p*(1./2)*MD.mp*(n*N)*(v*MD.norm(V))**2)[0]\n",
    "Pdyn_xz_left = function_data_in_cube(cubes_xz['left'], p*(1./2)*MD.mp*(n*N)*(v*MD.norm(V))**2)[0]\n",
    "\n",
    "Pdyn_xy_right = function_data_in_cube(cubes_xy['right'], p*(1./2)*MD.mp*(n*N)*(v*MD.norm(V))**2)[0]\n",
    "Pdyn_xz_right = function_data_in_cube(cubes_xz['right'], p*(1./2)*MD.mp*(n*N)*(v*MD.norm(V))**2)[0]\n",
    "\n",
    "print(f\"Pdyn_xy_left = {Pdyn_xy_left:.1f} nPa\")\n",
    "print(f\"Pdyn_xz_left = {Pdyn_xz_left:.1f} nPa\")\n",
    "\n",
    "print(f\"Pdyn_xy_right = {Pdyn_xy_right:.1f} nPa\")\n",
    "print(f\"Pdyn_xz_right = {Pdyn_xz_right:.1f} nPa\")"
   ]
  },
  {
   "cell_type": "code",
   "execution_count": null,
   "metadata": {
    "hidden": true
   },
   "outputs": [],
   "source": [
    "Pth_xy_left = function_data_in_cube(cubes_xy['left'], p*MD.kB*(n*N)*(t*T))[0]\n",
    "Pth_xz_left = function_data_in_cube(cubes_xz['left'], p*MD.kB*(n*N)*(t*T))[0]\n",
    "\n",
    "Pth_xy_right = function_data_in_cube(cubes_xy['right'], p*MD.kB*(n*N)*(t*T))[0]\n",
    "Pth_xz_right = function_data_in_cube(cubes_xz['right'], p*MD.kB*(n*N)*(t*T))[0]\n",
    "\n",
    "print(f\"Pth_xy_left = {Pth_xy_left:.1f} nPa\")\n",
    "print(f\"Pth_xz_left = {Pth_xz_left:.1f} nPa\")\n",
    "\n",
    "print(f\"Pth_xy_right = {Pth_xy_right:.1f} nPa\")\n",
    "print(f\"Pth_xz_right = {Pth_xz_right:.1f} nPa\")"
   ]
  },
  {
   "cell_type": "code",
   "execution_count": null,
   "metadata": {
    "hidden": true
   },
   "outputs": [],
   "source": [
    "# VA_xy_left = B_xy_left*b / np.sqrt(MD.µ0 * MD.mp * N_xy_left*n) / v\n",
    "\n",
    "# va_test_1 = VA_xy_left\n",
    "# va_test_2 = np.sqrt(2*Pmag_xy_left/p / (MD.mp * N_xy_left*n)) / v\n",
    "# digits = 3\n",
    "# print(va_test_1, va_test_2)"
   ]
  },
  {
   "cell_type": "code",
   "execution_count": null,
   "metadata": {
    "hidden": true
   },
   "outputs": [],
   "source": [
    "VA_xy_left = B_xy_left*b / np.sqrt(MD.µ0 * MD.mp * N_xy_left*n) / v\n",
    "VA_xz_left = B_xz_left*b / np.sqrt(MD.µ0 * MD.mp * N_xz_left*n) / v\n",
    "\n",
    "VA_xy_right = B_xy_right*b / np.sqrt(MD.µ0 * MD.mp * N_xy_right*n) / v\n",
    "VA_xz_right = B_xz_right*b / np.sqrt(MD.µ0 * MD.mp * N_xz_right*n) / v\n",
    "\n",
    "\n",
    "print(f\"VA_xy_left = {VA_xy_left:.0f} (km/s)\")\n",
    "print(f\"VA_xz_left = {VA_xz_left:.0f} (km/s)\")\n",
    "\n",
    "print(f\"VA_xy_right = {VA_xy_right:.0f} (km/s)\")\n",
    "print(f\"VA_xz_right = {VA_xz_right:.0f} (km/s)\")"
   ]
  },
  {
   "cell_type": "markdown",
   "metadata": {},
   "source": [
    "#### Proper def"
   ]
  },
  {
   "cell_type": "code",
   "execution_count": null,
   "metadata": {},
   "outputs": [],
   "source": [
    "def all_info(cubes):\n",
    "    B_left  = function_data_in_cube(cubes['left' ]['index'], B, function1=MD.norm)[0]\n",
    "    B_right = function_data_in_cube(cubes['right']['index'], B, function1=MD.norm)[0]\n",
    "    \n",
    "    B_vec_left  = function_data_in_cube(cubes['left' ]['index'], B)[0]\n",
    "    B_vec_right = function_data_in_cube(cubes['right']['index'], B)[0]\n",
    "    \n",
    "    V_left  = function_data_in_cube(cubes['left' ]['index'], V, function1=MD.norm)[0]\n",
    "    V_right = function_data_in_cube(cubes['right']['index'], V, function1=MD.norm)[0]\n",
    "    \n",
    "    V_vec_left  = function_data_in_cube(cubes['left' ]['index'], V)[0]\n",
    "    V_vec_right = function_data_in_cube(cubes['right']['index'], V)[0]\n",
    "    \n",
    "    N_left  = function_data_in_cube(cubes['left' ]['index'], N)[0]\n",
    "    N_right = function_data_in_cube(cubes['right']['index'], N)[0]\n",
    "    \n",
    "    V_shock = (N_left*V_left - N_right*V_right) / (N_left - N_right)\n",
    "    \n",
    "    dic = {'B_left': B_left, 'B_right': B_right,\n",
    "           'B_vec_left': B_vec_left, 'B_vec_right': B_vec_right,\n",
    "           'V_left': V_left, 'V_right': V_right,\n",
    "           'V_vec_left': V_vec_left, 'V_vec_right': V_vec_right,\n",
    "           'N_left': N_left, 'N_right': N_right,\n",
    "           'V_shock': V_shock}\n",
    "    \n",
    "#     print(dic)\n",
    "    \n",
    "    return dic"
   ]
  },
  {
   "cell_type": "markdown",
   "metadata": {},
   "source": [
    "## Check Hypotheses"
   ]
  },
  {
   "cell_type": "markdown",
   "metadata": {},
   "source": [
    "### Shock velocity constant in plasma frame / The IP shock \"rides\" the bulk plasma $$(v_s-v_{bulk})^{sw} = (v_s-v_{bulk})^{msh}$$"
   ]
  },
  {
   "cell_type": "code",
   "execution_count": null,
   "metadata": {},
   "outputs": [],
   "source": [
    "#Method_1, compute V_shock with Rankine-Hugoniot\n",
    "\n",
    "for cubes in [cubes_xy_sw, cubes_xy_bs, cubes_xy_mp]:\n",
    "    print(all_info(cubes)['V_shock'] - all_info(cubes)['V_right'])\n",
    "    \n",
    "for cubes in [cubes_xz_sw, cubes_xz_bs, cubes_xz_mp]:\n",
    "    print(all_info(cubes)['V_shock'] - all_info(cubes)['V_right'])"
   ]
  },
  {
   "cell_type": "code",
   "execution_count": null,
   "metadata": {},
   "outputs": [],
   "source": [
    "# for cubes in [cubes_xy_sw, cubes_xy_bs, cubes_xy_mp]:\n",
    "#     print(all_info(cubes)['V_shock'])\n",
    "    \n",
    "# for cubes in [cubes_xz_sw, cubes_xz_bs, cubes_xz_mp]:\n",
    "#     print(all_info(cubes)['V_shock'])   "
   ]
  },
  {
   "cell_type": "code",
   "execution_count": null,
   "metadata": {},
   "outputs": [],
   "source": [
    "#Method_2, Use Shock_tracking_read_slices to compute V_shock\n",
    "\n",
    "V_shock_sw_y180 = 792\n",
    "V_shock_bs_y135 = 660\n",
    "V_shock_mp_y90  = 645\n",
    "\n",
    "V_shock_sw_z186 = 782\n",
    "V_shock_bs_z150 = 760\n",
    "V_shock_mp_z80  = 911\n",
    "\n",
    "for (v,cubes) in [(V_shock_sw_y180, cubes_xy_sw), (V_shock_bs_y135, cubes_xy_bs), (V_shock_mp_y90, cubes_xy_mp)]:\n",
    "    print(v - all_info(cubes)['V_right'])\n",
    "    \n",
    "for (v,cubes) in [(V_shock_sw_z186, cubes_xz_sw), (V_shock_bs_z150, cubes_xz_bs), (V_shock_mp_z80, cubes_xz_mp)]:\n",
    "    print(v - all_info(cubes)['V_right'])"
   ]
  }
 ],
 "metadata": {
  "kernelspec": {
   "display_name": "Python 3",
   "language": "python",
   "name": "python3"
  },
  "language_info": {
   "codemirror_mode": {
    "name": "ipython",
    "version": 3
   },
   "file_extension": ".py",
   "mimetype": "text/x-python",
   "name": "python",
   "nbconvert_exporter": "python",
   "pygments_lexer": "ipython3",
   "version": "3.6.12"
  }
 },
 "nbformat": 4,
 "nbformat_minor": 2
}
