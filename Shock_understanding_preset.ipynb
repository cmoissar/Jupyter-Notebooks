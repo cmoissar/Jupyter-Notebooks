{
 "cells": [
  {
   "cell_type": "markdown",
   "metadata": {
    "heading_collapsed": true
   },
   "source": [
    "## Import modules and functions"
   ]
  },
  {
   "cell_type": "code",
   "execution_count": 1,
   "metadata": {
    "hidden": true
   },
   "outputs": [
    {
     "name": "stdout",
     "output_type": "stream",
     "text": [
      "importing Jupyter notebook from Module_Diagnostics.ipynb\n",
      "testing compute_RMS(...):\n",
      "This should be close to 1: 0.9544477926666817\n",
      "This should be close to 0: 0.0\n"
     ]
    }
   ],
   "source": [
    "# -*- coding: utf-8 -*-\n",
    "from __future__ import print_function\n",
    "\n",
    "import numpy as np\n",
    "import matplotlib.pyplot as plt\n",
    "from mpl_toolkits.axes_grid1 import make_axes_locatable\n",
    "from matplotlib.ticker import MaxNLocator\n",
    "from matplotlib.colors import BoundaryNorm\n",
    "import matplotlib.patches as patches\n",
    "\n",
    "import matplotlib.pyplot as plt\n",
    "import pylab as pl\n",
    "import numpy as np\n",
    "import glob\n",
    "import re\n",
    "import os\n",
    "import math\n",
    "\n",
    "import pylab as pl\n",
    "import matplotlib\n",
    "from matplotlib.colors import BoundaryNorm\n",
    "from matplotlib.ticker import MaxNLocator\n",
    "from matplotlib import rcParams\n",
    "from scipy.signal import savgol_filter\n",
    "\n",
    "from matplotlib.gridspec    import GridSpec\n",
    "import import_ipynb\n",
    "\n",
    "import Module_Diagnostics as MD\n",
    "import numpy as np\n",
    "from tempfile import mkdtemp\n",
    "import os.path as path\n",
    "import sys\n",
    "\n",
    "from pathlib import Path\n",
    "import json\n",
    "\n",
    "#Debugger. For some reason, using it inside a function works well. Otherwise...\n",
    "from IPython.core.debugger import set_trace\n",
    "#exemple: \n",
    "# def debug():\n",
    "#     set_trace()\n",
    "    \n",
    "#     `code_to_debug`\n",
    "    \n",
    "#     return\n",
    "\n",
    "# debug()"
   ]
  },
  {
   "cell_type": "markdown",
   "metadata": {
    "heading_collapsed": true
   },
   "source": [
    "## Plot parameters"
   ]
  },
  {
   "cell_type": "code",
   "execution_count": 2,
   "metadata": {
    "hidden": true
   },
   "outputs": [],
   "source": [
    "# %matplotlib notebook\n",
    "rcParams[\"figure.figsize\"] = [9.4, 4.8]\n",
    "# matplotlib.use('nbagg') #_comment this line if you don't need to interact with plots (zoom, translations, savings...)"
   ]
  },
  {
   "cell_type": "markdown",
   "metadata": {
    "heading_collapsed": true
   },
   "source": [
    "## Choose run and time for analysis"
   ]
  },
  {
   "cell_type": "code",
   "execution_count": 3,
   "metadata": {
    "hidden": true
   },
   "outputs": [
    {
     "name": "stdout",
     "output_type": "stream",
     "text": [
      "date of the simulation (DD_MM_YY): 18_08_20\n",
      "time dump (in 1/omega_ci): 00231\n"
     ]
    }
   ],
   "source": [
    "run_name = 'RUN_NAME'\n",
    "\n",
    "loop = False #LOOP #(LOOP is a boolean)\n",
    "time = 230 #TIME\n",
    "time = '%05d' % time    # Change the time to string format, needed by functions\n",
    "\n",
    "### Only for use:\n",
    "\n",
    "#if working on lx-moissard\n",
    "Cluster = 'Occ/'\n",
    "run_name = '20_08_18_new_big_one_0'\n",
    "# run_name = '20_09_07_start_big_one_2_bis'\n",
    "# run_name = \"20_05_18_event_only\"\n",
    "filepath = '/data/Lathys/Visualisation/' + Cluster + run_name + '/ncfiles/'\n",
    "\n",
    "#if working on occigene\n",
    "# filepath = '../ncfiles/'\n",
    "\n",
    "try:\n",
    "    date = re.search('Magw_(.+?)_t', glob.glob(filepath+'Magw*_t'+time+'.nc')[0]).group(1)\n",
    "except (IndexError, AttributeError): \n",
    "    sys.exit(f\"\"\"time_dump {time} does not appear to have data.\n",
    "             Let us go to the next time_dump\"\"\")\n",
    "\n",
    "print(f'date of the simulation (DD_MM_YY): {date}')\n",
    "print(f'time dump (in 1/omega_ci): {time}')\n",
    "\n",
    "#This is used by the functions find_ip_shock(N, V) and find_mc_leading_edge(B)\n",
    "metadata = {'t_shock_entrance' : 130,\n",
    "            't_shock_exit'     : 240,\n",
    "            't_MC_entrance'    : 130,\n",
    "            't_MC_exit'        : 270}\n",
    "#todo: autodefine t_collision? maybe from story_reader will be easier, as lines will cross on the multivariate plot"
   ]
  },
  {
   "cell_type": "code",
   "execution_count": 4,
   "metadata": {
    "hidden": true
   },
   "outputs": [],
   "source": [
    "# Prepare for plt.savefig\n",
    "storing_directory = filepath + \"../structure_images/\"\n",
    "path_png = Path(storing_directory)\n",
    "time_label = f\"t{time}\"\n",
    "if path_png.exists():\n",
    "    pass\n",
    "else:\n",
    "    path_png.mkdir()"
   ]
  },
  {
   "cell_type": "code",
   "execution_count": 5,
   "metadata": {
    "hidden": true
   },
   "outputs": [],
   "source": [
    "storing_directory_json = filepath + \"../json_files/\"\n",
    "\n",
    "path_store_json = Path(storing_directory_json)\n",
    "\n",
    "if not(path_store_json.exists()):\n",
    "    os.system(f'mkdir {path_store_json}')\n",
    "\n",
    "name = \"sav_shock_understanding_\" + run_name + \".json\"\n",
    "path_json = Path(storing_directory_json + name)"
   ]
  },
  {
   "cell_type": "code",
   "execution_count": 6,
   "metadata": {
    "hidden": true
   },
   "outputs": [],
   "source": [
    "#The next line links directly to my PhD_Manuscript on Overleaf.com\n",
    "#Saving plots there means that I do not need to worry about having the very last versions before\n",
    "#starting to write about it in Overleaf, since they will always be up-to-date.\n",
    "\n",
    "#IMPORTANT: for it to work, add the following line to ~/.bashrc\n",
    "#export DROPBOX=\"/home/moissard/Dropbox\" (to adapt to the particular machine)\n",
    "dropbox = os.environ['DROPBOX']\n",
    "dropbox_dir = dropbox + \"/Apps/Overleaf/PhD_Manuscript/Images/LATHYS/\"\n",
    "\n",
    "# plt.savefig(dropbox_dir + '/' + saving_title + run_name + \".png\",\n",
    "#             transparent=True, bbox_inches='tight', pad_inches=0.1)\n",
    "\n",
    "#If not working on the manuscript anymore, avoid changing images there by mistake\n",
    "dropbox_dir = storing_directory"
   ]
  },
  {
   "cell_type": "markdown",
   "metadata": {
    "heading_collapsed": true
   },
   "source": [
    "## Load data to large 3D arrays: N, (Bx, By, Bz), _etc._"
   ]
  },
  {
   "cell_type": "markdown",
   "metadata": {
    "hidden": true
   },
   "source": [
    "#### Clear /tmp"
   ]
  },
  {
   "cell_type": "code",
   "execution_count": 7,
   "metadata": {
    "hidden": true
   },
   "outputs": [
    {
     "name": "stdout",
     "output_type": "stream",
     "text": [
      "Clearing up /tmp/ ...\n",
      "Indeed by using memmap, this code creates heavy temporary files\n"
     ]
    },
    {
     "data": {
      "text/plain": [
       "256"
      ]
     },
     "execution_count": 7,
     "metadata": {},
     "output_type": "execute_result"
    }
   ],
   "source": [
    "print(\"\"\"Clearing up /tmp/ ...\n",
    "Indeed by using memmap, this code creates heavy temporary files\"\"\")\n",
    "#Note: >/dev/null 2>&1 makes the system silent. Usually this command raises a lot of\n",
    "# 'Action not permitted'. But that's fine. Nothing to debug here. tmp/ is full of\n",
    "# files that should not be deleted, which are protected by root privileges.\n",
    "os.system('rm -rf /tmp/* >/dev/null 2>&1')"
   ]
  },
  {
   "cell_type": "markdown",
   "metadata": {
    "hidden": true
   },
   "source": [
    "### Upload B, n, E, T, V"
   ]
  },
  {
   "cell_type": "code",
   "execution_count": 8,
   "metadata": {
    "hidden": true,
    "scrolled": false
   },
   "outputs": [
    {
     "name": "stdout",
     "output_type": "stream",
     "text": [
      "Importing Magw 3D from /data/Lathys/Visualisation/Occ/20_08_18_new_big_one_0/ncfiles/\n",
      "Reading Bx...\n",
      "Reading By...\n",
      "Reading Bz...\n",
      "Close file and return...\n",
      "storing Magnetic field in a memmap\n",
      "deleting Magw to alleviate RAM\n",
      "Importing Elew 3D from /data/Lathys/Visualisation/Occ/20_08_18_new_big_one_0/ncfiles/\n",
      "Reading Ex...\n",
      "Reading Ey...\n",
      "Reading Ez...\n",
      "Close file and return...\n",
      "storing Electric field in a memmap\n",
      "deleting Elew to alleviate RAM\n",
      "Importing Hsw 3D from /data/Lathys/Visualisation/Occ/20_08_18_new_big_one_0/ncfiles/\n",
      "Reading density...\n",
      "Reading Ux...\n",
      "Reading Uy...\n",
      "Reading Uz...\n",
      "Reading T...\n",
      "Close file and return...\n",
      "storing Plasma parameters in memmaps\n",
      "deleting Hsw to alleviate RAM\n"
     ]
    }
   ],
   "source": [
    "## Load B and X, Y, Z\n",
    "\n",
    "# There might be some MemoryError. In that case, follow the guide:\n",
    "# https://stackoverflow.com/questions/60563936/memoryerror-unable-to-allocate-3-78-gib-for-an-array-with-shape-802-842-1502\n",
    "Magw = MD.import_data_3D(filepath, date, time, 'Magw')\n",
    "\n",
    "cwp = Magw['c_omegapi'][0]\n",
    "gstep = Magw['gstep']\n",
    "r_planet = Magw['r_planet'][0]\n",
    "\n",
    "#Thomas Huret recommands shifting the axes so that the planet is indeed in (0,0,0)\n",
    "#It has got something to do with lists starting at 1 instead of 0 in Fortran...?\n",
    "X = np.array(np.around(Magw['x']))#+gstep[0]  \n",
    "Y = np.array(np.around(Magw['y']))#+gstep[1]\n",
    "Z = np.array(np.around(Magw['z']))#-gstep[2]\n",
    "\n",
    "nx,  ny,  nz  = len(X), len(Y), len(Z)\n",
    "# Location of the planet is defined in the .ncfiles as (x,y,z) = (0,0,0)\n",
    "# Location of the planet is defined in the .ncfiles as (x,y,z) = (0,0,0)\n",
    "nx0, ny0, nz0 = ( int(np.where(abs(X)==min(abs(X)))[0]),\n",
    "                  int(np.where(abs(Y)==min(abs(Y)))[0]), \n",
    "                  int(np.where(abs(Z)==min(abs(Z)))[0])  )\n",
    "            \n",
    "# Use memmap to alleviate RAM\n",
    "# This stores big arrays on the disk, but in a way that still allows for most\n",
    "# operations available on an np.array\n",
    "print(\"storing Magnetic field in a memmap\")\n",
    "file_Bx = path.join(mkdtemp(), 'Bx.dat')            \n",
    "Bx = np.memmap(file_Bx, dtype='float32', mode='w+', shape=(nx,ny,nz))\n",
    "Bx[:] = Magw['Bx']\n",
    "file_By = path.join(mkdtemp(), 'By.dat')            \n",
    "By = np.memmap(file_By, dtype='float32', mode='w+', shape=(nx,ny,nz))\n",
    "By[:] = Magw['By']\n",
    "file_Bz = path.join(mkdtemp(), 'Bz.dat')            \n",
    "Bz = np.memmap(file_Bz, dtype='float32', mode='w+', shape=(nx,ny,nz))\n",
    "Bz[:] = Magw['Bz']\n",
    "print(\"deleting Magw to alleviate RAM\")\n",
    "del Magw\n",
    "B = [Bx, By, Bz]\n",
    "\n",
    "## Load E\n",
    "# Electric field in mV/m\n",
    "Elew = MD.import_data_3D(filepath, date, time, 'Elew')\n",
    "print(\"storing Electric field in a memmap\")\n",
    "file_Ex = path.join(mkdtemp(), 'Ex.dat')            \n",
    "Ex = np.memmap(file_Ex, dtype='float32', mode='w+', shape=(nx,ny,nz))\n",
    "Ex[:] = Elew['Ex']*1e6\n",
    "file_Ey = path.join(mkdtemp(), 'Ey.dat')            \n",
    "Ey = np.memmap(file_Ey, dtype='float32', mode='w+', shape=(nx,ny,nz))\n",
    "Ey[:] = Elew['Ey']*1e6\n",
    "file_Ez = path.join(mkdtemp(), 'Ez.dat')            \n",
    "Ez = np.memmap(file_Ez, dtype='float32', mode='w+', shape=(nx,ny,nz))\n",
    "Ez[:] = Elew['Ez']*1e6\n",
    "print(\"deleting Elew to alleviate RAM\")\n",
    "del Elew\n",
    "E = [Ex, Ey, Ez]\n",
    "\n",
    "## Load N, Vxyz, and T\n",
    "Hsw = MD.import_data_3D(filepath, date, time, 'Hsw')\n",
    "print(\"storing Plasma parameters in memmaps\")\n",
    "# Density in nb/cm^3\n",
    "file_N = path.join(mkdtemp(), 'N.dat')            \n",
    "N = np.memmap(file_N, dtype='float32', mode='w+', shape=(nx,ny,nz))\n",
    "N[:] = Hsw['n']\n",
    "# Velocity in km/s\n",
    "file_Vx = path.join(mkdtemp(), 'Vx.dat')            \n",
    "Vx = np.memmap(file_Vx, dtype='float32', mode='w+', shape=(nx,ny,nz))\n",
    "Vx[:] = Hsw['Vx']\n",
    "file_Vy = path.join(mkdtemp(), 'Vy.dat')            \n",
    "Vy = np.memmap(file_Vy, dtype='float32', mode='w+', shape=(nx,ny,nz))\n",
    "Vy[:] = Hsw['Vy']\n",
    "file_Vz = path.join(mkdtemp(), 'Vz.dat')            \n",
    "Vz = np.memmap(file_Vz, dtype='float32', mode='w+', shape=(nx,ny,nz))\n",
    "Vz[:] = Hsw['Vz']\n",
    "# Temperature in eV\n",
    "file_T = path.join(mkdtemp(), 'T.dat')            \n",
    "T = np.memmap(file_T, dtype='float32', mode='w+', shape=(nx,ny,nz))\n",
    "T[:] = Hsw['T']\n",
    "print(\"deleting Hsw to alleviate RAM\")\n",
    "del Hsw\n",
    "V = [Vx, Vy, Vz]"
   ]
  },
  {
   "cell_type": "code",
   "execution_count": 9,
   "metadata": {
    "hidden": true
   },
   "outputs": [
    {
     "data": {
      "text/plain": [
       "(1502, 722, 662)"
      ]
     },
     "execution_count": 9,
     "metadata": {},
     "output_type": "execute_result"
    }
   ],
   "source": [
    "np.shape(Bx)"
   ]
  },
  {
   "cell_type": "markdown",
   "metadata": {},
   "source": [
    "## Choose cubes"
   ]
  },
  {
   "cell_type": "markdown",
   "metadata": {},
   "source": [
    "### Def cubes"
   ]
  },
  {
   "cell_type": "code",
   "execution_count": null,
   "metadata": {},
   "outputs": [],
   "source": [
    "def cubes(position_shock):\n",
    "    \n",
    "    '''Defines two cubes: one on the left and one on the right side of\n",
    "       a point.'''\n",
    "    \n",
    "    distance = 5\n",
    "    size_cubes = 5 # Goals and poles. This will be a 3 by 3 cube.\n",
    "    \n",
    "    x_shock = position_shock[0]\n",
    "    y_shock = position_shock[1]\n",
    "    z_shock = position_shock[2]\n",
    "    \n",
    "    center_cube = x_shock, y_shock, z_shock\n",
    "\n",
    "    cube_x_max = x_shock + size_cubes/2\n",
    "    cube_x_min = x_shock - size_cubes/2\n",
    "    cube_y_max = y_shock + size_cubes/2\n",
    "    cube_y_min = y_shock - size_cubes/2\n",
    "    cube_z_max = z_shock + size_cubes/2\n",
    "    cube_z_min = z_shock - size_cubes/2\n",
    "\n",
    "    ix_min_left  = int(np.where(cube_x_min + distance <=X)[0][0])    \n",
    "    ix_max_left  = int(np.where(cube_x_max + distance <=X)[0][0])\n",
    "    ix_min_right = int(np.where(cube_x_min - distance <=X)[0][0])    \n",
    "    ix_max_right = int(np.where(cube_x_max - distance <=X)[0][0])\n",
    "    iy_min = int(np.where(cube_y_min<=Y)[0][0])\n",
    "    iy_max = int(np.where(cube_y_max<=Y)[0][0])\n",
    "    iz_min = int(np.where(cube_z_min<=Z)[0][0])\n",
    "    iz_max = int(np.where(cube_z_max<=Z)[0][0])\n",
    "    \n",
    "    cubes = {'left':\n",
    "              { 'coord': (cube_x_min+distance, cube_x_max+distance, cube_y_min, cube_y_max, cube_z_min, cube_z_max),\n",
    "                'index': (ix_min_left , ix_max_left , iy_min, iy_max, iz_min, iz_max) },\n",
    "             \n",
    "             'right': \n",
    "              { 'coord': (cube_x_min-distance, cube_x_max-distance, cube_y_min, cube_y_max, cube_z_min, cube_z_max),\n",
    "                'index': (ix_min_right, ix_max_right, iy_min, iy_max, iz_min, iz_max) }\n",
    "             }\n",
    "    \n",
    "    return cubes"
   ]
  },
  {
   "cell_type": "markdown",
   "metadata": {},
   "source": [
    "### Locate cubes"
   ]
  },
  {
   "cell_type": "code",
   "execution_count": null,
   "metadata": {},
   "outputs": [],
   "source": [
    "#for '20_08_18_new_big_one_0', at t=230\n",
    "# cube = (xmin, xmax, ymin, ymax, zmin, zmax)\n",
    "position_shock_sw = (-65, 180, 0)\n",
    "position_shock_bs = (-63, 135, 0)\n",
    "position_shock_mp = (-50,  76, 0)\n",
    "\n",
    "cubes_sw = cubes(position_shock_sw)\n",
    "cubes_bs = cubes(position_shock_bs)\n",
    "cubes_mp = cubes(position_shock_mp)"
   ]
  },
  {
   "cell_type": "markdown",
   "metadata": {},
   "source": [
    "## Plot global view"
   ]
  },
  {
   "cell_type": "markdown",
   "metadata": {},
   "source": [
    "### Define plot"
   ]
  },
  {
   "cell_type": "code",
   "execution_count": 10,
   "metadata": {},
   "outputs": [],
   "source": [
    "def plot_colormap(A, title, label, plane,\n",
    "                  ratio_max_to_med = 4,\n",
    "                  cubes = None,\n",
    "                  save_dir = None, t_label = None, \n",
    "                  zoom = None, density = 1, linewidth = 1, map_color='plasma',\n",
    "                  streamplot = None, Bx = None, Bj = None,\n",
    "                  min_value=None, max_value=None, lines_0=None, midpoint=0):\n",
    "    \n",
    "    if not(max_value):\n",
    "        max_value = int(np.median(A[np.isfinite(A) & (A > 0)])*ratio_max_to_med)\n",
    "    \n",
    "    if not(min_value):\n",
    "        if (A < 0).any():\n",
    "            min_value = int(np.median(A[np.isfinite(A) & (A < 0)])*ratio_max_to_med) \n",
    "        else:\n",
    "            min_value = int(np.min(A))\n",
    "\n",
    "       \n",
    "    # Number of color levels\n",
    "    levels = MaxNLocator(nbins=255).tick_values(min_value, max_value)\n",
    "    nb_ticks = 11\n",
    "    cbar_ticks = list(MaxNLocator(nbins=nb_ticks).tick_values(min_value, max_value))\n",
    "    while ( len(cbar_ticks) < nb_ticks ) :\n",
    "        cbar_ticks.append(r\"$\\infty$\")\n",
    "    cmap = plt.get_cmap(map_color)\n",
    "    \n",
    "    if (A < midpoint).any():\n",
    "        norm = colors.DivergingNorm(vmin=min_value, vcenter=midpoint, vmax=max_value)\n",
    "#         norm = MidpointNormalize(vmin=min_value, vmax=max_value, midpoint=midpoint)\n",
    "    else:\n",
    "        norm = BoundaryNorm(levels, ncolors=cmap.N, clip=False)\n",
    "\n",
    "    plt.close('all')\n",
    "    plt.figure(figsize=(7, 7))\n",
    "             \n",
    "    if zoom:\n",
    "        xmin, xmax, ymin, ymax, zmin, zmax = zoom\n",
    "\n",
    "    else:\n",
    "        xmin, xmax, ymin, ymax, zmin, zmax = (min(X), max(X),\n",
    "                                              min(Y), max(Y),\n",
    "                                              min(Z), max(Z))\n",
    "    \n",
    "    if plane=='xy':\n",
    "        plot = pl.pcolor(X, Y, A.T, cmap=cmap, norm=norm) \n",
    "        plt.xlabel('x', fontsize = 16, weight=\"bold\")\n",
    "        plt.ylabel('y', fontsize = 16, weight=\"bold\")\n",
    "        plt.xlim([xmin, xmax])\n",
    "        plt.ylim([ymin, ymax])\n",
    "        if cubes:\n",
    "            for cube in cubes:\n",
    "                \n",
    "                Ox = cube[0]\n",
    "                Oy = cube[2]\n",
    "                Lx = abs(cube[1] - cube[0])\n",
    "                Ly = abs(cube[3] - cube[2])\n",
    "                \n",
    "                rect = patches.Rectangle((Ox, Oy), Lx, Ly, linewidth=1, edgecolor='black', facecolor='cyan')\n",
    "                ax = plt.gca()\n",
    "                ax.add_patch(rect)\n",
    "                \n",
    "    if plane=='xz':\n",
    "        plot = pl.pcolor(X, Z, A.T, cmap=cmap, norm=norm) \n",
    "        plt.xlabel('x', fontsize = 16, weight=\"bold\")\n",
    "        plt.ylabel('z', fontsize = 16, weight=\"bold\")\n",
    "        plt.xlim([xmin, xmax])\n",
    "        plt.ylim([zmin, zmax])\n",
    "\n",
    "    plt.title(title +'\\n', fontsize = 16, weight=\"bold\")\n",
    "    \n",
    "    if lines_0:\n",
    "        plt.axhline(Y=0, linewidth=4, color='w')\n",
    "        plt.axvline(X=0, linewidth=4, color='w')\n",
    "        \n",
    "#     plt.gca().invert_xaxis()\n",
    "    plt.gca().set_aspect('equal')\n",
    "    ax = plt.gca()\n",
    "    # create an axes on the right side of ax. The width of cax will be 5%\n",
    "    # of ax and the padding between cax and ax will be fixed at 0.05 inch.\n",
    "    divider = make_axes_locatable(ax)\n",
    "    cax = divider.append_axes(\"right\", size=\"5%\", pad=0.05)\n",
    "    cbar = plt.colorbar(cax=cax, cmap=cmap, norm=norm)\n",
    "    if not((A < 0).any()):\n",
    "        try:\n",
    "            cbar.ax.set_yticklabels(cbar_ticks) #, fontsize=16, weight='bold')\n",
    "        except ValueError:\n",
    "            pass\n",
    "    cbar.ax.set_yticklabels([\"{:.1f}\".format(i) for i in cbar.get_ticks()])\n",
    "    cbar.set_label(label, rotation=270, fontsize = 16, weight=\"bold\", labelpad=20)\n",
    "                            \n",
    "    if (streamplot): \n",
    "        # Magnetic field lines\n",
    "        \n",
    "        if plane=='xy':\n",
    "            ax.streamplot(X, Y, Bx.transpose(), Bj.transpose(), linewidth=linewidth, density=density, color=\"lightgrey\")\n",
    "        if plane=='xz':\n",
    "            ax.streamplot(X, Z, Bx.transpose(), Bj.transpose(), linewidth=linewidth, density=density, color=\"lightgrey\")\n",
    "\n",
    "    ax.invert_xaxis()\n",
    "\n",
    "    try:\n",
    "        if save_dir and t_label:\n",
    "            title = title.replace(\" \", \"\")\n",
    "            title = title.replace(\".\", \"\")\n",
    "            title = title.replace(\"#\", \"\")\n",
    "            title = title.replace(\"é\", \"e\")\n",
    "            svg_name = t_label + title + '_' + plane + run_name\n",
    "            plt.savefig(save_dir + svg_name + \".png\",\n",
    "                        transparent = True, bbox_inches='tight', pad_inches=0.1)\n",
    "    except: \n",
    "        print(\"Please specify both save_dir and t_label\")\n",
    "        \n",
    "    if not(loop):\n",
    "        plt.show()\n",
    "                  \n",
    "    return ax"
   ]
  },
  {
   "cell_type": "markdown",
   "metadata": {},
   "source": [
    "### Plot"
   ]
  },
  {
   "cell_type": "code",
   "execution_count": 1,
   "metadata": {
    "scrolled": true
   },
   "outputs": [
    {
     "ename": "NameError",
     "evalue": "name 'X' is not defined",
     "output_type": "error",
     "traceback": [
      "\u001b[0;31m---------------------------------------------------------------------------\u001b[0m",
      "\u001b[0;31mNameError\u001b[0m                                 Traceback (most recent call last)",
      "\u001b[0;32m<ipython-input-1-5971073331da>\u001b[0m in \u001b[0;36m<module>\u001b[0;34m\u001b[0m\n\u001b[0;32m----> 1\u001b[0;31m \u001b[0mxmin\u001b[0m \u001b[0;34m=\u001b[0m \u001b[0mmin\u001b[0m\u001b[0;34m(\u001b[0m\u001b[0mX\u001b[0m\u001b[0;34m)\u001b[0m\u001b[0;34m\u001b[0m\u001b[0;34m\u001b[0m\u001b[0m\n\u001b[0m\u001b[1;32m      2\u001b[0m \u001b[0mxmax\u001b[0m \u001b[0;34m=\u001b[0m \u001b[0;36m3\u001b[0m\u001b[0;34m*\u001b[0m\u001b[0mabs\u001b[0m\u001b[0;34m(\u001b[0m\u001b[0mxmin\u001b[0m\u001b[0;34m)\u001b[0m   \u001b[0;31m#Most of the length in the x direction is used to give space for the sheath to form\u001b[0m\u001b[0;34m\u001b[0m\u001b[0;34m\u001b[0m\u001b[0m\n\u001b[1;32m      3\u001b[0m                      \u001b[0;31m#It is not really interesting\u001b[0m\u001b[0;34m\u001b[0m\u001b[0;34m\u001b[0m\u001b[0;34m\u001b[0m\u001b[0m\n\u001b[1;32m      4\u001b[0m \u001b[0mzoom\u001b[0m \u001b[0;34m=\u001b[0m \u001b[0;34m(\u001b[0m\u001b[0mxmin\u001b[0m\u001b[0;34m,\u001b[0m \u001b[0mxmax\u001b[0m\u001b[0;34m,\u001b[0m \u001b[0mmin\u001b[0m\u001b[0;34m(\u001b[0m\u001b[0mY\u001b[0m\u001b[0;34m)\u001b[0m\u001b[0;34m,\u001b[0m \u001b[0mmax\u001b[0m\u001b[0;34m(\u001b[0m\u001b[0mY\u001b[0m\u001b[0;34m)\u001b[0m\u001b[0;34m,\u001b[0m \u001b[0mmin\u001b[0m\u001b[0;34m(\u001b[0m\u001b[0mZ\u001b[0m\u001b[0;34m)\u001b[0m\u001b[0;34m,\u001b[0m \u001b[0mmax\u001b[0m\u001b[0;34m(\u001b[0m\u001b[0mZ\u001b[0m\u001b[0;34m)\u001b[0m\u001b[0;34m)\u001b[0m\u001b[0;34m\u001b[0m\u001b[0;34m\u001b[0m\u001b[0m\n\u001b[1;32m      5\u001b[0m \u001b[0mzoom\u001b[0m \u001b[0;34m=\u001b[0m \u001b[0;34m(\u001b[0m\u001b[0;34m-\u001b[0m\u001b[0;36m100\u001b[0m\u001b[0;34m,\u001b[0m \u001b[0;36m70\u001b[0m\u001b[0;34m,\u001b[0m \u001b[0;34m-\u001b[0m\u001b[0;36m200\u001b[0m\u001b[0;34m,\u001b[0m \u001b[0;36m200\u001b[0m\u001b[0;34m,\u001b[0m \u001b[0;34m-\u001b[0m\u001b[0;36m200\u001b[0m\u001b[0;34m,\u001b[0m \u001b[0;36m200\u001b[0m\u001b[0;34m)\u001b[0m\u001b[0;34m\u001b[0m\u001b[0;34m\u001b[0m\u001b[0m\n",
      "\u001b[0;31mNameError\u001b[0m: name 'X' is not defined"
     ]
    }
   ],
   "source": [
    "xmin = min(X)\n",
    "xmax = 3*abs(xmin)   #Most of the length in the x direction is used to give space for the sheath to form\n",
    "                     #It is not really interesting\n",
    "zoom = (xmin, xmax, min(Y), max(Y), min(Z), max(Z))\n",
    "zoom = (-100, 70, -200, 200, -200, 200)"
   ]
  },
  {
   "cell_type": "markdown",
   "metadata": {},
   "source": [
    "#### Density"
   ]
  },
  {
   "cell_type": "code",
   "execution_count": 41,
   "metadata": {},
   "outputs": [
    {
     "name": "stdout",
     "output_type": "stream",
     "text": [
      "Click on the interplanetary shock for y>0\n",
      "(-63.591372912801404, 106.49350649350646, 0)\n"
     ]
    }
   ],
   "source": [
    "# import matplotlib\n",
    "# matplotlib.use('TkAgg')\n",
    "\n",
    "plot_colormap(N[:,:,nz0], f'Density at {time} in (xy)', r'N (cm$^{-3}$)', 'xy',\n",
    "              cubes = [cubes_sw['right']['coord'],\n",
    "                       cubes_bs['right']['coord'],\n",
    "                       cubes_mp['right']['coord']],\n",
    "                 save_dir = storing_directory, t_label = time_label, zoom = zoom)"
   ]
  },
  {
   "cell_type": "code",
   "execution_count": 42,
   "metadata": {},
   "outputs": [
    {
     "name": "stdout",
     "output_type": "stream",
     "text": [
      "Please specify both save_dir and t_label\n",
      "Click on the interplanetary shock for z>0\n",
      "(-74.72309833024113, 0, 98.33024118738399)\n"
     ]
    }
   ],
   "source": [
    "MD.plot_colormap(N[:,ny0,:], f'Density at {time} in (xz)', r'N (cm$^{-3}$)', 'xz',\n",
    "                 loop = loop,\n",
    "                 save_dir = storing_directory, t_label = time_label, zoom = zoom)"
   ]
  },
  {
   "cell_type": "markdown",
   "metadata": {},
   "source": [
    "#### Current"
   ]
  },
  {
   "cell_type": "code",
   "execution_count": null,
   "metadata": {},
   "outputs": [],
   "source": [
    "slice_x = slice(None)\n",
    "slice_y = slice(None)\n",
    "slice_z = slice(nz0-1, nz0+1)\n",
    "slices = (slice_x, slice_y, slice_z)\n",
    "\n",
    "mag_J = np.sqrt(MD.Jx(B, slices)[:,:,1]**2 + MD.Jy(B, slices)[:,:,1]**2 + MD.Jz(B, slices)[:,:,1]**2)\n",
    "\n",
    "plot_colormap(mag_J, f'J in plane (x,y) at {time}', 'J (nA/m²)', 'xy',\n",
    "              ratio_max_to_med = 80,\n",
    "              cubes = [cubes_sw['right']['coord'],\n",
    "                       cubes_bs['right']['coord'],\n",
    "                       cubes_mp['right']['coord']],\n",
    "                 save_dir = storing_directory, t_label = time_label, zoom = zoom)"
   ]
  },
  {
   "cell_type": "markdown",
   "metadata": {},
   "source": [
    "## Generate relevant data"
   ]
  },
  {
   "cell_type": "markdown",
   "metadata": {},
   "source": [
    "### Define cubes"
   ]
  },
  {
   "cell_type": "code",
   "execution_count": 43,
   "metadata": {},
   "outputs": [],
   "source": [
    "# Simple geometry assumption: shock normal is along x. This is not completely true.\n",
    "# Should we do something about it? It's tough because we don't have that many grid cells to play with.\n",
    "\n",
    "\n",
    "def function_data_in_cube(cube, data1, data2=None, function1=MD.identity, function_both=None):\n",
    "    \n",
    "    '''\n",
    "    Returns the mean value of data in the different cubes.\n",
    "    If data is a vector (len(data)==3), then the function returns the mean value the norm(data[cubes])\n",
    "    '''\n",
    "    \n",
    "                    \n",
    "    ixmin, ixmax, iymin, iymax, izmin, izmax = cube\n",
    "        \n",
    "    slices = (slice(ixmin, ixmax), slice(iymin, iymax), slice(izmin, izmax))\n",
    "        \n",
    "    if (not(data2)):                       \n",
    "        result = function1( data1, slices )\n",
    "            \n",
    "    else:\n",
    "        result = function_both( function1( data1, slices ), [data2[0][slices],\n",
    "                                                             data2[1][slices],\n",
    "                                                             data2[2][slices]] )\n",
    "    data_in_cube = []        \n",
    "    if (len(result) == 3):\n",
    "        data_in_cube.append( (np.nanmean(result[0]), np.nanmean(result[1]), np.nanmean(result[2])) )\n",
    "    else:\n",
    "        data_in_cube.append( np.nanmean(result) )\n",
    "\n",
    "        \n",
    "\n",
    "    return data_in_cube"
   ]
  },
  {
   "cell_type": "markdown",
   "metadata": {},
   "source": [
    "### Data in cubes"
   ]
  },
  {
   "cell_type": "code",
   "execution_count": 44,
   "metadata": {},
   "outputs": [],
   "source": [
    "cubes_xy = cubes(position_shock_xy, 'xy')\n",
    "cubes_xz = cubes(position_shock_xz, 'xz')"
   ]
  },
  {
   "cell_type": "code",
   "execution_count": 45,
   "metadata": {
    "scrolled": false
   },
   "outputs": [
    {
     "name": "stdout",
     "output_type": "stream",
     "text": [
      "B_xy_left = 35.3 nT\n",
      "B_xz_left = 33.4 nT\n",
      "B_xy_right = 14.8 nT\n",
      "B_xz_right = 17.1 nT\n",
      "B_vec_xy_left = (-14.45463, 32.174175, -1.4358411) nT\n",
      "B_vec_xz_left = (-1.6255257, 33.27104, -1.071627) nT\n",
      "B_vec_xy_right = (-11.233983, 9.556749, -0.25502038) nT\n",
      "B_vec_xz_right = (-0.44787234, 16.947765, -2.2518008) nT\n"
     ]
    }
   ],
   "source": [
    "B_xy_left  = function_data_in_cube(cubes_xy['left' ], B, function1=MD.norm)[0]\n",
    "B_xz_left  = function_data_in_cube(cubes_xz['left' ], B, function1=MD.norm)[0]\n",
    "\n",
    "B_xy_right = function_data_in_cube(cubes_xy['right'], B, function1=MD.norm)[0]\n",
    "B_xz_right = function_data_in_cube(cubes_xz['right'], B, function1=MD.norm)[0]\n",
    "\n",
    "B_vec_xy_left  = function_data_in_cube(cubes_xy['left' ], B)[0]\n",
    "B_vec_xz_left  = function_data_in_cube(cubes_xz['left' ], B)[0]\n",
    "\n",
    "B_vec_xy_right = function_data_in_cube(cubes_xy['right'], B)[0]\n",
    "B_vec_xz_right = function_data_in_cube(cubes_xz['right'], B)[0]\n",
    "\n",
    "print(f\"B_xy_left = {B_xy_left:0.1f} nT\")\n",
    "print(f\"B_xz_left = {B_xz_left:0.1f} nT\")\n",
    "\n",
    "print(f\"B_xy_right = {B_xy_right:0.1f} nT\")\n",
    "print(f\"B_xz_right = {B_xz_right:0.1f} nT\")\n",
    "\n",
    "print(f\"B_vec_xy_left = {B_vec_xy_left} nT\")\n",
    "print(f\"B_vec_xz_left = {B_vec_xz_left} nT\")\n",
    "\n",
    "print(f\"B_vec_xy_right = {B_vec_xy_right} nT\")\n",
    "print(f\"B_vec_xz_right = {B_vec_xz_right} nT\")"
   ]
  },
  {
   "cell_type": "code",
   "execution_count": 46,
   "metadata": {},
   "outputs": [
    {
     "name": "stdout",
     "output_type": "stream",
     "text": [
      "E_xy_left = 16.0 (mV)\n",
      "E_xz_left = 19.1 (mV)\n",
      "E_xy_right = 2.0 (mV)\n",
      "E_xz_right = 7.0 (mV)\n",
      "E_vec_xy_left = (1.5234394, 0.99433404, 15.870171) (mV)\n",
      "E_vec_xz_left = (3.3745675, 0.37259188, 18.7887) (mV)\n",
      "E_vec_xy_right = (0.022048485, 0.08100717, 1.9467545) (mV)\n",
      "E_vec_xz_right = (0.95579505, 0.96676445, 6.836807) (mV)\n"
     ]
    }
   ],
   "source": [
    "E_xy_left  = function_data_in_cube(cubes_xy['left' ], E, function1=MD.norm)[0]\n",
    "E_xz_left  = function_data_in_cube(cubes_xz['left' ], E, function1=MD.norm)[0]\n",
    "\n",
    "E_xy_right = function_data_in_cube(cubes_xy['right'], E, function1=MD.norm)[0]\n",
    "E_xz_right = function_data_in_cube(cubes_xz['right'], E, function1=MD.norm)[0]\n",
    "\n",
    "E_vec_xy_left  = function_data_in_cube(cubes_xy['left' ], E)[0]\n",
    "E_vec_xz_left  = function_data_in_cube(cubes_xz['left' ], E)[0]\n",
    "\n",
    "E_vec_xy_right = function_data_in_cube(cubes_xy['right'], E)[0]\n",
    "E_vec_xz_right = function_data_in_cube(cubes_xz['right'], E)[0]\n",
    "\n",
    "print(f\"E_xy_left = {E_xy_left:0.1f} (mV)\")\n",
    "print(f\"E_xz_left = {E_xz_left:0.1f} (mV)\")\n",
    "\n",
    "print(f\"E_xy_right = {E_xy_right:0.1f} (mV)\")\n",
    "print(f\"E_xz_right = {E_xz_right:0.1f} (mV)\")\n",
    "\n",
    "print(f\"E_vec_xy_left = {E_vec_xy_left} (mV)\")\n",
    "print(f\"E_vec_xz_left = {E_vec_xz_left} (mV)\")\n",
    "\n",
    "print(f\"E_vec_xy_right = {E_vec_xy_right} (mV)\")\n",
    "print(f\"E_vec_xz_right = {E_vec_xz_right} (mV)\")"
   ]
  },
  {
   "cell_type": "code",
   "execution_count": 47,
   "metadata": {},
   "outputs": [
    {
     "name": "stdout",
     "output_type": "stream",
     "text": [
      "V_xy_left = 481 (km/s)\n",
      "V_xz_left = 562 (km/s)\n",
      "V_xy_right = 279 (km/s)\n",
      "V_xz_right = 414 (km/s)\n",
      "V_vec_xy_left = (-477.6765, 11.953379, 47.52935) (km/s)\n",
      "V_vec_xz_left = (-549.5521, -22.4776, 104.536316) (km/s)\n",
      "V_vec_xy_right = (-272.21167, 58.020035, -2.8076315) (km/s)\n",
      "V_vec_xz_right = (-408.8288, 6.373397, 59.57174) (km/s)\n"
     ]
    }
   ],
   "source": [
    "V_xy_left  = function_data_in_cube(cubes_xy['left' ], V, function1=MD.norm)[0]\n",
    "V_xz_left  = function_data_in_cube(cubes_xz['left' ], V, function1=MD.norm)[0]\n",
    "\n",
    "V_xy_right = function_data_in_cube(cubes_xy['right'], V, function1=MD.norm)[0]\n",
    "V_xz_right = function_data_in_cube(cubes_xz['right'], V, function1=MD.norm)[0]\n",
    "\n",
    "V_vec_xy_left  = function_data_in_cube(cubes_xy['left' ], V)[0]\n",
    "V_vec_xz_left  = function_data_in_cube(cubes_xz['left' ], V)[0]\n",
    "\n",
    "V_vec_xy_right = function_data_in_cube(cubes_xy['right'], V)[0]\n",
    "V_vec_xz_right = function_data_in_cube(cubes_xz['right'], V)[0]\n",
    "\n",
    "print(f\"V_xy_left = {V_xy_left:.0f} (km/s)\")\n",
    "print(f\"V_xz_left = {V_xz_left:.0f} (km/s)\")\n",
    "\n",
    "print(f\"V_xy_right = {V_xy_right:.0f} (km/s)\")\n",
    "print(f\"V_xz_right = {V_xz_right:.0f} (km/s)\")\n",
    "\n",
    "print(f\"V_vec_xy_left = {V_vec_xy_left} (km/s)\")\n",
    "print(f\"V_vec_xz_left = {V_vec_xz_left} (km/s)\")\n",
    "\n",
    "print(f\"V_vec_xy_right = {V_vec_xy_right} (km/s)\")\n",
    "print(f\"V_vec_xz_right = {V_vec_xz_right} (km/s)\")"
   ]
  },
  {
   "cell_type": "code",
   "execution_count": 48,
   "metadata": {},
   "outputs": [
    {
     "name": "stdout",
     "output_type": "stream",
     "text": [
      "N_xy_left = 22.7 (cm^-3)\n",
      "N_xz_left = 12.0 (cm^-3)\n",
      "N_xy_right = 8.7 (cm^-3)\n",
      "N_xz_right = 6.3 (cm^-3)\n"
     ]
    }
   ],
   "source": [
    "N_xy_left  = function_data_in_cube(cubes_xy['left' ], N)[0]\n",
    "N_xz_left  = function_data_in_cube(cubes_xz['left' ], N)[0]\n",
    "\n",
    "N_xy_right = function_data_in_cube(cubes_xy['right'], N)[0]\n",
    "N_xz_right = function_data_in_cube(cubes_xz['right'], N)[0]\n",
    "\n",
    "print(f\"N_xy_left = {N_xy_left:.1f} (cm^-3)\")\n",
    "print(f\"N_xz_left = {N_xz_left:.1f} (cm^-3)\")\n",
    "\n",
    "print(f\"N_xy_right = {N_xy_right:.1f} (cm^-3)\")\n",
    "print(f\"N_xz_right = {N_xz_right:.1f} (cm^-3)\")"
   ]
  },
  {
   "cell_type": "code",
   "execution_count": 49,
   "metadata": {},
   "outputs": [
    {
     "name": "stdout",
     "output_type": "stream",
     "text": [
      "T_xy_left = 212 (K)\n",
      "T_xz_left = 197 (K)\n",
      "T_xy_right = 78 (K)\n",
      "T_xz_right = 72 (K)\n"
     ]
    }
   ],
   "source": [
    "T_xy_left  = function_data_in_cube(cubes_xy['left' ], T)[0]\n",
    "T_xz_left  = function_data_in_cube(cubes_xz['left' ], T)[0]\n",
    "\n",
    "T_xy_right = function_data_in_cube(cubes_xy['right'], T)[0]\n",
    "T_xz_right = function_data_in_cube(cubes_xz['right'], T)[0]\n",
    "\n",
    "print(f\"T_xy_left = {T_xy_left:.0f} (K)\")\n",
    "print(f\"T_xz_left = {T_xz_left:.0f} (K)\")\n",
    "\n",
    "print(f\"T_xy_right = {T_xy_right:.0f} (K)\")\n",
    "print(f\"T_xz_right = {T_xz_right:.0f} (K)\")"
   ]
  },
  {
   "cell_type": "code",
   "execution_count": 53,
   "metadata": {},
   "outputs": [],
   "source": [
    "J_xy_left = function_data_in_cube(cubes_xy['left'], B, function1=MD.J)[0]\n",
    "J_xz_left = function_data_in_cube(cubes_xz['left'], B, function1=MD.J)[0]\n",
    "\n",
    "J_xy_right = function_data_in_cube(cubes_xy['right'], B, function1=MD.J)[0]\n",
    "J_xz_right = function_data_in_cube(cubes_xz['right'], B, function1=MD.J)[0]\n",
    "\n",
    "Jx_xy_left = function_data_in_cube(cubes_xy['left'], B, function1=MD.Jx)[0]\n",
    "Jx_xz_left = function_data_in_cube(cubes_xz['left'], B, function1=MD.Jx)[0]\n",
    "\n",
    "Jx_xy_right = function_data_in_cube(cubes_xy['right'], B, function1=MD.Jx)[0]\n",
    "Jx_xz_right = function_data_in_cube(cubes_xz['right'], B, function1=MD.Jx)[0]\n",
    "\n",
    "Jy_xy_left = function_data_in_cube(cubes_xy['left'], B, function1=MD.Jy)[0]\n",
    "Jy_xz_left = function_data_in_cube(cubes_xz['left'], B, function1=MD.Jy)[0]\n",
    "\n",
    "Jy_xy_right = function_data_in_cube(cubes_xy['right'], B, function1=MD.Jy)[0]\n",
    "Jy_xz_right = function_data_in_cube(cubes_xz['right'], B, function1=MD.Jy)[0]\n",
    "\n",
    "Jz_xy_left = function_data_in_cube(cubes_xy['left'], B, function1=MD.Jz)[0]\n",
    "Jz_xz_left = function_data_in_cube(cubes_xz['left'], B, function1=MD.Jz)[0]\n",
    "\n",
    "Jz_xy_right = function_data_in_cube(cubes_xy['right'], B, function1=MD.Jz)[0]\n",
    "Jz_xz_right = function_data_in_cube(cubes_xz['right'], B, function1=MD.Jz)[0]"
   ]
  },
  {
   "cell_type": "code",
   "execution_count": 54,
   "metadata": {},
   "outputs": [],
   "source": [
    "#conversion to SI:\n",
    "b = 1e-9\n",
    "n = 1e6\n",
    "v = 1e3\n",
    "t = 11605\n",
    "#put pressure in nPa\n",
    "p = 1e9"
   ]
  },
  {
   "cell_type": "code",
   "execution_count": 55,
   "metadata": {
    "scrolled": true
   },
   "outputs": [
    {
     "name": "stdout",
     "output_type": "stream",
     "text": [
      "Pmag_xy_left = 0.5 nPa\n",
      "Pmag_xz_left = 0.4 nPa\n",
      "Pmag_xy_right = 0.1 nPa\n",
      "Pmag_xz_right = 0.1 nPa\n"
     ]
    }
   ],
   "source": [
    "Pmag_xy_left = function_data_in_cube(cubes_xy['left'], p*(b*MD.norm(B))**2/(2*MD.µ0))[0]\n",
    "Pmag_xz_left = function_data_in_cube(cubes_xz['left'], p*(b*MD.norm(B))**2/(2*MD.µ0))[0]\n",
    "\n",
    "Pmag_xy_right = function_data_in_cube(cubes_xy['right'], p*(b*MD.norm(B))**2/(2*MD.µ0))[0]\n",
    "Pmag_xz_right = function_data_in_cube(cubes_xz['right'], p*(b*MD.norm(B))**2/(2*MD.µ0))[0]\n",
    "\n",
    "print(f\"Pmag_xy_left = {Pmag_xy_left:.1f} nPa\")\n",
    "print(f\"Pmag_xz_left = {Pmag_xz_left:.1f} nPa\")\n",
    "\n",
    "print(f\"Pmag_xy_right = {Pmag_xy_right:.1f} nPa\")\n",
    "print(f\"Pmag_xz_right = {Pmag_xz_right:.1f} nPa\")"
   ]
  },
  {
   "cell_type": "code",
   "execution_count": 56,
   "metadata": {},
   "outputs": [
    {
     "name": "stdout",
     "output_type": "stream",
     "text": [
      "Pdyn_xy_left = 4.5 nPa\n",
      "Pdyn_xz_left = 3.4 nPa\n",
      "Pdyn_xy_right = 0.6 nPa\n",
      "Pdyn_xz_right = 0.9 nPa\n"
     ]
    }
   ],
   "source": [
    "Pdyn_xy_left = function_data_in_cube(cubes_xy['left'], p*(1./2)*MD.mp*(n*N)*(v*MD.norm(V))**2)[0]\n",
    "Pdyn_xz_left = function_data_in_cube(cubes_xz['left'], p*(1./2)*MD.mp*(n*N)*(v*MD.norm(V))**2)[0]\n",
    "\n",
    "Pdyn_xy_right = function_data_in_cube(cubes_xy['right'], p*(1./2)*MD.mp*(n*N)*(v*MD.norm(V))**2)[0]\n",
    "Pdyn_xz_right = function_data_in_cube(cubes_xz['right'], p*(1./2)*MD.mp*(n*N)*(v*MD.norm(V))**2)[0]\n",
    "\n",
    "print(f\"Pdyn_xy_left = {Pdyn_xy_left:.1f} nPa\")\n",
    "print(f\"Pdyn_xz_left = {Pdyn_xz_left:.1f} nPa\")\n",
    "\n",
    "print(f\"Pdyn_xy_right = {Pdyn_xy_right:.1f} nPa\")\n",
    "print(f\"Pdyn_xz_right = {Pdyn_xz_right:.1f} nPa\")"
   ]
  },
  {
   "cell_type": "code",
   "execution_count": 57,
   "metadata": {},
   "outputs": [
    {
     "name": "stdout",
     "output_type": "stream",
     "text": [
      "Pth_xy_left = 0.8 nPa\n",
      "Pth_xz_left = 0.4 nPa\n",
      "Pth_xy_right = 0.1 nPa\n",
      "Pth_xz_right = 0.1 nPa\n"
     ]
    }
   ],
   "source": [
    "Pth_xy_left = function_data_in_cube(cubes_xy['left'], p*MD.kB*(n*N)*(t*T))[0]\n",
    "Pth_xz_left = function_data_in_cube(cubes_xz['left'], p*MD.kB*(n*N)*(t*T))[0]\n",
    "\n",
    "Pth_xy_right = function_data_in_cube(cubes_xy['right'], p*MD.kB*(n*N)*(t*T))[0]\n",
    "Pth_xz_right = function_data_in_cube(cubes_xz['right'], p*MD.kB*(n*N)*(t*T))[0]\n",
    "\n",
    "print(f\"Pth_xy_left = {Pth_xy_left:.1f} nPa\")\n",
    "print(f\"Pth_xz_left = {Pth_xz_left:.1f} nPa\")\n",
    "\n",
    "print(f\"Pth_xy_right = {Pth_xy_right:.1f} nPa\")\n",
    "print(f\"Pth_xz_right = {Pth_xz_right:.1f} nPa\")"
   ]
  },
  {
   "cell_type": "code",
   "execution_count": 58,
   "metadata": {},
   "outputs": [],
   "source": [
    "# VA_xy_left = B_xy_left*b / np.sqrt(MD.µ0 * MD.mp * N_xy_left*n) / v\n",
    "\n",
    "# va_test_1 = VA_xy_left\n",
    "# va_test_2 = np.sqrt(2*Pmag_xy_left/p / (MD.mp * N_xy_left*n)) / v\n",
    "# digits = 3\n",
    "# print(va_test_1, va_test_2)"
   ]
  },
  {
   "cell_type": "code",
   "execution_count": 59,
   "metadata": {},
   "outputs": [
    {
     "name": "stdout",
     "output_type": "stream",
     "text": [
      "VA_xy_left = 162 (km/s)\n",
      "VA_xz_left = 210 (km/s)\n",
      "VA_xy_right = 109 (km/s)\n",
      "VA_xz_right = 148 (km/s)\n"
     ]
    }
   ],
   "source": [
    "VA_xy_left = B_xy_left*b / np.sqrt(MD.µ0 * MD.mp * N_xy_left*n) / v\n",
    "VA_xz_left = B_xz_left*b / np.sqrt(MD.µ0 * MD.mp * N_xz_left*n) / v\n",
    "\n",
    "VA_xy_right = B_xy_right*b / np.sqrt(MD.µ0 * MD.mp * N_xy_right*n) / v\n",
    "VA_xz_right = B_xz_right*b / np.sqrt(MD.µ0 * MD.mp * N_xz_right*n) / v\n",
    "\n",
    "\n",
    "print(f\"VA_xy_left = {VA_xy_left:.0f} (km/s)\")\n",
    "print(f\"VA_xz_left = {VA_xz_left:.0f} (km/s)\")\n",
    "\n",
    "print(f\"VA_xy_right = {VA_xy_right:.0f} (km/s)\")\n",
    "print(f\"VA_xz_right = {VA_xz_right:.0f} (km/s)\")"
   ]
  },
  {
   "cell_type": "markdown",
   "metadata": {
    "heading_collapsed": true
   },
   "source": [
    "## Check Hypotheses"
   ]
  },
  {
   "cell_type": "markdown",
   "metadata": {
    "heading_collapsed": true,
    "hidden": true
   },
   "source": [
    "### V_shock higher in (xz) than (xy) $$v_s = \\frac{n_1 v_1 - n_2 v_2}{n_1 - n_2}$$ "
   ]
  },
  {
   "cell_type": "code",
   "execution_count": 34,
   "metadata": {
    "hidden": true
   },
   "outputs": [],
   "source": [
    "Vs_xy = (N_xy_left * V_xy_left - N_xy_right * V_xy_right) / (N_xy_left - N_xy_right)"
   ]
  },
  {
   "cell_type": "code",
   "execution_count": 35,
   "metadata": {
    "hidden": true
   },
   "outputs": [],
   "source": [
    "Vs_xz = (N_xz_left * V_xz_left - N_xz_right * V_xz_right) / (N_xz_left - N_xz_right)"
   ]
  },
  {
   "cell_type": "code",
   "execution_count": 36,
   "metadata": {
    "hidden": true
   },
   "outputs": [
    {
     "name": "stdout",
     "output_type": "stream",
     "text": [
      " Vs_xz > Vs_xy \n",
      " 709 > 706 \n",
      " True\n"
     ]
    }
   ],
   "source": [
    "print(f\" Vs_xz > Vs_xy \\n {Vs_xz:.0f} > {Vs_xy:.0f} \\n {Vs_xz > Vs_xy}\")"
   ]
  },
  {
   "cell_type": "markdown",
   "metadata": {
    "hidden": true
   },
   "source": [
    "### The IP shock \"rides\" the bulk plasma $$(v_s-v_{bulk})^{sw} = (v_s-v_{bulk})^{msh}$$"
   ]
  },
  {
   "cell_type": "markdown",
   "metadata": {
    "hidden": true
   },
   "source": [
    "Beware, this is ugly. For the next lines to make sense, you need to click outside of the MSH for _xy, and inside for _xz"
   ]
  },
  {
   "cell_type": "code",
   "execution_count": 38,
   "metadata": {
    "hidden": true
   },
   "outputs": [
    {
     "data": {
      "text/plain": [
       "308.45758"
      ]
     },
     "execution_count": 38,
     "metadata": {},
     "output_type": "execute_result"
    }
   ],
   "source": [
    "Vs_xz - V_xz_right"
   ]
  },
  {
   "cell_type": "code",
   "execution_count": 39,
   "metadata": {
    "hidden": true
   },
   "outputs": [
    {
     "data": {
      "text/plain": [
       "302.08102"
      ]
     },
     "execution_count": 39,
     "metadata": {},
     "output_type": "execute_result"
    }
   ],
   "source": [
    "Vs_xy - V_xy_right"
   ]
  },
  {
   "cell_type": "markdown",
   "metadata": {
    "hidden": true
   },
   "source": [
    "### Hypothesis: $$v_A^{xy} > v_A^{xz} \\implies M_{A (shock)}^{xy} < M_{A (shock)}^{xz} \\implies T_{down}^{xy} < T_{down}^{xz} $$"
   ]
  },
  {
   "cell_type": "code",
   "execution_count": 60,
   "metadata": {
    "hidden": true
   },
   "outputs": [
    {
     "name": "stdout",
     "output_type": "stream",
     "text": [
      " VA_xy_right > VA_xz_right \n",
      " 109 > 148 \n",
      " False\n"
     ]
    }
   ],
   "source": [
    "print(f\" VA_xy_right > VA_xz_right \\n {VA_xy_right:.0f} > {VA_xz_right:.0f} \\n {VA_xy_right > VA_xz_right}\")"
   ]
  },
  {
   "cell_type": "code",
   "execution_count": 61,
   "metadata": {
    "hidden": true
   },
   "outputs": [
    {
     "name": "stdout",
     "output_type": "stream",
     "text": [
      " M_Ashock_xy < M_Ashock_xz \n",
      " 6.5 < 4.8 \n",
      " False\n"
     ]
    }
   ],
   "source": [
    "M_Ashock_xy = Vs_xy / VA_xy_right\n",
    "M_Ashock_xz = Vs_xz / VA_xz_right\n",
    "\n",
    "print(f\" M_Ashock_xy < M_Ashock_xz \\n {M_Ashock_xy:.1f} < {M_Ashock_xz:.1f} \\n {M_Ashock_xy < M_Ashock_xz}\")"
   ]
  },
  {
   "cell_type": "code",
   "execution_count": 62,
   "metadata": {
    "hidden": true
   },
   "outputs": [
    {
     "name": "stdout",
     "output_type": "stream",
     "text": [
      " T_xy_left < T_xz_left \n",
      " 212 < 197 \n",
      " False\n"
     ]
    }
   ],
   "source": [
    "print(f\" T_xy_left < T_xz_left \\n {T_xy_left:.0f} < {T_xz_left:.0f} \\n {T_xy_left < T_xz_left}\")"
   ]
  },
  {
   "cell_type": "markdown",
   "metadata": {
    "heading_collapsed": true
   },
   "source": [
    "## Store relevant data for the current time dump"
   ]
  },
  {
   "cell_type": "code",
   "execution_count": null,
   "metadata": {
    "hidden": true
   },
   "outputs": [],
   "source": []
  },
  {
   "cell_type": "markdown",
   "metadata": {
    "heading_collapsed": true
   },
   "source": [
    "## Span_Shock_Carac"
   ]
  },
  {
   "cell_type": "code",
   "execution_count": null,
   "metadata": {
    "hidden": true
   },
   "outputs": [],
   "source": [
    "#Size of the analysing box\n",
    "Sx = 2*5\n",
    "Sy = 1\n",
    "Sz = 1\n",
    "\n",
    "dix = 2"
   ]
  },
  {
   "cell_type": "code",
   "execution_count": null,
   "metadata": {
    "hidden": true
   },
   "outputs": [],
   "source": [
    "def f(n, v):\n",
    "    return n[:-dix]*v[:-dix] - n[dix:]*v[dix:]\n",
    "\n",
    "\"TODO: define pos1 and pos2 with interactive colormap\"\n",
    "\n",
    "def span_shock_carac(pos1, pos2, plan):\n",
    "    \n",
    "    if plan == 'xy':\n",
    "        if pos1[1] == pos2[1]:\n",
    "            EXIT\n",
    "    if plan == 'xz':\n",
    "        if pos1[2] == pos2[2]:\n",
    "            EXIT\n",
    "    \n",
    "    slice_x = slice(pos1[0]-Sx, pos1[0]+Sx)\n",
    "    slice_y = slice(pos1[1]-Sy, pos1[1]+Sy)\n",
    "    slice_z = slice(pos1[2]-Sz, pos1[2]+Sz)\n",
    "    slices = (slice_x, slice_y, slice_z)\n",
    "    \n",
    "    line_yup   = [ slice_x, pos1[1]+Sy , pos1[2]    ]\n",
    "    line_ydown = [ slice_x, pos1[1]-Sy , pos1[2]    ]    \n",
    "    line_zup   = [ slice_x, pos1[2]    , pos1[2]+Sz ]\n",
    "    line_zdown = [ slice_x, pos1[2]    , pos1[2]-Sz ]   \n",
    "    \n",
    "    nyup, vyup = N[line_yup], V[line_yup]\n",
    "    shock_yup = (max(np.grad(f(nyup, vyup))), line_yup[1], line_yup[2])\n",
    "    nydown, vydown = N[line_ydown], V[line_ydown]\n",
    "    shock_ydown = (max(np.grad(f(nydown, vydown))), line_ydown[1], line_ydown[2])    \n",
    "    nzup, vzup = N[line_zup], V[line_zup]\n",
    "    shock_zup = (max(np.grad(f(nzup, vzup))), line_zup[1], line_zup[2])    \n",
    "    nzdown, vzdown = N[line_zdown], V[line_zdown]\n",
    "    shock_zdown = (max(np.grad(f(nzdown, vzdown))), line_zdown[1], line_zdown[2])   \n",
    "    \n",
    "    uy = shock_yup - shock_ydown\n",
    "    uz = shock_zup - shock_zdown\n",
    "    \n",
    "    normale = MD.cross_product(uy, uz) / MD.norm(MD.cross_product(uy, uz))\n",
    "    \n",
    "    line_center = [ slice_x, pos1[1] , pos1[2] ]\n",
    "    ncenter, vcenter = N[line_center], V[line_center]\n",
    "    position_shock = (max(np.grad(f(nycenter, vcenter))), line_center[1], line_center[2]) \n",
    "    \n",
    "    if plan == 'xy':\n",
    "        cubes = cubes(position_shock, 'xy')\n",
    "    if plan == 'xz':\n",
    "        cubes = cubes(position_shock, 'xz')\n",
    "    \n",
    "    V_proj_left  = function_data_in_cube(cube['left' ], V, data2=normale, function1=MD.dot_product)\n",
    "    V_proj_right = function_data_in_cube(cube['right'], V, data2=normale, function1=MD.dot_product)\n",
    "    \n",
    "    N_left  = function_data_in_cube(cubes['left' ], N)\n",
    "    N_right = function_data_in_cube(cubes['right'], N)\n",
    "    \n",
    "    vs = (N_left * V_proj_left - N_right * V_proj_right) / (N_left - N_right)\n",
    "    \n",
    "    B_vec_left  = function_data_in_cube(cubes['left' ], B)[0]\n",
    "    B_vec_right = function_data_in_cube(cubes['right'], B)[0]\n",
    "    \n",
    "    theta_Bn = np.arccos(B_vec_right/MD.norm(B_vec_right), normale)\n",
    "    \n",
    "    vA =  MD.norm(B_right)*b / np.sqrt(MD.µ0 * MD.mp * N_right*n)\n",
    "    \n",
    "    MA = vs / vA\n",
    "    \n",
    "    cs = ???\n",
    "    \n",
    "    cms = (vA**2 + cs**2)\n",
    "    \n",
    "    \n",
    "    cfms2 = cms**2 + np.sqrt( (vA**2 - cs**2)**2 + ... )\n",
    "    \n",
    "    Mms = vs / cfms\n",
    "\n",
    "    \n",
    "\n",
    "\n",
    "\n",
    "    \n",
    "\n",
    "    \n",
    "    "
   ]
  },
  {
   "cell_type": "code",
   "execution_count": null,
   "metadata": {
    "hidden": true
   },
   "outputs": [],
   "source": []
  }
 ],
 "metadata": {
  "kernelspec": {
   "display_name": "Python 3",
   "language": "python",
   "name": "python3"
  },
  "language_info": {
   "codemirror_mode": {
    "name": "ipython",
    "version": 3
   },
   "file_extension": ".py",
   "mimetype": "text/x-python",
   "name": "python",
   "nbconvert_exporter": "python",
   "pygments_lexer": "ipython3",
   "version": "3.6.9"
  }
 },
 "nbformat": 4,
 "nbformat_minor": 2
}
