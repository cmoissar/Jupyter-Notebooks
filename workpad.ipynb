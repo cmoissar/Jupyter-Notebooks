{
 "cells": [
  {
   "cell_type": "markdown",
   "metadata": {
    "heading_collapsed": true
   },
   "source": [
    "## Def functions"
   ]
  },
  {
   "cell_type": "code",
   "execution_count": 1,
   "metadata": {
    "hidden": true
   },
   "outputs": [],
   "source": [
    "def curl(gstep, vector):\n",
    "    \"\"\"\n",
    "    vector = [Ax, Ay, Az]\n",
    "    \"\"\"\n",
    "    \n",
    "    Ax, Ay, Az = vector\n",
    "    \n",
    "    def dAdx(A):\n",
    "        return np.gradient(A, axis = 0) / gstep[0]\n",
    "    def dAdy(A):\n",
    "        return np.gradient(A, axis = 1) / gstep[1]\n",
    "    def dAdz(A):\n",
    "        return np.gradient(A, axis = 2) / gstep[2]\n",
    "    \n",
    "    Cx = dAdy(Az) - dAdz(Ay)\n",
    "    Cy = dAdz(Ax) - dAdx(Az)\n",
    "    Cz = dAdx(Ay) - dAdy(Ax)\n",
    "    \n",
    "    return [Cx, Cy, Cz]\n",
    "\n",
    "def dot_product(vector_1, vector_2):\n",
    "    \"\"\"\n",
    "    vector = [Ax, Ay, Az]\n",
    "    \"\"\"\n",
    "    \n",
    "    Ax, Ay, Az = vector_1\n",
    "    Bx, By, Bz = vector_2\n",
    "    \n",
    "    return Ax[:]*Bx[:] + Ay[:]*By[:] + Az[:]*Bz[:]\n",
    "\n",
    "def cross_product(vector_1, vector_2):\n",
    "    \"\"\"\n",
    "    vector = [Ax, Ay, Az]\n",
    "    \"\"\"\n",
    "    \n",
    "    Ax, Ay, Az = vector_1\n",
    "    Bx, By, Bz = vector_2\n",
    "    \n",
    "    Cx = Ay * Bz - Az * Ay\n",
    "    Cy = Az * Bx - Ax * Bz\n",
    "    Cz = Ax * By - Ay * Bx\n",
    "    \n",
    "    return [Cx, Cy, Cz]\n",
    "    \n",
    "\n",
    "def norm(vector):\n",
    "    \"\"\"\n",
    "    vector = [Ax, Ay, Az]\n",
    "    \"\"\"\n",
    "    \n",
    "    return np.sqrt(dot_product(vector, vector)[:])\n"
   ]
  },
  {
   "cell_type": "markdown",
   "metadata": {},
   "source": [
    "## Import modules and functions"
   ]
  },
  {
   "cell_type": "code",
   "execution_count": 2,
   "metadata": {},
   "outputs": [
    {
     "name": "stderr",
     "output_type": "stream",
     "text": [
      "In /home/clement/.local/lib/python3.6/site-packages/matplotlib/mpl-data/stylelib/_classic_test.mplstyle: \n",
      "The text.latex.preview rcparam was deprecated in Matplotlib 3.3 and will be removed two minor releases later.\n",
      "In /home/clement/.local/lib/python3.6/site-packages/matplotlib/mpl-data/stylelib/_classic_test.mplstyle: \n",
      "The mathtext.fallback_to_cm rcparam was deprecated in Matplotlib 3.3 and will be removed two minor releases later.\n",
      "In /home/clement/.local/lib/python3.6/site-packages/matplotlib/mpl-data/stylelib/_classic_test.mplstyle: Support for setting the 'mathtext.fallback_to_cm' rcParam is deprecated since 3.3 and will be removed two minor releases later; use 'mathtext.fallback : 'cm' instead.\n",
      "In /home/clement/.local/lib/python3.6/site-packages/matplotlib/mpl-data/stylelib/_classic_test.mplstyle: \n",
      "The validate_bool_maybe_none function was deprecated in Matplotlib 3.3 and will be removed two minor releases later.\n",
      "In /home/clement/.local/lib/python3.6/site-packages/matplotlib/mpl-data/stylelib/_classic_test.mplstyle: \n",
      "The savefig.jpeg_quality rcparam was deprecated in Matplotlib 3.3 and will be removed two minor releases later.\n",
      "In /home/clement/.local/lib/python3.6/site-packages/matplotlib/mpl-data/stylelib/_classic_test.mplstyle: \n",
      "The keymap.all_axes rcparam was deprecated in Matplotlib 3.3 and will be removed two minor releases later.\n",
      "In /home/clement/.local/lib/python3.6/site-packages/matplotlib/mpl-data/stylelib/_classic_test.mplstyle: \n",
      "The animation.avconv_path rcparam was deprecated in Matplotlib 3.3 and will be removed two minor releases later.\n",
      "In /home/clement/.local/lib/python3.6/site-packages/matplotlib/mpl-data/stylelib/_classic_test.mplstyle: \n",
      "The animation.avconv_args rcparam was deprecated in Matplotlib 3.3 and will be removed two minor releases later.\n"
     ]
    },
    {
     "name": "stdout",
     "output_type": "stream",
     "text": [
      "importing Jupyter notebook from Module_Diagnostics.ipynb\n",
      "testing compute_RMS(...):\n",
      "This should be close to 1: 1.0006183545363132\n",
      "This should be close to 0: 0.0\n"
     ]
    }
   ],
   "source": [
    "# # -*- coding: utf-8 -*-\n",
    "import matplotlib.pyplot as plt\n",
    "import numpy as np\n",
    "import glob\n",
    "import re\n",
    "from math import pi, sqrt, isclose\n",
    "\n",
    "import pylab as pl\n",
    "import matplotlib\n",
    "from matplotlib.colors   import BoundaryNorm\n",
    "from matplotlib.ticker   import MaxNLocator\n",
    "from matplotlib.gridspec import GridSpec\n",
    "from os import listdir\n",
    "\n",
    "from matplotlib import rcParams\n",
    "\n",
    "\n",
    "import import_ipynb\n",
    "import Module_Diagnostics as MD\n",
    "import netCDF4 as nc\n",
    "\n",
    "from tempfile import mkdtemp\n",
    "import os.path as path\n",
    "import json\n",
    "\n",
    "#import pdb\n",
    "#pdb.set_trace()"
   ]
  },
  {
   "cell_type": "markdown",
   "metadata": {},
   "source": [
    "## Choose run and time for analysis"
   ]
  },
  {
   "cell_type": "code",
   "execution_count": 4,
   "metadata": {},
   "outputs": [
    {
     "name": "stdout",
     "output_type": "stream",
     "text": [
      "30_07_21\n"
     ]
    }
   ],
   "source": [
    "Cluster = 'Zoidberg'\n",
    "Cluster = 'Curie'\n",
    "Cluster = 'Occ'\n",
    "run_name = '20_05_18_event_only'\n",
    "run_name = '21_07_06_event_only_uz_and_p3_without_cloud_dx=0.5'\n",
    "# run_name = '26_07_06_event_only_uz_and_p3_without_cloud_dx=0.4'\n",
    "# run_name = '26_07_06_event_only_uz_and_p3_without_cloud_dx=0.25'\n",
    "# run_name = '27_07_06_event_only_uz_and_p3_without_cloud_dx=0.2'\n",
    "run_name = '30_07_06_Ohm_dx=0.25_beta=0.1'\n",
    "\n",
    "\n",
    "time = 70\n",
    "time = '%05d' % time    # Change the time to string format, needed by functions\n",
    "\n",
    "filepath = '../' + Cluster + '/' + run_name + '/ncfiles/'\n",
    "date = re.search('w_(.+?)_t', glob.glob(filepath+'Magw*_t'+time+'.nc')[0]).group(1)\n",
    "\n",
    "print(date)\n",
    "\n",
    "filepath_out = filepath+'../Images/'"
   ]
  },
  {
   "cell_type": "markdown",
   "metadata": {},
   "source": [
    "## Get data in Magw, Hsw and Elew "
   ]
  },
  {
   "cell_type": "markdown",
   "metadata": {},
   "source": [
    "#### Clear local tmp folder"
   ]
  },
  {
   "cell_type": "code",
   "execution_count": 5,
   "metadata": {
    "scrolled": false
   },
   "outputs": [
    {
     "name": "stdout",
     "output_type": "stream",
     "text": [
      "rm: cannot remove '/tmp/snap.spotify': Operation not permitted\n",
      "rm: cannot remove '/tmp/systemd-private-b4cc00abb9784efdba7e71498e32da2a-bolt.service-QhuJt8': Operation not permitted\n",
      "rm: cannot remove '/tmp/systemd-private-b4cc00abb9784efdba7e71498e32da2a-colord.service-vgSZ7l': Operation not permitted\n",
      "rm: cannot remove '/tmp/systemd-private-b4cc00abb9784efdba7e71498e32da2a-ModemManager.service-t18LTp': Operation not permitted\n",
      "rm: cannot remove '/tmp/systemd-private-b4cc00abb9784efdba7e71498e32da2a-rtkit-daemon.service-flo3A4': Operation not permitted\n",
      "rm: cannot remove '/tmp/systemd-private-b4cc00abb9784efdba7e71498e32da2a-systemd-resolved.service-DCQb0X': Operation not permitted\n",
      "rm: cannot remove '/tmp/systemd-private-b4cc00abb9784efdba7e71498e32da2a-systemd-timesyncd.service-xvpvDG': Operation not permitted\n"
     ]
    }
   ],
   "source": [
    "!rm -rf /tmp/*"
   ]
  },
  {
   "cell_type": "markdown",
   "metadata": {},
   "source": [
    "### Download B, n, E, T, V"
   ]
  },
  {
   "cell_type": "code",
   "execution_count": null,
   "metadata": {
    "scrolled": false
   },
   "outputs": [
    {
     "name": "stdout",
     "output_type": "stream",
     "text": [
      "Importing Magw 3D from ../Occ/30_07_06_Ohm_dx=0.25_beta=0.1/ncfiles/\n",
      "Reading Bx...\n",
      "Reading By...\n",
      "Reading Bz...\n",
      "Close file and return...\n",
      "Importing Hsw 3D from ../Occ/30_07_06_Ohm_dx=0.25_beta=0.1/ncfiles/\n",
      "Reading density...\n",
      "Reading Ux...\n",
      "Reading Uy...\n",
      "Reading Uz...\n",
      "Reading T...\n",
      "Close file and return...\n",
      "Importing Elew 3D from ../Occ/30_07_06_Ohm_dx=0.25_beta=0.1/ncfiles/\n"
     ]
    }
   ],
   "source": [
    "## Load B and X, Y, Z\n",
    "\n",
    "# There might be some MemoryError. In that case, follow the guide:\n",
    "# https://stackoverflow.com/questions/60563936/memoryerror-unable-to-allocate-3-78-gib-for-an-array-with-shape-802-842-1502\n",
    "Magw = MD.import_data_3D(filepath, date, time, 'Magw')\n",
    "\n",
    "x = Magw['x'].data\n",
    "y = Magw['y'].data\n",
    "z = Magw['z'].data\n",
    "\n",
    "cwp = Magw['c_omegapi']\n",
    "gstep = Magw['gstep']\n",
    "\n",
    "nx,  ny,  nz  = len(x), len(y), len(z)\n",
    "# Location of the planet is defined in the .ncfiles as (x,y,z) = (0,0,0)\n",
    "nx0, ny0, nz0 = int(np.where(x==0)[0]), int(np.where(abs(y)==np.min(abs(y)))[0]), int(np.where(z==0)[0])\n",
    "            \n",
    "# Use memmap to alleviate RAM\n",
    "# This stores big arrays on the disk, but in a way that still allows for most\n",
    "# operations available on an np.array\n",
    "file_Bx = path.join(mkdtemp(), 'Bx.dat')            \n",
    "Bx = np.memmap(file_Bx, dtype='float32', mode='w+', shape=(nx,ny,nz))\n",
    "Bx[:] = Magw['Bx']\n",
    "file_By = path.join(mkdtemp(), 'By.dat')            \n",
    "By = np.memmap(file_By, dtype='float32', mode='w+', shape=(nx,ny,nz))\n",
    "By[:] = Magw['By']\n",
    "file_Bz = path.join(mkdtemp(), 'Bz.dat')            \n",
    "Bz = np.memmap(file_Bz, dtype='float32', mode='w+', shape=(nx,ny,nz))\n",
    "Bz[:] = Magw['Bz']\n",
    "del Magw\n",
    "B = [Bx, By, Bz]\n",
    "\n",
    "## Load N, Vxyz, and T\n",
    "Hsw = MD.import_data_3D(filepath, date, time, 'Hsw')\n",
    "# Density in nb/cm^3\n",
    "file_N = path.join(mkdtemp(), 'N.dat')            \n",
    "N = np.memmap(file_N, dtype='float32', mode='w+', shape=(nx,ny,nz))\n",
    "N[:] = Hsw['n']\n",
    "# Velocity in km/s\n",
    "file_Vx = path.join(mkdtemp(), 'Vx.dat')            \n",
    "Vx = np.memmap(file_Vx, dtype='float32', mode='w+', shape=(nx,ny,nz))\n",
    "Vx[:] = Hsw['Vx']\n",
    "file_Vy = path.join(mkdtemp(), 'Vy.dat')            \n",
    "Vy = np.memmap(file_Vy, dtype='float32', mode='w+', shape=(nx,ny,nz))\n",
    "Vy[:] = Hsw['Vy']\n",
    "file_Vz = path.join(mkdtemp(), 'Vz.dat')            \n",
    "Vz = np.memmap(file_Vz, dtype='float32', mode='w+', shape=(nx,ny,nz))\n",
    "Vz[:] = Hsw['Vz']\n",
    "# Temperature in eV\n",
    "file_T = path.join(mkdtemp(), 'T.dat')            \n",
    "T = np.memmap(file_T, dtype='float32', mode='w+', shape=(nx,ny,nz))\n",
    "T[:] = Hsw['T']\n",
    "del Hsw\n",
    "V = [Vx, Vy, Vz]\n",
    "\n",
    "## Load E\n",
    "# Electric field in mV/m\n",
    "Elew = MD.import_data_3D(filepath, date, time, 'Elew')\n",
    "file_Ex = path.join(mkdtemp(), 'Ex.dat')            \n",
    "Ex = np.memmap(file_Ex, dtype='float32', mode='w+', shape=(nx,ny,nz))\n",
    "Ex[:] = Elew['Ex']*1e6\n",
    "file_Ey = path.join(mkdtemp(), 'Ey.dat')            \n",
    "Ey = np.memmap(file_Ey, dtype='float32', mode='w+', shape=(nx,ny,nz))\n",
    "Ey[:] = Elew['Ey']*1e6\n",
    "file_Ez = path.join(mkdtemp(), 'Ez.dat')            \n",
    "Ez = np.memmap(file_Ez, dtype='float32', mode='w+', shape=(nx,ny,nz))\n",
    "Ez[:] = Elew['Ez']*1e6\n",
    "del Elew\n",
    "E = [Ex, Ey, Ez]"
   ]
  },
  {
   "cell_type": "code",
   "execution_count": null,
   "metadata": {},
   "outputs": [],
   "source": [
    "file_Jx = path.join(mkdtemp(), 'Jx.dat')            \n",
    "Jx = np.memmap(file_Jx, dtype='float32', mode='w+', shape=(nx,ny,nz))\n",
    "Jx[:] = MD.Jx(B)\n",
    "file_Jy = path.join(mkdtemp(), 'Jy.dat')            \n",
    "Jy = np.memmap(file_Jy, dtype='float32', mode='w+', shape=(nx,ny,nz))\n",
    "Jy[:] = MD.Jy(B)\n",
    "file_Jz = path.join(mkdtemp(), 'Jz.dat')            \n",
    "Jz = np.memmap(file_Jz, dtype='float32', mode='w+', shape=(nx,ny,nz))\n",
    "Jz[:] = MD.Jz(B)\n",
    "\n",
    "J = [Jx, Jy, Jz]"
   ]
  },
  {
   "cell_type": "markdown",
   "metadata": {},
   "source": [
    "## Physics constants & Normalisation"
   ]
  },
  {
   "cell_type": "code",
   "execution_count": null,
   "metadata": {},
   "outputs": [],
   "source": [
    "qe = 1.60217662e-19 #C"
   ]
  },
  {
   "cell_type": "code",
   "execution_count": null,
   "metadata": {},
   "outputs": [],
   "source": [
    "b = 1e-9\n",
    "j = 1e-9\n",
    "v = 1e3\n",
    "e = 1e3\n",
    "n = 1e6"
   ]
  },
  {
   "cell_type": "markdown",
   "metadata": {},
   "source": [
    "## Plot parametering"
   ]
  },
  {
   "cell_type": "code",
   "execution_count": null,
   "metadata": {},
   "outputs": [],
   "source": [
    "# %matplotlib notebook"
   ]
  },
  {
   "cell_type": "markdown",
   "metadata": {},
   "source": [
    "## Playground"
   ]
  },
  {
   "cell_type": "code",
   "execution_count": null,
   "metadata": {},
   "outputs": [],
   "source": [
    "SMALL_SIZE = 14\n",
    "MEDIUM_SIZE = 16\n",
    "BIGGER_SIZE = 18\n",
    "\n",
    "matplotlib.rc('font', size=SMALL_SIZE)          # controls default text sizes\n",
    "matplotlib.rc('axes', titlesize=SMALL_SIZE)     # fontsize of the axes title\n",
    "matplotlib.rc('axes', labelsize=MEDIUM_SIZE, labelweight='bold')    # fontsize of the x and y labels\n",
    "matplotlib.rc('xtick', labelsize=SMALL_SIZE)    # fontsize of the tick labels\n",
    "matplotlib.rc('ytick', labelsize=SMALL_SIZE)    # fontsize of the tick labels\n",
    "matplotlib.rc('legend', fontsize=SMALL_SIZE)    # legend fontsize\n",
    "matplotlib.rc('figure', titlesize=BIGGER_SIZE)  # fontsize of the figure title"
   ]
  },
  {
   "cell_type": "markdown",
   "metadata": {},
   "source": [
    "### General view in the style of Moissard et al. 2019"
   ]
  },
  {
   "cell_type": "code",
   "execution_count": null,
   "metadata": {},
   "outputs": [],
   "source": [
    "b_norm = MD.norm((B[0][:, ny0, nz0], B[1][:, ny0, nz0], B[2][:, ny0, nz0]))\n",
    "v_norm = MD.norm((V[0][:, ny0, nz0], V[1][:, ny0, nz0], V[2][:, ny0, nz0]))\n",
    "\n",
    "e_th = (3/2)*MD.kB*MD.n*N[:, ny0, nz0]*MD.t*T[:, ny0, nz0]\n",
    "e_mag = (b*MD.norm(B)[:, ny0, nz0])**2/(2*MD.µ0)\n",
    "beta = e_th / e_mag\n",
    "\n",
    "# def cm2inch(value):\n",
    "#     return value / 2.54\n",
    "# plt.figure(figsize=(cm2inch(21), cm2inch(29.7)))\n",
    "\n",
    "flatui = [\"#0082c8\" , \"#3cb44b\", \"#808080\", \"#e74c3c\", \"#34495e\", \"#2ecc71\"]\n",
    "plt.rcParams['axes.prop_cycle'] = plt.cycler(color=flatui)\n",
    "    \n",
    "rcParams[\"figure.figsize\"] = [11, 11]\n",
    "gs = GridSpec(6, 1)\n",
    "fsize = 14\n",
    "\n",
    "axe = plt.subplot(gs[0])\n",
    "plt.plot(x, b_norm)\n",
    "plt.ylabel('B (nT)', fontsize=fsize)\n",
    "axe.get_xaxis().set_visible(False)\n",
    "\n",
    "axe = plt.subplot(gs[1], sharex=axe)\n",
    "plt.plot(x[:], B[0][:, ny0, nz0], label='Bx')\n",
    "plt.plot(x[:], B[1][:, ny0, nz0], label='By')\n",
    "plt.plot(x[:], B[2][:, ny0, nz0], label='Bz')\n",
    "plt.legend(loc=\"upper right\")\n",
    "plt.ylabel('Bxyz (nT)', fontsize=fsize)\n",
    "axe.get_xaxis().set_visible(False)\n",
    "\n",
    "axe = plt.subplot(gs[2], sharex=axe)\n",
    "plt.plot(x[:], v_norm)\n",
    "plt.ylabel('V (km/s)', fontsize=fsize)\n",
    "axe.get_xaxis().set_visible(False)\n",
    "\n",
    "axe = plt.subplot(gs[3], sharex=axe)\n",
    "plt.plot(x[:], N[:, ny0, nz0])\n",
    "plt.ylabel(r'N (cm$^{-3}$)', fontsize=fsize)\n",
    "axe.get_xaxis().set_visible(False)\n",
    "         \n",
    "axe = plt.subplot(gs[4], sharex=axe)\n",
    "plt.plot(x[:], T[:, ny0, nz0])\n",
    "plt.ylabel('T (eV)', fontsize=fsize)\n",
    "axe.get_xaxis().set_visible(False)\n",
    "\n",
    "axe = plt.subplot(gs[5], sharex=axe)\n",
    "plt.plot(x[:], beta)\n",
    "plt.ylabel(r'$\\beta$', fontsize=fsize)\n",
    "\n",
    "plt.xlim([450, -20])\n",
    "plt.xlabel('x (di)', fontsize=fsize*1.2, weight='bold')\n",
    "plt.subplots_adjust(hspace=0)\n",
    "\n",
    "# fileout = \"global_view_sheath_\"+run_name\n",
    "# plt.savefig(filepath_out + fileout, dpi=150)\n",
    "# print('Figure saved as ', filepath_out + fileout)\n",
    "\n",
    "plt.figure()"
   ]
  },
  {
   "cell_type": "markdown",
   "metadata": {},
   "source": [
    "### General view showing $U_z$ and $E_x$"
   ]
  },
  {
   "cell_type": "code",
   "execution_count": null,
   "metadata": {
    "scrolled": false
   },
   "outputs": [],
   "source": [
    "x_slice = slice(np.where(x==10)[0][0], np.where(x==450)[0][0])\n",
    "y_slice = slice(ny0-1, ny0+1)\n",
    "z_slice = slice(nz0-1, nz0+1)\n",
    "\n",
    "y_slice_2 = slice(2, len(y)-2)\n",
    "z_slice_2 = slice(2, len(z)-2)\n",
    "\n",
    "slices = (x_slice, y_slice, z_slice)\n",
    "slices_2 = (x_slice, y_slice_2, z_slice_2)\n",
    "\n",
    "def smooth(A):\n",
    "    return np.mean(A[slices_2], axis=(1,2))\n",
    "\n",
    "def add_text(axe, text_string):\n",
    "    gca_xlen = axe.get_xlim()[1] - axe.get_xlim()[0]\n",
    "    gca_xmax = axe.get_xlim()[0]\n",
    "    gca_ylen = axe.get_ylim()[1] - axe.get_ylim()[0]\n",
    "    gca_ymax = axe.get_ylim()[1]\n",
    "    axe.text(gca_xmax+gca_xlen*0.02,\n",
    "             gca_ymax-gca_ylen*0.04,\n",
    "             text_string,weight='bold',horizontalalignment='left', verticalalignment='top')\n",
    "\n",
    "rcParams[\"figure.figsize\"] = [10, 8]\n",
    "gs = GridSpec(3, 1)\n",
    "\n",
    "axe = plt.subplot(gs[0])\n",
    "plt.plot(x[x_slice], B[0][x_slice, ny0, nz0], label='Bx')\n",
    "plt.plot(x[x_slice], B[1][x_slice, ny0, nz0], label='By')\n",
    "plt.plot(x[x_slice], B[2][x_slice, ny0, nz0], label='Bz')\n",
    "plt.legend(loc = 'upper right')\n",
    "plt.xlim(500,0)\n",
    "add_text(axe, \"magnetic field\")\n",
    "plt.ylabel(\"nT\")\n",
    "axe.get_xaxis().set_visible(False)\n",
    "\n",
    "axe = plt.subplot(gs[1], sharex=axe)\n",
    "plt.plot(x[x_slice], E[0][x_slice, ny0, nz0], label='Ex')\n",
    "plt.plot(x[x_slice], E[1][x_slice, ny0, nz0], label='Ey')\n",
    "plt.plot(x[x_slice], E[2][x_slice, ny0, nz0], label='Ez')\n",
    "plt.legend(loc = 'upper right')\n",
    "add_text(axe, \"electric field\")\n",
    "plt.ylabel(\"mV/m\")\n",
    "axe.get_xaxis().set_visible(False)\n",
    "\n",
    "\n",
    "axe = plt.subplot(gs[2], sharex=axe)\n",
    "plt.plot(x[x_slice], V[0][x_slice, ny0, nz0], label='ux')\n",
    "plt.plot(x[x_slice], V[1][x_slice, ny0, nz0], label='uy')\n",
    "plt.plot(x[x_slice], V[2][x_slice, ny0, nz0], label='uz')\n",
    "add_text(axe, \"velocity\")\n",
    "plt.ylabel(\"km/s\")\n",
    "plt.legend(loc = 'upper right')\n",
    "\n",
    "plt.xlabel('x (di)', fontsize=fsize*1.2, weight='bold')\n",
    "plt.subplots_adjust(hspace=0)\n",
    "\n",
    "# fileout = \"zoom_view_sheath_\"+run_name\n",
    "# plt.savefig(filepath_out + fileout, dpi=150)\n",
    "# print('Figure saved as ', filepath_out + fileout)\n",
    "\n",
    "plt.show()"
   ]
  },
  {
   "cell_type": "markdown",
   "metadata": {},
   "source": [
    "### Why Vz?"
   ]
  },
  {
   "cell_type": "code",
   "execution_count": null,
   "metadata": {},
   "outputs": [],
   "source": [
    "x_slice = slice(10,760)\n",
    "y_slice = slice(ny0-1, ny0+1)\n",
    "z_slice = slice(nz0-1, nz0+1)\n",
    "\n",
    "y_slice_2 = slice(2, len(y)-2)\n",
    "z_slice_2 = slice(2, len(z)-2)\n",
    "\n",
    "slices = (x_slice, y_slice, z_slice)\n",
    "slices_2 = (x_slice, y_slice_2, z_slice_2)\n",
    "\n",
    "def smooth(A):\n",
    "    return np.mean(A[slices_2], axis=(1,2))"
   ]
  },
  {
   "cell_type": "markdown",
   "metadata": {},
   "source": [
    "#### Rankine-Hugoniot"
   ]
  },
  {
   "cell_type": "markdown",
   "metadata": {},
   "source": [
    "##### Move to the Hoffmann-Teller frame"
   ]
  },
  {
   "cell_type": "code",
   "execution_count": null,
   "metadata": {},
   "outputs": [],
   "source": [
    "round_x = np.array([round(xi) if isclose(xi,round(xi),abs_tol=0.001) else xi for xi in x])\n",
    "# print(x[np.where(x>=106.75)])\n",
    "# print(round_x[np.where(x>=106.75)])"
   ]
  },
  {
   "cell_type": "code",
   "execution_count": null,
   "metadata": {},
   "outputs": [],
   "source": [
    "#Ugly hard code\n",
    "shock_position = 108 #for '20_05_18_event_only'\n",
    "shock_position = 118 #for 'dx=0.5 and t=225'\n",
    "# shock_position = 124 #for 'dx=0.4, t=185'\n",
    "# shock_position = 128 #for 'dx=0.25, t=125'\n",
    "# shock_position = 53  #for '27_07_06_event_only_uz_and_p3_without_cloud_dx=0.2'\n",
    "i_shock_position = np.where(round_x==shock_position)[0][0]\n",
    "\n",
    "upstream_slice   = slice(i_shock_position-int(50/gstep[0]),i_shock_position-int(30/gstep[0]))\n",
    "downstream_slice = slice(i_shock_position+int(30/gstep[0]),i_shock_position+int(50/gstep[0]))"
   ]
  },
  {
   "cell_type": "code",
   "execution_count": null,
   "metadata": {},
   "outputs": [],
   "source": [
    "x_slice = slice(i_shock_position-int(60/gstep[0]),i_shock_position+int(60/gstep[0]))\n",
    "y_slice = slice(ny0-1, ny0+1)\n",
    "z_slice = slice(nz0-1, nz0+1)\n",
    "\n",
    "y_slice_2 = slice(2, len(y)-2)\n",
    "z_slice_2 = slice(2, len(z)-2)\n",
    "\n",
    "slices = (x_slice, y_slice, z_slice)\n",
    "slices_2 = (x_slice, y_slice_2, z_slice_2)\n",
    "\n",
    "def smooth(A, xslice=x_slice, yslice=y_slice_2, zslice=z_slice_2):\n",
    "    slices_ = (xslice, yslice, zslice)\n",
    "    return np.mean(A[slices_], axis=(1,2))"
   ]
  },
  {
   "cell_type": "code",
   "execution_count": null,
   "metadata": {},
   "outputs": [],
   "source": [
    "rcParams[\"figure.figsize\"] = [17, 2]\n",
    "\n",
    "plt.plot(x[x_slice], Vx[x_slice, ny0, nz0], label=\"Vx\")\n",
    "plt.plot(x[upstream_slice  ], Vx[upstream_slice, ny0, nz0], color=\"red\")\n",
    "plt.plot(x[downstream_slice], Vx[downstream_slice, ny0, nz0], color=\"red\")\n",
    "plt.ylabel('km/s')\n",
    "plt.legend(loc='lower right')\n",
    "plt.gca().invert_xaxis()"
   ]
  },
  {
   "cell_type": "code",
   "execution_count": null,
   "metadata": {},
   "outputs": [],
   "source": [
    "rcParams[\"figure.figsize\"] = [17, 2]\n",
    "\n",
    "plt.plot(x[x_slice], smooth(Vx), label=\"<Vx>\")\n",
    "plt.plot(x[upstream_slice  ], np.mean(Vx[upstream_slice  , y_slice_2, z_slice_2], axis=(1,2)), color=\"red\")\n",
    "plt.plot(x[downstream_slice], np.mean(Vx[downstream_slice, y_slice_2, z_slice_2], axis=(1,2)), color=\"red\")\n",
    "plt.ylabel('km/s')\n",
    "plt.legend(loc='lower right')\n",
    "plt.gca().invert_xaxis()"
   ]
  },
  {
   "cell_type": "code",
   "execution_count": null,
   "metadata": {},
   "outputs": [],
   "source": [
    "v_up = np.nanmean(Vx[upstream_slice, y_slice_2, z_slice_2])\n",
    "print(f\"v_upstream = {v_up:0.0f} km/s\")\n",
    "\n",
    "v_down = np.nanmean(Vx[downstream_slice, y_slice_2, z_slice_2])\n",
    "print(f\"v_downstream = {v_down:0.0f} km/s\")\n",
    "\n",
    "n_up = np.nanmean(N[upstream_slice, y_slice_2, z_slice_2])\n",
    "print(f\"n_upstream = {n_up:0.0f} ions/cm^3\")\n",
    "\n",
    "n_down = np.nanmean(N[downstream_slice, y_slice_2, z_slice_2])\n",
    "print(f\"n_downstream = {n_down:0.0f} ions/cm^3\")"
   ]
  },
  {
   "cell_type": "code",
   "execution_count": null,
   "metadata": {},
   "outputs": [],
   "source": [
    "V_HF = (n_up*v_up - n_down*v_down)/(n_up - n_down)\n",
    "\n",
    "print(f'V_Hoffman-Teller = {V_HF:0.0f} km/s')"
   ]
  },
  {
   "cell_type": "code",
   "execution_count": null,
   "metadata": {},
   "outputs": [],
   "source": [
    "Vx_hf = Vx - V_HF"
   ]
  },
  {
   "cell_type": "markdown",
   "metadata": {},
   "source": [
    "##### Estimate signal frequency in the downstream region"
   ]
  },
  {
   "cell_type": "code",
   "execution_count": null,
   "metadata": {},
   "outputs": [],
   "source": [
    "T_down = np.nanmean(T[downstream_slice, y_slice_2, z_slice_2])\n",
    "vth_down = np.sqrt(MD.kB*T_down*MD.t/MD.mp)\n",
    "B_down = np.nanmean(MD.norm(B)[downstream_slice, y_slice_2, z_slice_2])\n",
    "v_down_hf_frame = v_down - V_HF\n",
    "\n",
    "print(f\"T_down = {T_down*MD.t:.2e} K\")\n",
    "print(f\"vth_down = {vth_down/MD.v:.0f} km/s\")\n",
    "print(f\"v_down_hf_frame = {v_down_hf_frame:.0f} km/s\")\n",
    "print(f\"B_down = {B_down:.0f} nT\")\n",
    "\n",
    "wci_down = MD.qe*B_down*MD.b / MD.mp\n",
    "print(f\"wci_downstream = {wci_down:0.1f} rad/s\")\n",
    "\n",
    "rL_down = vth_down / wci_down\n",
    "print(f\"rL_down = {rL_down*1e-3:0.1f} km\")\n",
    "\n",
    "print(\"\\n\")\n",
    "\n",
    "T_up = np.nanmean(T[upstream_slice, y_slice_2, z_slice_2])\n",
    "vth_up = np.sqrt(MD.kB*T_up*MD.t/MD.mp)\n",
    "B_up = np.nanmean(MD.norm(B)[upstream_slice, y_slice_2, z_slice_2])\n",
    "v_up_hf_frame = v_up - V_HF\n",
    "\n",
    "print(f\"T_up = {T_up*MD.t:.2e} K\")\n",
    "print(f\"vth_up = {vth_up/MD.v:.0f} km/s\")\n",
    "print(f\"v_up_hf_frame = {v_up_hf_frame:.0f} km/s\")\n",
    "print(f\"B_up = {B_up:.0f} nT\")\n",
    "\n",
    "wci_up = MD.qe*B_up*MD.b / MD.mp\n",
    "print(f\"wci_upstream = {wci_up:0.1f} rad/s\")\n",
    "\n",
    "rL_up = vth_up / wci_up\n",
    "print(f\"rL_up = {rL_up*1e-3:0.1f} km\")"
   ]
  },
  {
   "cell_type": "code",
   "execution_count": null,
   "metadata": {},
   "outputs": [],
   "source": [
    "T_cyclotron = 2*pi / wci_down\n",
    "print(f\"T_cyclotron = {2*T_cyclotron:0.2f} s\")\n",
    "\n",
    "# dt_half_gyration = pi*rL_down / vth_down\n",
    "# print(dt_half_gyration)\n",
    "\n",
    "d_guiding_center = v_down_hf_frame * T_cyclotron\n",
    "\n",
    "print(f\"lambda_c = {d_guiding_center:0.2f} km\")\n",
    "\n",
    "print(f\"since cwp = {cwp[0]:0.2f} km, we have:\")\n",
    "\n",
    "print(f\"lambda_c_in_di = {d_guiding_center / cwp[0]:0.2f}\")"
   ]
  },
  {
   "cell_type": "code",
   "execution_count": null,
   "metadata": {},
   "outputs": [],
   "source": [
    "ne = np.array(N[:])\n",
    "Te = np.mean(T[50:150, ny0, nz0]) * (ne/6)**(2/3) #eV"
   ]
  },
  {
   "cell_type": "code",
   "execution_count": null,
   "metadata": {},
   "outputs": [],
   "source": [
    "np.mean(T[50:150, ny0, nz0])"
   ]
  },
  {
   "cell_type": "code",
   "execution_count": null,
   "metadata": {},
   "outputs": [],
   "source": [
    "np.mean(Te)"
   ]
  },
  {
   "cell_type": "code",
   "execution_count": null,
   "metadata": {},
   "outputs": [],
   "source": [
    "Pe = (3/2)*MD.kB*np.array(ne*n*Te*MD.t)"
   ]
  },
  {
   "cell_type": "code",
   "execution_count": null,
   "metadata": {
    "scrolled": false
   },
   "outputs": [],
   "source": [
    "rcParams[\"figure.figsize\"] = [17, 6]\n",
    "fig,ax = plt.subplots()\n",
    "ax.plot(x[x_slice], smooth(Pe)*1e9, label=\"Pe\")\n",
    "plt.legend(loc='upper right')\n",
    "plt.ylabel('nPa')\n",
    "ax2=ax.twinx()\n",
    "ax2.plot(x[x_slice], smooth(By), label='By', color=\"magenta\")\n",
    "plt.legend(loc='lower right')\n",
    "plt.ylabel('nT')\n",
    "plt.xlim([max(x[x_slice]),shock_position-15])\n"
   ]
  },
  {
   "cell_type": "code",
   "execution_count": null,
   "metadata": {},
   "outputs": [],
   "source": [
    "p_dyn = MD.mp * (n*ne) * (v*(Vx-V_HF))**2 \n",
    "p_mag = (b*MD.norm(B))**2/(2*MD.µ0)\n",
    "p_th  = Pe"
   ]
  },
  {
   "cell_type": "code",
   "execution_count": null,
   "metadata": {},
   "outputs": [],
   "source": [
    "print(np.nanmean(p_dyn))\n",
    "print(np.mean(p_mag))\n",
    "print(np.mean(p_th))"
   ]
  },
  {
   "cell_type": "code",
   "execution_count": null,
   "metadata": {},
   "outputs": [],
   "source": [
    "rcParams[\"figure.figsize\"] = [17, 6]\n",
    "fig,ax = plt.subplots()\n",
    "ax.plot(x[x_slice], smooth(1e9*p_dyn)+smooth(1e9*p_mag)+smooth(1e9*p_th), label=\"p_tot\")\n",
    "ax.plot(x[x_slice], smooth(1e9*p_dyn), label=\"p_dyn\")\n",
    "ax.plot(x[x_slice], smooth(1e9*p_mag), label=\"p_mag\")\n",
    "ax.plot(x[x_slice], smooth(1e9*p_th), label=\"p_th\")\n",
    "plt.legend(loc='upper right')\n",
    "plt.ylabel('nPa')\n",
    "plt.xlim([max(x[x_slice]),shock_position-15])\n",
    "\n",
    "\n",
    "fileout = \"pressure_oscillations\"+\"dx=half\"\n",
    "plt.savefig(filepath_out + fileout, dpi=150)\n",
    "print('Figure saved as ', filepath_out + fileout)"
   ]
  },
  {
   "cell_type": "code",
   "execution_count": null,
   "metadata": {},
   "outputs": [],
   "source": [
    "number_of_wavelengths = 3\n",
    "distance_between_first_and_last_peak = 128-120\n",
    "lambda_c_simu = distance_between_first_and_last_peak / number_of_wavelengths\n",
    "\n",
    "print(f\"lambda_c_simu_in_di = {lambda_c_simu:0.2f}\")"
   ]
  },
  {
   "cell_type": "markdown",
   "metadata": {},
   "source": [
    "##### Mach number"
   ]
  },
  {
   "cell_type": "code",
   "execution_count": null,
   "metadata": {},
   "outputs": [],
   "source": [
    "B_up = np.nanmean(MD.norm(B, slice_=(upstream_slice, y_slice_2, z_slice_2)))\n",
    "print(f\"B_upstream = {B_up:0.0f} nT\")\n",
    "\n",
    "print(f\"v_upstream = {v_up:0.0f} km/s\")\n",
    "print(f'V_Hoffman-Teller = {V_HF:0.0f} km/s')\n",
    "\n",
    "vA_up = B_up*MD.b / sqrt(MD.µ0 * MD.mp * n_up*MD.n)\n",
    "print(f\"upstream Alfvén speed = {vA_up/MD.v:0.0f} km/s\")\n",
    "\n",
    "MA_ips = (abs(V_HF)-abs(v_up)) / (vA_up/MD.v)\n",
    "print(f\"Shock's Mach number = {MA_ips:0.1f}\")"
   ]
  },
  {
   "cell_type": "markdown",
   "metadata": {},
   "source": [
    "##### Rankine Hugoniot"
   ]
  },
  {
   "cell_type": "markdown",
   "metadata": {},
   "source": [
    "\\begin{equation}\n",
    "\\begin{split}\n",
    "    \\text{Absence of magnetic monopoles:} \\ \\ \\ \\ & \\left[ B_n \\right] = 0 \\\\\n",
    "    \\text{Continuity equation:} \\ \\ \\ \\ & \\left[ \\rho u_n \\right] = 0 \\\\\n",
    "    \\text{Maxwell-Faraday:} \\ \\ \\ \\ & \\left[ u_n B_{t1} - u_{t1} B_n \\right] = 0 \\ \\ \\ \\& \\ \\ \\ \\left[ u_n B_{t2} - u_{t2} B_n \\right] = 0 \\\\\n",
    "    \\text{Equation of motion:} \\ \\ \\ \\ & \\left[ \\frac{1}{2}\\rho u_n \\vec{u} + (P_\\text{th} + \\frac{B^2}{2 \\mu_0}) \\vec{e}_n - \\frac{B_n \\vec{B}}{\\mu_0} \\right] = 0 \\\\\n",
    "\\end{split}\n",
    "\\end{equation}"
   ]
  },
  {
   "cell_type": "code",
   "execution_count": null,
   "metadata": {},
   "outputs": [],
   "source": [
    "n_plots = 5\n",
    "\n",
    "rcParams[\"figure.figsize\"] = [14, n_plots*2.5]\n",
    "matplotlib.rcParams.update({'font.size': 15})\n",
    "\n",
    "gs = GridSpec(n_plots, 1)\n",
    "\n",
    "data = smooth(Bx)\n",
    "axe = plt.subplot(gs[0])\n",
    "plt.plot(x[x_slice], np.ones(len(x[x_slice]))*np.nanmean(Bx[upstream_slice, y_slice_2, z_slice_2]), color='red', linestyle=\"--\")\n",
    "\n",
    "plt.plot(x[x_slice], smooth(Bx), label=r'$B_x$')\n",
    "plt.legend(loc='lower right')\n",
    "plt.ylabel(\"nT\")\n",
    "axe.get_xaxis().set_visible(False)\n",
    "axe.set_ylim([min(0, min(data)*1.2), max(data*1.2)])\n",
    "\n",
    "data = smooth(N*Vx_hf)\n",
    "axe = plt.subplot(gs[1], sharex=axe)\n",
    "plt.plot(x[x_slice], np.ones(len(x[x_slice]))*np.nanmean((N*Vx_hf)[upstream_slice, y_slice_2, z_slice_2]), color='red', linestyle=\"--\")\n",
    "plt.plot(x[x_slice], data, label=r'$n u_x$')\n",
    "plt.legend(loc='lower right')\n",
    "plt.ylabel(r'cm$^{-3} \\cdot$ km/s')\n",
    "axe.get_xaxis().set_visible(False)\n",
    "axe.set_ylim([min(0, min(data)*1.2), max(data*1.2)])\n",
    "\n",
    "data = smooth(Vx_hf*By - Vy*Bx)\n",
    "axe = plt.subplot(gs[2], sharex=axe)\n",
    "plt.plot(x[x_slice], np.ones(len(x[x_slice]))*np.nanmean((Vx_hf*By - Vy*Bx)[upstream_slice, y_slice_2, z_slice_2]), color='red', linestyle=\"--\")\n",
    "plt.plot(x[x_slice], data, label=r'$u_x B_{y} - u_{y} B_x$')\n",
    "plt.legend(loc='lower right')\n",
    "plt.ylabel(r\"nT $\\cdot$ km/s\")\n",
    "axe.get_xaxis().set_visible(False)\n",
    "axe.set_ylim([min(0, min(data)*1.2), max(data*1.2)])\n",
    "\n",
    "data = smooth(Vx_hf*Bz - Vz*Bx)\n",
    "axe = plt.subplot(gs[3], sharex=axe)\n",
    "plt.plot(x[x_slice], np.ones(len(x[x_slice]))*np.nanmean((Vx_hf*Bz - Vz*Bx)[upstream_slice, y_slice_2, z_slice_2]), color='red', linestyle=\"--\")\n",
    "plt.plot(x[x_slice], data, label=r'$u_x B_{z} - u_{z} B_x$')\n",
    "plt.legend(loc='upper right')\n",
    "plt.ylabel(r\"nT $\\cdot$ km/s\")\n",
    "axe.set_ylim([min(0, min(data)*1.2), max(data*1.2)])\n",
    "\n",
    "# rcParams[\"figure.figsize\"] = [17, 4]\n",
    "# plt.figure()\n",
    "# axe = plt.subplot(sharex=axe)\n",
    "# plt.plot(x[x_slice], smooth(  (1/2)*MD.mp*N*n*(v*Vx_hf)**2 \\\n",
    "#                             + MD.kB*N*n*T*MD.t       \\\n",
    "#                             + (MD.norm(B)*b)**2/(2*MD.µ0) - (b*Bx)**2/MD.µ0) \\\n",
    "# , label=r'$ \\frac{1}{2}\\rho u_n \\vec{u} + (P_{th} + \\frac{B^2}{2 \\mu_0}) \\vec{e}_n - \\frac{B_n \\vec{B}}{\\mu_0}$')\n",
    "# plt.plot(x[x_slice], smooth((1/2)*MD.mp*N*n*(v*Vx_hf)**2), label='Pdyn')\n",
    "# plt.plot(x[x_slice], smooth(MD.kB*N*n*T*MD.t), label='Pth')\n",
    "# plt.plot(x[x_slice], smooth((MD.norm(B)*b)**2/(2*MD.µ0) - (b*Bx)**2/MD.µ0), label='Pmag')  # - (b*Bx)**2/MD.µ0\n",
    "# plt.legend(loc='upper right')\n",
    "# axe.set_ylim(bottom=0)\n",
    "\n",
    "plt.gca().invert_xaxis()\n",
    "plt.xlabel('x (di)', fontsize=fsize*1.2, weight='bold')\n",
    "plt.subplots_adjust(hspace=0)\n",
    "\n",
    "# fileout = \"Rankine_Hugoniot_\"+run_name\n",
    "# plt.savefig(filepath_out + fileout, dpi=150)\n",
    "# print('Figure saved as ', filepath_out + fileout)\n",
    "\n"
   ]
  },
  {
   "cell_type": "markdown",
   "metadata": {},
   "source": [
    "#### Ohm's law"
   ]
  },
  {
   "cell_type": "markdown",
   "metadata": {},
   "source": [
    "$$ E = - v_i \\times B + \\frac{j \\times B}{n_e e} - \\frac{\\nabla \\cdot P_e}{n_e e}$$"
   ]
  },
  {
   "cell_type": "markdown",
   "metadata": {},
   "source": [
    "##### Preliminary computations & definitions"
   ]
  },
  {
   "cell_type": "code",
   "execution_count": null,
   "metadata": {},
   "outputs": [],
   "source": [
    "i = 0"
   ]
  },
  {
   "cell_type": "code",
   "execution_count": null,
   "metadata": {
    "scrolled": true
   },
   "outputs": [],
   "source": [
    "advection = -b*v*MD.cross_product(V, B, slice_=slices)[i]\n",
    "advection = np.mean(advection, axis=(1,2))\n",
    "\n",
    "Hall = j*b/n*MD.cross_product(J, B, slice_=slices)[i] * (1/(qe*N[slices]))\n",
    "Hall = np.mean(Hall, axis=(1,2))\n",
    "\n",
    "vector_Pe = np.sqrt(1/3)*np.array([Pe, Pe, Pe])\n",
    "\n",
    "pressure = - (MD.gradient(vector_Pe)/(cwp*1e3) / (qe*N*n)) [i][x_slice, ny0, nz0]\n",
    "\n",
    "Ohm = advection + Hall + pressure "
   ]
  },
  {
   "cell_type": "code",
   "execution_count": null,
   "metadata": {},
   "outputs": [],
   "source": [
    "advection_2 = -b*v*MD.cross_product(V, B, slice_=slices_2)[i]\n",
    "advection_2 = np.mean(advection_2, axis=(1,2))\n",
    "\n",
    "Hall_2 = j*b/n*MD.cross_product(J, B, slice_=slices_2)[i] * (1/(qe*N[slices_2]))\n",
    "Hall_2 = np.mean(Hall_2, axis=(1,2))\n",
    "\n",
    "vector_Pe = np.sqrt(1/3)*np.array([Pe, Pe, Pe])\n",
    "\n",
    "pressure_2 = - (MD.gradient(vector_Pe)/(cwp*1e3) / (qe*N*n)) [i][slices_2]\n",
    "pressure_2 = np.mean(pressure_2, axis=(1,2))\n",
    "\n",
    "Ohm_2 = advection_2 + Hall_2 + pressure_2"
   ]
  },
  {
   "cell_type": "markdown",
   "metadata": {},
   "source": [
    "##### Plots"
   ]
  },
  {
   "cell_type": "code",
   "execution_count": null,
   "metadata": {
    "scrolled": false
   },
   "outputs": [],
   "source": [
    "rcParams[\"figure.figsize\"] = [17, 18]\n",
    "\n",
    "gs = GridSpec(7, 1)\n",
    "\n",
    "axe = plt.subplot(gs[0])\n",
    "plt.plot(x[x_slice], Ex[x_slice, ny0, nz0], label='electric field')\n",
    "plt.legend()\n",
    "axe.get_xaxis().set_visible(False)\n",
    "\n",
    "axe = plt.subplot(gs[1], sharex=axe)\n",
    "plt.plot(x[x_slice], e*advection, label='advection')\n",
    "plt.legend()\n",
    "axe.get_xaxis().set_visible(False)\n",
    "\n",
    "axe = plt.subplot(gs[2], sharex=axe)\n",
    "plt.plot(x[x_slice], By[x_slice, ny0, nz0], label='By')\n",
    "plt.legend()\n",
    "axe.get_xaxis().set_visible(False)\n",
    "\n",
    "axe = plt.subplot(gs[3], sharex=axe)\n",
    "plt.plot(x[x_slice], np.mean(MD.Jx(B, slices), axis=(1,2)), label='Jx')\n",
    "plt.plot(x[x_slice], np.mean(MD.Jy(B, slices), axis=(1,2)), label='Jy')\n",
    "plt.plot(x[x_slice], np.mean(MD.Jz(B, slices), axis=(1,2)), label='Jz')\n",
    "plt.legend()\n",
    "axe.get_xaxis().set_visible(False)\n",
    "\n",
    "axe = plt.subplot(gs[4], sharex=axe)\n",
    "plt.plot(x[x_slice], e*Hall, label='Hall')\n",
    "plt.legend()\n",
    "axe.get_xaxis().set_visible(False)\n",
    "\n",
    "axe = plt.subplot(gs[5], sharex=axe)\n",
    "plt.plot(x[x_slice], Pe[x_slice, ny0, nz0], label='Pe')\n",
    "plt.legend()\n",
    "axe.get_xaxis().set_visible(False)\n",
    "\n",
    "axe = plt.subplot(gs[6], sharex=axe)\n",
    "plt.plot(x[x_slice], e*pressure, label='pressure term')\n",
    "plt.legend()\n",
    "\n",
    "plt.gca().invert_xaxis()\n",
    "\n",
    "rcParams[\"figure.figsize\"] = [17, 6]\n",
    "plt.figure()\n",
    "plt.plot(x[x_slice], E[i][x_slice, ny0, nz0], label='electric field')\n",
    "plt.plot(x[x_slice], e*Ohm, label=\"Ohm's law\", color=\"black\")\n",
    "plt.plot(x[x_slice], e*advection, label='advection')\n",
    "plt.plot(x[x_slice], e*Hall, label='Hall')\n",
    "plt.plot(x[x_slice], e*pressure, label='pressure term')\n",
    "plt.legend(loc='upper right')\n",
    "\n",
    "plt.xlim([max(x[x_slice]),shock_position-15])"
   ]
  },
  {
   "cell_type": "code",
   "execution_count": null,
   "metadata": {},
   "outputs": [],
   "source": [
    "rcParams[\"figure.figsize\"] = [17, 6]\n",
    "fig,ax = plt.subplots()\n",
    "ax.plot(x[x_slice], np.mean(E[i][slices_2], axis=(1,2)), label='electric field', color='black', linewidth=3)\n",
    "ax.plot(x[x_slice], e*Ohm_2, label='Ohm', linewidth=3)\n",
    "ax.plot(x[x_slice], e*advection_2, label='advection')\n",
    "ax.plot(x[x_slice], e*Hall_2, label='Hall')\n",
    "ax.plot(x[x_slice], e*pressure_2, label='pressure')\n",
    "plt.legend(loc='upper right')\n",
    "# ax2=ax.twinx()\n",
    "# ax2.plot(x[x_slice], smooth(N), label='density', color=\"red\")\n",
    "# plt.legend(loc='lower right')\n",
    "# plt.ylabel(r'cm$^{-3}$')\n",
    "# ax2.set_ylim([-5*max(smooth(N)), 1.2*max(smooth(N))])\n",
    "plt.xlim([max(x[x_slice]),shock_position-15])\n",
    "\n",
    "\n",
    "fileout = \"Ohms_law_near_shock_smooth_dx_half\"\n",
    "plt.savefig(filepath_out+ fileout, dpi=150)\n",
    "print('Figure saved as ', filepath_out + fileout)\n"
   ]
  },
  {
   "cell_type": "code",
   "execution_count": null,
   "metadata": {},
   "outputs": [],
   "source": [
    "print(\"RESULT\")\n",
    "far_downstream_slice = slice(i_shock_position+int(45/gstep[0]),i_shock_position+int(55/gstep[0]))\n",
    "print(f\"far_downstream ranges from x={int(x[far_downstream_slice.start])} to \\\n",
    "x={int(x[far_downstream_slice.stop])} for shock at x={shock_position}\")\n",
    "\n",
    "vy_far_down = np.nanmean(Vy[far_downstream_slice, y_slice_2, z_slice_2])\n",
    "\n",
    "print(f\"vy_far_downstream = {vy_far_down:0.0f} km/s\")\n",
    "vz_far_down = np.nanmean(Vz[far_downstream_slice, y_slice_2, z_slice_2])\n",
    "print(f\"vz_far_downstream = {vz_far_down:0.0f} km/s\")\n",
    "\n",
    "Ex_far_down = np.nanmean(Ex[far_downstream_slice, y_slice_2, z_slice_2])\n",
    "print(f\"Ex_ar_downstream = {Ex_far_down:0.1f} mV/m\")\n",
    "Ey_far_down = np.nanmean(Ey[far_downstream_slice, y_slice_2, z_slice_2])\n",
    "print(f\"Ey_ar_downstream = {Ey_far_down:0.1f} mV/m\")"
   ]
  },
  {
   "cell_type": "markdown",
   "metadata": {},
   "source": [
    "#### Understanding"
   ]
  },
  {
   "cell_type": "code",
   "execution_count": null,
   "metadata": {},
   "outputs": [],
   "source": [
    "rcParams[\"figure.figsize\"] = [17, 6]\n",
    "fig,ax = plt.subplots()\n",
    "ax.plot(x[x_slice], smooth(Pe)*1e9, label=\"Pe\")\n",
    "plt.legend(loc='upper right')\n",
    "plt.ylabel('nPa')\n",
    "ax2=ax.twinx()\n",
    "ax2.plot(x[x_slice], smooth(N), label='N', color=\"green\")\n",
    "plt.legend(loc='lower right')\n",
    "plt.ylabel(r'cm$^{-3}$')\n",
    "plt.xlim([max(x[x_slice]),shock_position-15])"
   ]
  },
  {
   "cell_type": "code",
   "execution_count": null,
   "metadata": {},
   "outputs": [],
   "source": [
    "rcParams[\"figure.figsize\"] = [17, 6]\n",
    "fig,ax = plt.subplots()\n",
    "ax.plot(x[x_slice], smooth(Pe)*1e9, label=\"Pe\")\n",
    "plt.legend(loc='upper right')\n",
    "plt.ylabel('nPa')\n",
    "ax2=ax.twinx()\n",
    "ax2.plot(x[x_slice], smooth(np.gradient(Pe)[i]), label='grad(Pe).ex', color=\"orange\")\n",
    "plt.legend(loc='lower right')\n",
    "plt.xlim([max(x[x_slice]),shock_position-15])"
   ]
  },
  {
   "cell_type": "code",
   "execution_count": null,
   "metadata": {},
   "outputs": [],
   "source": [
    "rcParams[\"figure.figsize\"] = [17, 6]\n",
    "fig,ax = plt.subplots()\n",
    "ax.plot(x[x_slice], smooth(Pe)*1e9, label=\"Pe\")\n",
    "plt.legend(loc='upper right')\n",
    "plt.ylabel('nPa')\n",
    "ax2=ax.twinx()\n",
    "ax2.plot(x[x_slice], pressure_2*e, label=r'$-\\nabla_x \\cdot Pe / (e n)$', color=\"orange\")\n",
    "plt.legend(loc='lower right')\n",
    "plt.ylabel('mv/m')\n",
    "plt.xlim([max(x[x_slice]),shock_position-15])"
   ]
  },
  {
   "cell_type": "code",
   "execution_count": null,
   "metadata": {},
   "outputs": [],
   "source": [
    "rcParams[\"figure.figsize\"] = [17, 6]\n",
    "fig,ax = plt.subplots()\n",
    "ax.plot(x[x_slice], smooth(Ex), label=\"Ex\")\n",
    "plt.ylabel('mv/m')\n",
    "plt.legend(loc='upper right')\n",
    "ax2=ax.twinx()\n",
    "ax2.plot(x[x_slice], smooth(N), label='N', color=\"green\")\n",
    "plt.legend(loc='lower right')\n",
    "plt.ylabel(r'cm$^{-3}$')\n",
    "plt.xlim([max(x[x_slice]),shock_position-15])"
   ]
  },
  {
   "cell_type": "code",
   "execution_count": null,
   "metadata": {},
   "outputs": [],
   "source": [
    "rcParams[\"figure.figsize\"] = [17, 6]\n",
    "fig,ax = plt.subplots()\n",
    "ax.plot(x[x_slice], smooth(Ex), label=\"Ex\")\n",
    "plt.ylabel('mv/m')\n",
    "plt.legend(loc='upper right')\n",
    "ax2=ax.twinx()\n",
    "ax2.plot(x[x_slice], pressure_2*e, label=r'$-\\nabla_x \\cdot Pe / (e n)$', color=\"orange\")\n",
    "plt.legend(loc='lower right')\n",
    "plt.ylabel('mv/m')\n",
    "plt.xlim([max(x[x_slice]),shock_position-15])"
   ]
  },
  {
   "cell_type": "code",
   "execution_count": null,
   "metadata": {},
   "outputs": [],
   "source": [
    "rcParams[\"figure.figsize\"] = [17, 6]\n",
    "fig,ax = plt.subplots()\n",
    "ax.plot(x[x_slice], smooth(Ex), label=\"Ex\")\n",
    "plt.ylabel('mv/m')\n",
    "plt.legend(loc='upper right')\n",
    "ax2=ax.twinx()\n",
    "ax2.plot(x[x_slice], smooth(Vz), label='Vz', color=\"red\")\n",
    "plt.legend(loc='lower right')\n",
    "plt.ylabel('km/s')\n",
    "plt.xlim([max(x[x_slice]),shock_position-15])"
   ]
  },
  {
   "cell_type": "code",
   "execution_count": null,
   "metadata": {},
   "outputs": [],
   "source": [
    "rcParams[\"figure.figsize\"] = [17, 6]\n",
    "fig,ax = plt.subplots()\n",
    "ax.plot(x[x_slice], smooth(Vz), label='Vz', color=\"red\")\n",
    "plt.legend(loc='lower right')\n",
    "plt.ylabel('km/s')\n",
    "ax2=ax.twinx()\n",
    "ax2.plot(x[x_slice], smooth(N), label='N', color=\"green\")\n",
    "plt.ylabel(r'cm$^{-3}$')\n",
    "plt.legend(loc='upper right')\n",
    "plt.xlim([max(x[x_slice]),shock_position-15])"
   ]
  },
  {
   "cell_type": "code",
   "execution_count": null,
   "metadata": {},
   "outputs": [],
   "source": [
    "wci_down = MD.qe*B_down*MD.b / MD.mp\n",
    "print(f\"wci_downstream={wci_down}\")\n",
    "\n",
    "print(f\"lambda={(2*pi/wci_down)*(v_down - V_HF) / cwp[0]}\")"
   ]
  },
  {
   "cell_type": "markdown",
   "metadata": {},
   "source": [
    "#### color maps"
   ]
  },
  {
   "cell_type": "code",
   "execution_count": null,
   "metadata": {},
   "outputs": [],
   "source": [
    "xmin = shock_position-30\n",
    "xmax = shock_position+80   \n",
    "zoom = (xmin, xmax, min(y), max(y), min(z), max(z))"
   ]
  },
  {
   "cell_type": "code",
   "execution_count": null,
   "metadata": {
    "scrolled": false
   },
   "outputs": [],
   "source": [
    "b = MD.norm(B)[:,:,nz0]\n",
    "b0 = np.mean(b[xmin:xmax, :])\n",
    "MD.plot_colormap(b/b0, title=r'$B/B_0$ in xy plane', label='', plane='xy', zoom=zoom)\n",
    "\n",
    "bx = Bx[:,:,nz0]\n",
    "bx0 = np.mean(bx[:, :], axis=1) #Average along y\n",
    "bx0 = np.transpose(np.tile(bx0, (np.shape(bx)[1], 1)))\n",
    "dbx = bx - bx0\n",
    "MD.plot_colormap(dbx/b0, title=r'$\\delta B_x/B_0$ in xy plane', label='', plane='xy', zoom=zoom, map_color='seismic', min_value=-0.25, max_value=0.25)\n",
    "\n",
    "by = By[:,:,nz0]\n",
    "by0 = np.mean(by[:, :], axis=1)\n",
    "by0 = np.transpose(np.tile(by0, (np.shape(by)[1], 1)))\n",
    "dby = by - by0\n",
    "MD.plot_colormap(dby/b0, title=r'$\\delta B_y/B_0$ in xy plane', label='', plane='xy', zoom=zoom, map_color='seismic', min_value=-0.5, max_value=0.5)\n",
    "\n",
    "bz = Bz[:,:,nz0]\n",
    "bz0 = np.mean(bz[:, :], axis=1)\n",
    "bz0 = np.transpose(np.tile(bz0, (np.shape(bz)[1], 1)))\n",
    "dbz = bz - bz0\n",
    "MD.plot_colormap(dbz/b0, title=r'$\\delta B_z/B_0$ in xy plane', label='', plane='xy', zoom=zoom, map_color='seismic', min_value=-0.25, max_value=0.25)"
   ]
  },
  {
   "cell_type": "code",
   "execution_count": null,
   "metadata": {},
   "outputs": [],
   "source": [
    "by = By[:,:,nz0]\n",
    "by0 = np.mean(by[:, :], axis=0) #Average along x\n",
    "by0 = np.tile(by0, (np.shape(by)[0],1))\n",
    "dby = by - by0\n",
    "MD.plot_colormap(dby/b0, title=r'$\\delta B_y/B_0$ in xy plane', label='', plane='xy', zoom=zoom, map_color='seismic', min_value=-0.5, max_value=4)\n"
   ]
  },
  {
   "cell_type": "code",
   "execution_count": null,
   "metadata": {},
   "outputs": [],
   "source": [
    "wait_these_p3_figures_take_a_LOT_of_time"
   ]
  },
  {
   "cell_type": "markdown",
   "metadata": {},
   "source": [
    "#### p3 files"
   ]
  },
  {
   "cell_type": "markdown",
   "metadata": {},
   "source": [
    "##### Download data"
   ]
  },
  {
   "cell_type": "code",
   "execution_count": null,
   "metadata": {},
   "outputs": [],
   "source": [
    "posx = []\n",
    "posy = []\n",
    "posz = []\n",
    "\n",
    "velx = []\n",
    "vely = []\n",
    "velz = []\n",
    "\n",
    "i = 0\n",
    "\n",
    "filepath_p3 = filepath + '/p3_files/'\n",
    "\n",
    "for p3_file in listdir(filepath_p3):\n",
    "    \n",
    "    if not(\".nc\" in p3_file):\n",
    "        continue\n",
    "    \n",
    "    i+=1\n",
    "        \n",
    "    print(\"Reading file\", i, \"/\", len(listdir(filepath_p3)), end=\"\\r\")\n",
    "#    print(\"Reading \", p3_file, \" ...\", end=\"\\r\")\n",
    "\n",
    "    p3_data = nc.Dataset(filepath_p3 + p3_file,'r')\n",
    "    \n",
    "    posx = posx + list(np.array(p3_data.variables['particule_x']))\n",
    "    posy = posy + list(np.array(p3_data.variables['particule_y']))\n",
    "    posz = posz + list(np.array(p3_data.variables['particule_z']))\n",
    "\n",
    "    velx = velx + list(-np.array(p3_data.variables['particule_vx']))\n",
    "    vely = vely + list(-np.array(p3_data.variables['particule_vy']))\n",
    "    velz = velz + list(np.array(p3_data.variables['particule_vz']))\n"
   ]
  },
  {
   "cell_type": "code",
   "execution_count": null,
   "metadata": {},
   "outputs": [],
   "source": [
    "nx = len(x)\n",
    "ny = len(y)\n",
    "nz = len(z)\n",
    "dx = MD.gstep[0]\n",
    "dy = MD.gstep[1]\n",
    "dz = MD.gstep[2]\n",
    "px = nx*dx - 100\n",
    "py = ny/2 * dy\n",
    "pz = nz/2 * dz\n",
    "\n",
    "def pos_gse(pos_simu, planet, sgn):\n",
    "    return sgn*(np.array(pos_simu) - planet*np.ones(len(pos_simu)))\n",
    "\n",
    "# Move from x_simu to x_gse\n",
    "rposx = pos_gse(posx, px, -1)\n",
    "rposy = pos_gse(posy, py, -1)\n",
    "rposz = pos_gse(posz, pz,  1)"
   ]
  },
  {
   "cell_type": "markdown",
   "metadata": {},
   "source": [
    "#### Crop dataset"
   ]
  },
  {
   "cell_type": "code",
   "execution_count": null,
   "metadata": {},
   "outputs": [],
   "source": [
    "xlims = (shock_position-15,shock_position+30)\n",
    "ylims = (-100, 100)\n",
    "zlims = (-100, 100)\n",
    "print(xlims)"
   ]
  },
  {
   "cell_type": "code",
   "execution_count": null,
   "metadata": {},
   "outputs": [],
   "source": [
    "def inregion(pos_part):\n",
    "    x_part, y_part, z_part = pos_part\n",
    "    return (    (xlims[0] < x_part < xlims[1]) \n",
    "            and (ylims[0] < y_part < ylims[1]) \n",
    "            and (zlims[0] < z_part < zlims[1]) )"
   ]
  },
  {
   "cell_type": "code",
   "execution_count": null,
   "metadata": {},
   "outputs": [],
   "source": [
    "x_parts = [rposx[i] for i in range(0, len(rposx))\n",
    "      if inregion((rposx[i], rposy[i], rposz[i]))]\n",
    "y_parts = [rposy[i] for i in range(0, len(rposx))\n",
    "      if inregion((rposx[i], rposy[i], rposz[i]))]\n",
    "z_parts = [rposz[i] for i in range(0, len(rposx))\n",
    "      if inregion((rposx[i], rposy[i], rposz[i]))]\n",
    "\n",
    "vA = 89.371 #Ugly hard code\n",
    "vx_parts = [velx[i]*vA for i in range(0, len(rposx))\n",
    "      if inregion((rposx[i], rposy[i], rposz[i]))]\n",
    "vy_parts = [vely[i]*vA for i in range(0, len(rposx))\n",
    "      if inregion((rposx[i], rposy[i], rposz[i]))]\n",
    "vz_parts = [velz[i]*vA for i in range(0, len(rposx))\n",
    "      if inregion((rposx[i], rposy[i], rposz[i]))]"
   ]
  },
  {
   "cell_type": "code",
   "execution_count": null,
   "metadata": {},
   "outputs": [],
   "source": [
    "plt.scatter(x_parts, vx_parts, s = 0.001)\n",
    "plt.xlim(xlims[1], xlims[0])\n",
    "plt.show()"
   ]
  },
  {
   "cell_type": "code",
   "execution_count": null,
   "metadata": {
    "scrolled": true
   },
   "outputs": [],
   "source": [
    "plt.scatter(x_parts, vz_parts, s = 0.001)\n",
    "plt.xlim(xlims[1], xlims[0])\n",
    "plt.show()"
   ]
  },
  {
   "cell_type": "code",
   "execution_count": null,
   "metadata": {},
   "outputs": [],
   "source": [
    "#just downstream\n",
    "\n",
    "xlims = (shock_position+2,shock_position+4)\n",
    "ylims = (-10, 10)\n",
    "zlims = (-10, 10)\n",
    "print(xlims)\n",
    "\n",
    "def inregion(pos_part):\n",
    "    x_part, y_part, z_part = pos_part\n",
    "    return (    (xlims[0] < x_part < xlims[1]) \n",
    "            and (ylims[0] < y_part < ylims[1]) \n",
    "            and (zlims[0] < z_part < zlims[1]) )\n",
    "\n",
    "x_parts = [rposx[i] for i in range(0, len(rposx))\n",
    "      if inregion((rposx[i], rposy[i], rposz[i]))]\n",
    "y_parts = [rposy[i] for i in range(0, len(rposx))\n",
    "      if inregion((rposx[i], rposy[i], rposz[i]))]\n",
    "z_parts = [rposz[i] for i in range(0, len(rposx))\n",
    "      if inregion((rposx[i], rposy[i], rposz[i]))]\n",
    "\n",
    "vA = 89.371 #Ugly hard code\n",
    "vx_parts = [velx[i]*vA for i in range(0, len(rposx))\n",
    "      if inregion((rposx[i], rposy[i], rposz[i]))]\n",
    "vy_parts = [vely[i]*vA for i in range(0, len(rposx))\n",
    "      if inregion((rposx[i], rposy[i], rposz[i]))]\n",
    "vz_parts = [velz[i]*vA for i in range(0, len(rposx))\n",
    "      if inregion((rposx[i], rposy[i], rposz[i]))]\n",
    "\n",
    "vxmean = np.mean(vx_parts)\n",
    "vzmean = np.mean(vz_parts)"
   ]
  },
  {
   "cell_type": "code",
   "execution_count": null,
   "metadata": {},
   "outputs": [],
   "source": [
    "plt.scatter(vx_parts - vxmean, vz_parts - vzmean, s = 0.01)\n",
    "plt.text(0,0, f\"average vz = {vzmean:0.0f} km/s\", horizontalalignment='center', verticalalignment='center')\n",
    "plt.show()"
   ]
  },
  {
   "cell_type": "code",
   "execution_count": null,
   "metadata": {},
   "outputs": [],
   "source": [
    "#further downstream\n",
    "\n",
    "xlims = (shock_position+12,shock_position+14)\n",
    "ylims = (-10, 10)\n",
    "zlims = (-10, 10)\n",
    "print(xlims)\n",
    "\n",
    "def inregion(pos_part):\n",
    "    x_part, y_part, z_part = pos_part\n",
    "    return (    (xlims[0] < x_part < xlims[1]) \n",
    "            and (ylims[0] < y_part < ylims[1]) \n",
    "            and (zlims[0] < z_part < zlims[1]) )\n",
    "\n",
    "x_parts = [rposx[i] for i in range(0, len(rposx))\n",
    "      if inregion((rposx[i], rposy[i], rposz[i]))]\n",
    "y_parts = [rposy[i] for i in range(0, len(rposx))\n",
    "      if inregion((rposx[i], rposy[i], rposz[i]))]\n",
    "z_parts = [rposz[i] for i in range(0, len(rposx))\n",
    "      if inregion((rposx[i], rposy[i], rposz[i]))]\n",
    "\n",
    "vA = 89.371 #Ugly hard code\n",
    "vx_parts = [velx[i]*vA for i in range(0, len(rposx))\n",
    "      if inregion((rposx[i], rposy[i], rposz[i]))]\n",
    "vy_parts = [vely[i]*vA for i in range(0, len(rposx))\n",
    "      if inregion((rposx[i], rposy[i], rposz[i]))]\n",
    "vz_parts = [velz[i]*vA for i in range(0, len(rposx))\n",
    "      if inregion((rposx[i], rposy[i], rposz[i]))]\n",
    "\n",
    "vxmean = np.mean(vx_parts)\n",
    "vzmean = np.mean(vz_parts)"
   ]
  },
  {
   "cell_type": "code",
   "execution_count": null,
   "metadata": {},
   "outputs": [],
   "source": [
    "plt.scatter(vx_parts - vxmean, vz_parts - vzmean, s = 0.01)\n",
    "plt.text(0,0, f\"average vz = {vzmean:0.0f} km/s\", horizontalalignment='center', verticalalignment='center')\n",
    "plt.show()"
   ]
  },
  {
   "cell_type": "code",
   "execution_count": null,
   "metadata": {},
   "outputs": [],
   "source": [
    "#even further downstream\n",
    "\n",
    "xlims = (shock_position+32,shock_position+34)\n",
    "ylims = (-10, 10)\n",
    "zlims = (-10, 10)\n",
    "print(xlims)\n",
    "\n",
    "def inregion(pos_part):\n",
    "    x_part, y_part, z_part = pos_part\n",
    "    return (    (xlims[0] < x_part < xlims[1]) \n",
    "            and (ylims[0] < y_part < ylims[1]) \n",
    "            and (zlims[0] < z_part < zlims[1]) )\n",
    "\n",
    "x_parts = [rposx[i] for i in range(0, len(rposx))\n",
    "      if inregion((rposx[i], rposy[i], rposz[i]))]\n",
    "y_parts = [rposy[i] for i in range(0, len(rposx))\n",
    "      if inregion((rposx[i], rposy[i], rposz[i]))]\n",
    "z_parts = [rposz[i] for i in range(0, len(rposx))\n",
    "      if inregion((rposx[i], rposy[i], rposz[i]))]\n",
    "\n",
    "vA = 89.371 #Ugly hard code\n",
    "vx_parts = [velx[i]*vA for i in range(0, len(rposx))\n",
    "      if inregion((rposx[i], rposy[i], rposz[i]))]\n",
    "vy_parts = [vely[i]*vA for i in range(0, len(rposx))\n",
    "      if inregion((rposx[i], rposy[i], rposz[i]))]\n",
    "vz_parts = [velz[i]*vA for i in range(0, len(rposx))\n",
    "      if inregion((rposx[i], rposy[i], rposz[i]))]\n",
    "\n",
    "vxmean = np.mean(vx_parts)\n",
    "vzmean = np.mean(vz_parts)"
   ]
  },
  {
   "cell_type": "code",
   "execution_count": null,
   "metadata": {},
   "outputs": [],
   "source": [
    "plt.scatter(vx_parts - vxmean, vz_parts - vzmean, s = 0.01)\n",
    "plt.text(0,0, f\"average vz = {vzmean:0.0f} km/s\", horizontalalignment='center', verticalalignment='center')\n",
    "plt.show()"
   ]
  },
  {
   "cell_type": "code",
   "execution_count": null,
   "metadata": {},
   "outputs": [],
   "source": []
  }
 ],
 "metadata": {
  "kernelspec": {
   "display_name": "Python 3",
   "language": "python",
   "name": "python3"
  },
  "language_info": {
   "codemirror_mode": {
    "name": "ipython",
    "version": 3
   },
   "file_extension": ".py",
   "mimetype": "text/x-python",
   "name": "python",
   "nbconvert_exporter": "python",
   "pygments_lexer": "ipython3",
   "version": "3.6.9"
  }
 },
 "nbformat": 4,
 "nbformat_minor": 2
}
