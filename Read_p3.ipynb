{
 "cells": [
  {
   "cell_type": "markdown",
   "metadata": {
    "heading_collapsed": true
   },
   "source": [
    "# Import Modules"
   ]
  },
  {
   "cell_type": "code",
   "execution_count": 1,
   "metadata": {
    "hidden": true
   },
   "outputs": [
    {
     "name": "stdout",
     "output_type": "stream",
     "text": [
      "importing Jupyter notebook from Module_Diagnostics.ipynb\n",
      "testing compute_RMS(...):\n",
      "This should be close to 1: 1.0106507108855913\n",
      "This should be close to 0: 0.0\n"
     ]
    }
   ],
   "source": [
    "from os import listdir\n",
    "from os.path import isfile, join\n",
    "import os.path as path\n",
    "from tempfile import mkdtemp\n",
    "\n",
    "import netCDF4 as nc\n",
    "import numpy as np\n",
    "import matplotlib\n",
    "from matplotlib import pyplot as plt\n",
    "from matplotlib import rcParams\n",
    "import import_ipynb\n",
    "import re\n",
    "import glob\n",
    "\n",
    "\n",
    "import Module_Diagnostics as MD\n",
    "\n",
    "\n",
    "# import Shock_understanding_preset as Sup"
   ]
  },
  {
   "cell_type": "markdown",
   "metadata": {
    "heading_collapsed": true
   },
   "source": [
    "# Choose run and time"
   ]
  },
  {
   "cell_type": "code",
   "execution_count": 2,
   "metadata": {
    "hidden": true
   },
   "outputs": [
    {
     "name": "stdout",
     "output_type": "stream",
     "text": [
      "date of the simulation (DD_MM_YY): 18_08_20\n",
      "time dump (in 1/omega_ci): 00230\n"
     ]
    }
   ],
   "source": [
    "#if working on lx-moissard\n",
    "Cluster = 'Occ/'\n",
    "run_name = '20_08_18_new_big_one_0'\n",
    "filepath = '/data/Lathys/Visualisation/' + Cluster + run_name + '/ncfiles/p3_files/'\n",
    "filepath_nc = '/data/Lathys/Visualisation/' + Cluster + run_name + '/ncfiles/'\n",
    "\n",
    "time = 230 #TIME\n",
    "time = '%05d' % time    # Change the time to string format, needed by functions\n",
    "\n",
    "\n",
    "try:\n",
    "    date = re.search('Magw_(.+?)_t', glob.glob(filepath_nc+'Magw*_t'+time+'.nc')[0]).group(1)\n",
    "except (IndexError, AttributeError): \n",
    "    sys.exit(f\"\"\"time_dump {time} does not appear to have data.\n",
    "             Let us go to the next time_dump\"\"\")\n",
    "\n",
    "print(f'date of the simulation (DD_MM_YY): {date}')\n",
    "print(f'time dump (in 1/omega_ci): {time}')"
   ]
  },
  {
   "cell_type": "markdown",
   "metadata": {
    "heading_collapsed": true
   },
   "source": [
    "# Download data"
   ]
  },
  {
   "cell_type": "code",
   "execution_count": 3,
   "metadata": {
    "hidden": true
   },
   "outputs": [
    {
     "name": "stdout",
     "output_type": "stream",
     "text": [
      "Importing Magw 3D from /data/Lathys/Visualisation/Occ/20_08_18_new_big_one_0/ncfiles/\n",
      "Reading Bx...\n",
      "Reading By...\n",
      "Reading Bz...\n",
      "Close file and return...\n",
      "storing Magnetic field in a memmap\n",
      "deleting Magw to alleviate RAM\n"
     ]
    }
   ],
   "source": [
    "## Load B and X, Y, Z\n",
    "\n",
    "# There might be some MemoryError. In that case, follow the guide:\n",
    "# https://stackoverflow.com/questions/60563936/memoryerror-unable-to-allocate-3-78-gib-for-an-array-with-shape-802-842-1502\n",
    "Magw = MD.import_data_3D(filepath_nc, date, time, 'Magw')\n",
    "\n",
    "cwp = Magw['c_omegapi'][0]\n",
    "gstep = Magw['gstep']\n",
    "r_planet = Magw['r_planet'][0]\n",
    "\n",
    "#Thomas Huret recommands shifting the axes so that the planet is indeed in (0,0,0)\n",
    "#It has got something to do with lists starting at 1 instead of 0 in Fortran...?\n",
    "X = np.array(np.around(Magw['x']))#+gstep[0]  \n",
    "Y = np.array(np.around(Magw['y']))#+gstep[1]\n",
    "Z = np.array(np.around(Magw['z']))#-gstep[2]\n",
    "\n",
    "nx,  ny,  nz  = len(X), len(Y), len(Z)\n",
    "# Location of the planet is defined in the .ncfiles as (x,y,z) = (0,0,0)\n",
    "# Location of the planet is defined in the .ncfiles as (x,y,z) = (0,0,0)\n",
    "nx0, ny0, nz0 = ( int(np.where(abs(X)==min(abs(X)))[0]),\n",
    "                  int(np.where(abs(Y)==min(abs(Y)))[0]), \n",
    "                  int(np.where(abs(Z)==min(abs(Z)))[0])  )\n",
    "            \n",
    "# Use memmap to alleviate RAM\n",
    "# This stores big arrays on the disk, but in a way that still allows for most\n",
    "# operations available on an np.array\n",
    "print(\"storing Magnetic field in a memmap\")\n",
    "file_Bx = path.join(mkdtemp(), 'Bx.dat')            \n",
    "Bx = np.memmap(file_Bx, dtype='float32', mode='w+', shape=(nx,ny,nz))\n",
    "Bx[:] = Magw['Bx']\n",
    "file_By = path.join(mkdtemp(), 'By.dat')            \n",
    "By = np.memmap(file_By, dtype='float32', mode='w+', shape=(nx,ny,nz))\n",
    "By[:] = Magw['By']\n",
    "file_Bz = path.join(mkdtemp(), 'Bz.dat')            \n",
    "Bz = np.memmap(file_Bz, dtype='float32', mode='w+', shape=(nx,ny,nz))\n",
    "Bz[:] = Magw['Bz']\n",
    "print(\"deleting Magw to alleviate RAM\")\n",
    "del Magw\n",
    "B = [Bx, By, Bz]"
   ]
  },
  {
   "cell_type": "code",
   "execution_count": 4,
   "metadata": {
    "hidden": true,
    "scrolled": true
   },
   "outputs": [
    {
     "name": "stdout",
     "output_type": "stream",
     "text": [
      "Reading file 1 / 20\n",
      "Reading  p3_1770_18_08_20_t00230.nc  ...\n",
      "Reading file 2 / 20\n",
      "Reading  p3_2849_18_08_20_t00230.nc  ...\n",
      "Reading file 3 / 20\n",
      "Reading  p3_1829_18_08_20_t00230.nc  ...\n",
      "Reading file 4 / 20\n",
      "Reading  p3_2669_18_08_20_t00230.nc  ...\n",
      "Reading file 5 / 20\n",
      "Reading  p3_1830_18_08_20_t00230.nc  ...\n",
      "Reading file 6 / 20\n",
      "Reading  p3_2190_18_08_20_t00230.nc  ...\n",
      "Reading file 7 / 20\n",
      "Reading  p3_2670_18_08_20_t00230.nc  ...\n",
      "Reading file 8 / 20\n",
      "Reading  p3_2250_18_08_20_t00230.nc  ...\n",
      "Reading file 9 / 20\n",
      "Reading  p3_2789_18_08_20_t00230.nc  ...\n",
      "Reading file 10 / 20\n",
      "Reading  p3_2790_18_08_20_t00230.nc  ...\n",
      "Reading file 11 / 20\n",
      "Reading  p3_2309_18_08_20_t00230.nc  ...\n",
      "Reading file 12 / 20\n",
      "Reading  p3_2909_18_08_20_t00230.nc  ...\n",
      "Reading file 13 / 20\n",
      "Reading  p3_2850_18_08_20_t00230.nc  ...\n",
      "Reading file 14 / 20\n",
      "Reading  p3_2189_18_08_20_t00230.nc  ...\n",
      "Reading file 15 / 20\n",
      "Reading  p3_1769_18_08_20_t00230.nc  ...\n",
      "Reading file 16 / 20\n",
      "Reading  p3_2729_18_08_20_t00230.nc  ...\n",
      "Reading file 17 / 20\n",
      "Reading  p3_2310_18_08_20_t00230.nc  ...\n",
      "Reading file 18 / 20\n",
      "Reading  p3_2249_18_08_20_t00230.nc  ...\n",
      "Reading file 19 / 20\n",
      "Reading  p3_2730_18_08_20_t00230.nc  ...\n",
      "Reading file 20 / 20\n",
      "Reading  p3_2910_18_08_20_t00230.nc  ...\n"
     ]
    }
   ],
   "source": [
    "posx = []\n",
    "posy = []\n",
    "posz = []\n",
    "\n",
    "velx = []\n",
    "vely = []\n",
    "velz = []\n",
    "\n",
    "i = 0\n",
    "\n",
    "for p3_file in listdir(filepath):\n",
    "    \n",
    "    if not(\".nc\" in p3_file):\n",
    "        continue\n",
    "    \n",
    "    i+=1\n",
    "        \n",
    "    print(\"Reading file\", i, \"/\", len(listdir(filepath)))\n",
    "    print(\"Reading \", p3_file, \" ...\")\n",
    "\n",
    "    p3_data = nc.Dataset(filepath + p3_file,'r')\n",
    "    \n",
    "    posx = posx + list(np.array(p3_data.variables['particule_x']))\n",
    "    posy = posy + list(np.array(p3_data.variables['particule_y']))\n",
    "    posz = posz + list(np.array(p3_data.variables['particule_z']))\n",
    "\n",
    "    velx = velx + list(-np.array(p3_data.variables['particule_vx']))\n",
    "    vely = vely + list(-np.array(p3_data.variables['particule_vy']))\n",
    "    velz = velz + list(np.array(p3_data.variables['particule_vz']))\n"
   ]
  },
  {
   "cell_type": "markdown",
   "metadata": {},
   "source": [
    "# Cubes, positions & velocities"
   ]
  },
  {
   "cell_type": "code",
   "execution_count": 5,
   "metadata": {},
   "outputs": [],
   "source": [
    "# /!\\ ugly hard coding\n",
    "\n",
    "nx = 1500\n",
    "ny = 720\n",
    "nz = 660\n",
    "dx = 1\n",
    "dy = 1\n",
    "dz = 1\n",
    "px = (nx - 100)*dx\n",
    "py = ny/2 * dy\n",
    "pz = nz/2 * dz\n",
    "\n",
    "def pos_gse(pos_simu, planet, sgn):\n",
    "    return sgn*(np.array(pos_simu) - planet*np.ones(len(pos_simu)))\n",
    "\n",
    "# Move from x_simu to x_gse\n",
    "rposx = pos_gse(posx, px, -1)\n",
    "rposy = pos_gse(posy, py, -1)\n",
    "rposz = pos_gse(posz, pz,  1)"
   ]
  },
  {
   "cell_type": "code",
   "execution_count": 6,
   "metadata": {
    "code_folding": []
   },
   "outputs": [],
   "source": [
    "def cubes(position_shock):\n",
    "    \n",
    "    '''Defines two cubes: one on the left and one on the right side of\n",
    "       a point.'''\n",
    "    \n",
    "    distance = 7\n",
    "    size_cubes = 6 # Goals and poles. This will be a 5 by 5 cube.\n",
    "    \n",
    "    x_shock = position_shock[0]\n",
    "    y_shock = position_shock[1]\n",
    "    z_shock = position_shock[2]\n",
    "    \n",
    "    center_cube = x_shock, y_shock, z_shock\n",
    "\n",
    "    cube_x_max = x_shock + size_cubes/2\n",
    "    cube_x_min = x_shock - size_cubes/2\n",
    "    cube_y_max = y_shock + size_cubes/2\n",
    "    cube_y_min = y_shock - size_cubes/2\n",
    "    cube_z_max = z_shock + size_cubes/2\n",
    "    cube_z_min = z_shock - size_cubes/2\n",
    "\n",
    "    ix_min_left  = int(np.where(cube_x_min + distance <=X)[0][0])    \n",
    "    ix_max_left  = int(np.where(cube_x_max + distance <=X)[0][0])\n",
    "    ix_min_right = int(np.where(cube_x_min - distance <=X)[0][0])    \n",
    "    ix_max_right = int(np.where(cube_x_max - distance <=X)[0][0])\n",
    "    iy_min = int(np.where(cube_y_min<=Y)[0][0])\n",
    "    iy_max = int(np.where(cube_y_max<=Y)[0][0])\n",
    "    iz_min = int(np.where(cube_z_min<=Z)[0][0])\n",
    "    iz_max = int(np.where(cube_z_max<=Z)[0][0])\n",
    "    \n",
    "    cubes = {'left':\n",
    "              { 'coord': (cube_x_min+distance, cube_x_max+distance, cube_y_min, cube_y_max, cube_z_min, cube_z_max),\n",
    "                'index': (ix_min_left , ix_max_left , iy_min, iy_max, iz_min, iz_max) },\n",
    "             \n",
    "             'right': \n",
    "              { 'coord': (cube_x_min-distance, cube_x_max-distance, cube_y_min, cube_y_max, cube_z_min, cube_z_max),\n",
    "                'index': (ix_min_right, ix_max_right, iy_min, iy_max, iz_min, iz_max) }\n",
    "             }\n",
    "    \n",
    "    return cubes"
   ]
  },
  {
   "cell_type": "code",
   "execution_count": 7,
   "metadata": {
    "code_folding": [
     0
    ]
   },
   "outputs": [],
   "source": [
    "def incube(point, cube):\n",
    "    x, y, z = point\n",
    "    xmin, xmax, ymin, ymax, zmin, zmax = cube\n",
    "    return (     (xmin < x < xmax) \n",
    "             and (ymin < y < ymax)\n",
    "             and (zmin < z < zmax) )"
   ]
  },
  {
   "cell_type": "code",
   "execution_count": 8,
   "metadata": {},
   "outputs": [],
   "source": [
    "#for '20_08_18_new_big_one_0', at t=230\n",
    "#cube = (xmin, xmax, ymin, ymax, zmin, zmax)\n",
    "position_shock_sw = (-65, 180, 0)\n",
    "position_shock_bs = (-63, 135, 0)\n",
    "position_shock_mp = (-50,  76, 0) #current structure\n",
    "#position_shock_mp = (-55,  90, 0) #clean in the msh\n",
    "\n",
    "cubes_sw = cubes(position_shock_sw)['right']['coord']\n",
    "cubes_bs = cubes(position_shock_bs)['right']['coord']\n",
    "cubes_mp = cubes(position_shock_mp)['right']['coord']"
   ]
  },
  {
   "cell_type": "code",
   "execution_count": 9,
   "metadata": {},
   "outputs": [
    {
     "name": "stdout",
     "output_type": "stream",
     "text": [
      "Constructing list of particles in the solar wind\n",
      "Constructing list of particles in the magnetosheath, near the bow shock\n",
      "Constructing list of particles in the magnetosheath, near the magnetopause\n"
     ]
    }
   ],
   "source": [
    "print(\"Constructing list of particles in the solar wind\")\n",
    "\n",
    "x_sw = [rposx[i] for i in range(0, len(rposx))\n",
    "      if incube((rposx[i], rposy[i], rposz[i]), cubes_sw)]\n",
    "y_sw = [rposy[i] for i in range(0, len(rposx))\n",
    "      if incube((rposx[i], rposy[i], rposz[i]), cubes_sw)]\n",
    "z_sw = [rposz[i] for i in range(0, len(rposx))\n",
    "      if incube((rposx[i], rposy[i], rposz[i]), cubes_sw)]\n",
    "\n",
    "vA = 89.371 #Ugly hard code\n",
    "vx_sw = [velx[i]*vA for i in range(0, len(rposx))\n",
    "      if incube((rposx[i], rposy[i], rposz[i]), cubes_sw)]\n",
    "vy_sw = [vely[i]*vA for i in range(0, len(rposx))\n",
    "      if incube((rposx[i], rposy[i], rposz[i]), cubes_sw)]\n",
    "vz_sw = [velz[i]*vA for i in range(0, len(rposx))\n",
    "      if incube((rposx[i], rposy[i], rposz[i]), cubes_sw)]\n",
    "\n",
    "print(\"Constructing list of particles in the magnetosheath, near the bow shock\")\n",
    "\n",
    "x_bs = [rposx[i] for i in range(0, len(rposx))\n",
    "      if incube((rposx[i], rposy[i], rposz[i]), cubes_bs)]\n",
    "y_bs = [rposy[i] for i in range(0, len(rposx))\n",
    "      if incube((rposx[i], rposy[i], rposz[i]), cubes_bs)]\n",
    "z_bs = [rposz[i] for i in range(0, len(rposx))\n",
    "      if incube((rposx[i], rposy[i], rposz[i]), cubes_bs)]\n",
    "\n",
    "vA = 89.371 #Ugly hard code\n",
    "vx_bs = [velx[i]*vA for i in range(0, len(rposx))\n",
    "      if incube((rposx[i], rposy[i], rposz[i]), cubes_bs)]\n",
    "vy_bs = [vely[i]*vA for i in range(0, len(rposx))\n",
    "      if incube((rposx[i], rposy[i], rposz[i]), cubes_bs)]\n",
    "vz_bs = [velz[i]*vA for i in range(0, len(rposx))\n",
    "      if incube((rposx[i], rposy[i], rposz[i]), cubes_bs)]\n",
    "\n",
    "print(\"Constructing list of particles in the magnetosheath, near the magnetopause\")\n",
    "\n",
    "x_mp = [rposx[i] for i in range(0, len(rposx))\n",
    "      if incube((rposx[i], rposy[i], rposz[i]), cubes_mp)]\n",
    "y_mp = [rposy[i] for i in range(0, len(rposx))\n",
    "      if incube((rposx[i], rposy[i], rposz[i]), cubes_mp)]\n",
    "z_mp = [rposz[i] for i in range(0, len(rposx))\n",
    "      if incube((rposx[i], rposy[i], rposz[i]), cubes_mp)]\n",
    "\n",
    "vA = 89.371 #Ugly hard code\n",
    "vx_mp = [velx[i]*vA for i in range(0, len(rposx))\n",
    "      if incube((rposx[i], rposy[i], rposz[i]), cubes_mp)]\n",
    "vy_mp = [vely[i]*vA for i in range(0, len(rposx))\n",
    "      if incube((rposx[i], rposy[i], rposz[i]), cubes_mp)]\n",
    "vz_mp = [velz[i]*vA for i in range(0, len(rposx))\n",
    "      if incube((rposx[i], rposy[i], rposz[i]), cubes_mp)]"
   ]
  },
  {
   "cell_type": "code",
   "execution_count": 10,
   "metadata": {},
   "outputs": [],
   "source": [
    "def avg(data):\n",
    "    return np.mean(data)\n",
    "\n",
    "def rms(data):\n",
    "    return np.mean(np.sqrt( (np.array(data) - np.array(avg(data)))**2))"
   ]
  },
  {
   "cell_type": "code",
   "execution_count": 11,
   "metadata": {},
   "outputs": [],
   "source": [
    "# Simple geometry assumption: shock normal is along x. This is not completely true.\n",
    "# Should we do something about it? It's tough because we don't have that many grid cells to play with.\n",
    "\n",
    "\n",
    "def function_data_in_cube(cube_indexes, data1, data2=None, function1=MD.identity, function_both=None):\n",
    "    \n",
    "    '''\n",
    "    Returns the mean value of data in the different cubes.\n",
    "    If data is a vector (len(data)==3), then the function returns the mean value the norm(data[cubes])\n",
    "    '''\n",
    "                        \n",
    "    ixmin, ixmax, iymin, iymax, izmin, izmax = cube_indexes\n",
    "        \n",
    "    slices = (slice(ixmin, ixmax), slice(iymin, iymax), slice(izmin, izmax))\n",
    "        \n",
    "    if (not(data2)):                       \n",
    "        result = function1( data1, slices )\n",
    "            \n",
    "    else:\n",
    "        result = function_both( function1( data1, slices ), [data2[0][slices],\n",
    "                                                             data2[1][slices],\n",
    "                                                             data2[2][slices]] )\n",
    "    data_in_cube = []        \n",
    "    if (len(result) == 3):\n",
    "        data_in_cube.append( (np.nanmean(result[0]), np.nanmean(result[1]), np.nanmean(result[2])) )\n",
    "    else:\n",
    "        data_in_cube.append( np.nanmean(result) )\n",
    "\n",
    "        \n",
    "\n",
    "    return data_in_cube"
   ]
  },
  {
   "cell_type": "code",
   "execution_count": 12,
   "metadata": {},
   "outputs": [],
   "source": [
    "Bx_sw = function_data_in_cube(cubes(position_shock_sw)['right']['index'], Bx)[0]\n",
    "By_sw = function_data_in_cube(cubes(position_shock_sw)['right']['index'], By)[0]\n",
    "Bz_sw = function_data_in_cube(cubes(position_shock_sw)['right']['index'], Bz)[0]\n",
    "\n",
    "Bx_bs = function_data_in_cube(cubes(position_shock_bs)['right']['index'], Bx)[0]\n",
    "By_bs = function_data_in_cube(cubes(position_shock_bs)['right']['index'], By)[0]\n",
    "Bz_bs = function_data_in_cube(cubes(position_shock_bs)['right']['index'], Bz)[0]\n",
    "\n",
    "Bx_mp = function_data_in_cube(cubes(position_shock_mp)['right']['index'], Bx)[0]\n",
    "By_mp = function_data_in_cube(cubes(position_shock_mp)['right']['index'], By)[0]\n",
    "Bz_mp = function_data_in_cube(cubes(position_shock_mp)['right']['index'], Bz)[0]\n"
   ]
  },
  {
   "cell_type": "markdown",
   "metadata": {},
   "source": [
    "# Energy & particle count"
   ]
  },
  {
   "cell_type": "code",
   "execution_count": null,
   "metadata": {},
   "outputs": [],
   "source": [
    "eV = MD.qe #J\n",
    "\n",
    "E_sw = (1./2) * ((np.array(vx_sw)*1e3)**2 + (np.array(vy_sw)*1e3)**2 + (np.array(vz_sw)*1e3)**2) * MD.mp / eV\n",
    "E_bs = (1./2) * ((np.array(vx_bs)*1e3)**2 + (np.array(vy_bs)*1e3)**2 + (np.array(vz_bs)*1e3)**2) * MD.mp / eV\n",
    "E_mp = (1./2) * ((np.array(vx_mp)*1e3)**2 + (np.array(vy_mp)*1e3)**2 + (np.array(vz_mp)*1e3)**2) * MD.mp / eV\n",
    "\n",
    "E_sw = 1e-3*E_sw #keV\n",
    "E_bs = 1e-3*E_bs #keV\n",
    "E_mp = 1e-3*E_mp #keV"
   ]
  },
  {
   "cell_type": "markdown",
   "metadata": {},
   "source": [
    "# Plots"
   ]
  },
  {
   "cell_type": "code",
   "execution_count": 13,
   "metadata": {},
   "outputs": [],
   "source": [
    "def plot_zero_lines():\n",
    "    ax = plt.gca()\n",
    "    ax.axhline(y=0, color=\"gray\", linestyle='--', linewidth=0.5)\n",
    "    ax.axvline(x=0, color=\"gray\", linestyle='--', linewidth=0.5)"
   ]
  },
  {
   "cell_type": "code",
   "execution_count": 21,
   "metadata": {},
   "outputs": [
    {
     "name": "stdout",
     "output_type": "stream",
     "text": [
      "Using matplotlib backend: TkAgg\n"
     ]
    }
   ],
   "source": [
    "rcParams[\"figure.figsize\"] = [3, 2]\n",
    "%matplotlib\n",
    "\n",
    "# Keel all axes the same to facilitate visual comparison\n",
    "max_x = max(avg(vx_mp)+8*rms(vx_mp), avg(vx_mp)-8*rms(vx_mp))\n",
    "max_y = max(avg(vy_mp)-8*rms(vy_mp), avg(vy_mp)+8*rms(vy_mp))\n",
    "\n",
    "xlim = [max_y, -max_y]\n",
    "ylim = [-max_y, max_y]\n",
    "\n",
    "plt.close('all')\n",
    "plt.figure()\n",
    "\n",
    "ax1 = plt.subplot(311)\n",
    "plot_zero_lines()\n",
    "plt.scatter(vx_sw, vy_sw, s = 0.05, color='black')\n",
    "# plt.title(\"Velocity distribution in the solar wind\", fontsize=17, weight=\"bold\", color=\"red\")\n",
    "plt.xlabel(r\"$V_x$ (km/s)\", fontsize=15)\n",
    "plt.ylabel(r\"$V_y$ (km/s)\", fontsize=15)\n",
    "ax1.set_aspect('equal')\n",
    "ax1.yaxis.tick_right()\n",
    "ax1.yaxis.set_label_position(\"right\")\n",
    "# plt.xlim([avg(vx_sw)+8*rms(vx_sw), avg(vx_sw)-8*rms(vx_sw)])\n",
    "# plt.ylim([avg(vy_sw)-8*rms(vy_sw), avg(vy_sw)+8*rms(vy_sw)])\n",
    "\n",
    "\n",
    "ax2 = plt.subplot(312, sharex=ax1, sharey=ax1)\n",
    "plot_zero_lines()\n",
    "plt.scatter(vx_bs, vy_bs, s = 0.05, color='black')\n",
    "# plt.title(\"Velocity distribution in the magnetosheath, near the bow shock\", fontsize=17, weight=\"bold\", color=\"red\")\n",
    "plt.xlabel(r\"$V_x$ (km/s)\", fontsize=15)\n",
    "plt.ylabel(r\"$V_y$ (km/s)\", fontsize=15)\n",
    "ax2.set_aspect('equal')\n",
    "ax2.yaxis.tick_right()\n",
    "ax2.yaxis.set_label_position(\"right\")\n",
    "# plt.xlim([avg(vx_bs)+8*rms(vx_bs), avg(vx_bs)-8*rms(vx_bs)])\n",
    "# plt.ylim([avg(vy_bs)-8*rms(vy_bs), avg(vy_bs)+8*rms(vy_bs)])\n",
    "\n",
    "ax3 = plt.subplot(313, sharex=ax1, sharey=ax1)\n",
    "plot_zero_lines()\n",
    "plt.scatter(vx_mp, vy_mp, s = 0.15, color='black')\n",
    "# plt.title(\"Velocity distribution in the magnetosheath, near the magnetopause\", fontsize=17, weight=\"bold\", color=\"red\")\n",
    "plt.xlabel(r\"$V_x$ (km/s)\", fontsize=15)\n",
    "plt.ylabel(r\"$V_y$ (km/s)\", fontsize=15)\n",
    "ax3.set_aspect('equal')\n",
    "ax3.yaxis.tick_right()\n",
    "ax3.yaxis.set_label_position(\"right\")\n",
    "# ax.quiver(-1643, 73, Bx_mp, By_mp, units='xy', scale_units='width', color='red')\n",
    "plt.xlim(xlim)\n",
    "plt.ylim(ylim)\n",
    "\n",
    "# plt.tight_layout()\n",
    "plt.show()"
   ]
  },
  {
   "cell_type": "code",
   "execution_count": 22,
   "metadata": {},
   "outputs": [],
   "source": [
    "rcParams[\"figure.figsize\"] = [3, 2]\n",
    "\n",
    "# Keel all axes the same to facilitate visual comparison\n",
    "xlim = [max_y, -max_y]\n",
    "ylim = [-max_y, max_y]\n",
    "\n",
    "plt.close('all')\n",
    "plt.figure()\n",
    "\n",
    "ax1 = plt.subplot(311)\n",
    "plot_zero_lines()\n",
    "plt.scatter(vx_sw, vz_sw, s = 0.05, color='black')\n",
    "# plt.title(\"Velocity distribution in the solar wind\", fontsize=17, weight=\"bold\", color=\"red\")\n",
    "plt.xlabel(r\"$V_x$ (km/s)\", fontsize=15)\n",
    "plt.ylabel(r\"$V_z$ (km/s)\", fontsize=15)\n",
    "ax1.set_aspect('equal')\n",
    "ax1.yaxis.tick_right()\n",
    "ax1.yaxis.set_label_position(\"right\")\n",
    "# plt.xlim([avg(vx_sw)+8*rms(vx_sw), avg(vx_sw)-8*rms(vx_sw)])\n",
    "# plt.ylim([avg(vy_sw)-8*rms(vy_sw), avg(vy_sw)+8*rms(vy_sw)])\n",
    "\n",
    "ax2 = plt.subplot(312, sharex=ax1, sharey=ax1)\n",
    "plot_zero_lines()\n",
    "plt.scatter(vx_bs, vz_bs, s = 0.05, color='black')\n",
    "# plt.title(\"Velocity distribution in the magnetosheath, near the bow shock\", fontsize=17, weight=\"bold\", color=\"red\")\n",
    "plt.xlabel(r\"$V_x$ (km/s)\", fontsize=15)\n",
    "plt.ylabel(r\"$V_z$ (km/s)\", fontsize=15)\n",
    "ax2.set_aspect('equal')\n",
    "ax2.yaxis.tick_right()\n",
    "ax2.yaxis.set_label_position(\"right\")\n",
    "# plt.xlim([avg(vx_bs)+8*rms(vx_bs), avg(vx_bs)-8*rms(vx_bs)])\n",
    "# plt.ylim([avg(vy_bs)-8*rms(vy_bs), avg(vy_bs)+8*rms(vy_bs)])\n",
    "\n",
    "ax3 = plt.subplot(313, sharex=ax1, sharey=ax1)\n",
    "plot_zero_lines()\n",
    "plt.scatter(vx_mp, vz_mp, s = 0.15, color='black')\n",
    "# plt.title(\"Velocity distribution in the magnetosheath, near the magnetopause\", fontsize=17, weight=\"bold\", color=\"red\")\n",
    "plt.xlabel(r\"$V_x$ (km/s)\", fontsize=15)\n",
    "plt.ylabel(r\"$V_z$ (km/s)\", fontsize=15)\n",
    "ax3.set_aspect('equal')\n",
    "ax3.yaxis.tick_right()\n",
    "ax3.yaxis.set_label_position(\"right\")\n",
    "# ax.quiver(-1643, 73, Bx_mp, By_mp, units='xy', scale_units='width', color='red')\n",
    "plt.xlim(xlim)\n",
    "plt.ylim(ylim)\n",
    "\n",
    "# plt.tight_layout()\n",
    "plt.show()"
   ]
  },
  {
   "cell_type": "code",
   "execution_count": null,
   "metadata": {},
   "outputs": [],
   "source": [
    "rcParams[\"figure.figsize\"] = [3, 2]\n",
    "\n",
    "xlim = [0, np.mean(E_mp)+6*np.std(E_mp)]\n",
    "\n",
    "plt.close('all')\n",
    "fig = plt.figure()\n",
    "\n",
    "ax1 = plt.subplot(311)\n",
    "plt.hist(E_sw, bins=100, range=xlim)\n",
    "plt.ylabel(r\"Nb\", fontsize=15)\n",
    "plt.yscale(\"log\")\n",
    "ax1.get_xaxis().set_visible(False)\n",
    "\n",
    "ax2 = plt.subplot(312, sharex=ax1)\n",
    "plt.hist(E_bs, 100, range=xlim)\n",
    "plt.ylabel(r\"Nb\", fontsize=15)\n",
    "plt.yscale(\"log\")\n",
    "ax2.get_xaxis().set_visible(False)\n",
    "\n",
    "ax3 = plt.subplot(313, sharex=ax1)\n",
    "plt.hist(E_mp, 100, range=xlim)\n",
    "plt.xlabel(r\"E_part (keV)\", fontsize=15)\n",
    "plt.ylabel(r\"Nb\", fontsize=15)\n",
    "plt.yscale(\"log\")\n",
    "\n",
    "plt.xlim(xlim)\n",
    "\n",
    "fig.subplots_adjust(wspace=0)\n",
    "fig.subplots_adjust(hspace=0)\n",
    "\n",
    "# plt.tight_layout()\n",
    "plt.show()\n",
    "\n"
   ]
  },
  {
   "cell_type": "code",
   "execution_count": 17,
   "metadata": {},
   "outputs": [],
   "source": [
    "size_cubes = 6\n",
    "\n",
    "for v in [vy_sw, vy_bs, vy_mp]:\n",
    "    if len(v) < 5*(size_cubes-1)**3:\n",
    "        print(f\"Be careful interpreting the results, there are only {len(v)} particles for {5*(size_cubes-1)**3} cells\")"
   ]
  }
 ],
 "metadata": {
  "kernelspec": {
   "display_name": "Python 3",
   "language": "python",
   "name": "python3"
  },
  "language_info": {
   "codemirror_mode": {
    "name": "ipython",
    "version": 3
   },
   "file_extension": ".py",
   "mimetype": "text/x-python",
   "name": "python",
   "nbconvert_exporter": "python",
   "pygments_lexer": "ipython3",
   "version": "3.6.9"
  }
 },
 "nbformat": 4,
 "nbformat_minor": 4
}
