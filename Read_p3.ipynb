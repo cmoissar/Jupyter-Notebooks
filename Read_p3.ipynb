{
 "cells": [
  {
   "cell_type": "code",
   "execution_count": null,
   "metadata": {},
   "outputs": [],
   "source": [
    "from os import listdir\n",
    "from os.path import isfile, join\n"
   ]
  },
  {
   "cell_type": "code",
   "execution_count": 5,
   "metadata": {
    "scrolled": true
   },
   "outputs": [
    {
     "name": "stderr",
     "output_type": "stream",
     "text": [
      "In /home/clement/.local/lib/python3.6/site-packages/matplotlib/mpl-data/stylelib/_classic_test.mplstyle: \n",
      "The text.latex.preview rcparam was deprecated in Matplotlib 3.3 and will be removed two minor releases later.\n",
      "In /home/clement/.local/lib/python3.6/site-packages/matplotlib/mpl-data/stylelib/_classic_test.mplstyle: \n",
      "The mathtext.fallback_to_cm rcparam was deprecated in Matplotlib 3.3 and will be removed two minor releases later.\n",
      "In /home/clement/.local/lib/python3.6/site-packages/matplotlib/mpl-data/stylelib/_classic_test.mplstyle: Support for setting the 'mathtext.fallback_to_cm' rcParam is deprecated since 3.3 and will be removed two minor releases later; use 'mathtext.fallback : 'cm' instead.\n",
      "In /home/clement/.local/lib/python3.6/site-packages/matplotlib/mpl-data/stylelib/_classic_test.mplstyle: \n",
      "The validate_bool_maybe_none function was deprecated in Matplotlib 3.3 and will be removed two minor releases later.\n",
      "In /home/clement/.local/lib/python3.6/site-packages/matplotlib/mpl-data/stylelib/_classic_test.mplstyle: \n",
      "The savefig.jpeg_quality rcparam was deprecated in Matplotlib 3.3 and will be removed two minor releases later.\n",
      "In /home/clement/.local/lib/python3.6/site-packages/matplotlib/mpl-data/stylelib/_classic_test.mplstyle: \n",
      "The keymap.all_axes rcparam was deprecated in Matplotlib 3.3 and will be removed two minor releases later.\n",
      "In /home/clement/.local/lib/python3.6/site-packages/matplotlib/mpl-data/stylelib/_classic_test.mplstyle: \n",
      "The animation.avconv_path rcparam was deprecated in Matplotlib 3.3 and will be removed two minor releases later.\n",
      "In /home/clement/.local/lib/python3.6/site-packages/matplotlib/mpl-data/stylelib/_classic_test.mplstyle: \n",
      "The animation.avconv_args rcparam was deprecated in Matplotlib 3.3 and will be removed two minor releases later.\n"
     ]
    }
   ],
   "source": [
    "import netCDF4 as nc\n",
    "import numpy as np\n",
    "import matplotlib\n",
    "from matplotlib import pyplot as plt\n",
    "from matplotlib import rcParams\n",
    "import import_ipynb\n",
    "import re\n",
    "import glob\n",
    "\n",
    "import Module_Diagnostics as MD\n",
    "\n",
    "\n",
    "# import Shock_understanding_preset as Sup"
   ]
  },
  {
   "cell_type": "code",
   "execution_count": 2,
   "metadata": {},
   "outputs": [],
   "source": [
    "#if working on lx-moissard\n",
    "Cluster = 'Occ/'\n",
    "run_name = '20_08_18_new_big_one_0'\n",
    "filepath = '/data/Lathys/Visualisation/' + Cluster + run_name + '/ncfiles/p3_files/'\n",
    "filepath_nc = '/data/Lathys/Visualisation/' + Cluster + run_name + '/ncfiles/'\n",
    "\n",
    "time = 230 #TIME\n",
    "time = '%05d' % time    # Change the time to string format, needed by functions\n",
    "\n",
    "\n",
    "try:\n",
    "    date = re.search('Magw_(.+?)_t', glob.glob(filepath_nc+'Magw*_t'+time+'.nc')[0]).group(1)\n",
    "except (IndexError, AttributeError): \n",
    "    sys.exit(f\"\"\"time_dump {time} does not appear to have data.\n",
    "             Let us go to the next time_dump\"\"\")\n",
    "\n",
    "print(f'date of the simulation (DD_MM_YY): {date}')\n",
    "print(f'time dump (in 1/omega_ci): {time}')"
   ]
  },
  {
   "cell_type": "code",
   "execution_count": null,
   "metadata": {},
   "outputs": [],
   "source": [
    "## Load B and X, Y, Z\n",
    "\n",
    "# There might be some MemoryError. In that case, follow the guide:\n",
    "# https://stackoverflow.com/questions/60563936/memoryerror-unable-to-allocate-3-78-gib-for-an-array-with-shape-802-842-1502\n",
    "Magw = MD.import_data_3D(filepath_nc, date, time, 'Magw')\n",
    "\n",
    "cwp = Magw['c_omegapi'][0]\n",
    "gstep = Magw['gstep']\n",
    "r_planet = Magw['r_planet'][0]\n",
    "\n",
    "#Thomas Huret recommands shifting the axes so that the planet is indeed in (0,0,0)\n",
    "#It has got something to do with lists starting at 1 instead of 0 in Fortran...?\n",
    "X = np.array(np.around(Magw['x']))#+gstep[0]  \n",
    "Y = np.array(np.around(Magw['y']))#+gstep[1]\n",
    "Z = np.array(np.around(Magw['z']))#-gstep[2]\n",
    "\n",
    "nx,  ny,  nz  = len(X), len(Y), len(Z)\n",
    "# Location of the planet is defined in the .ncfiles as (x,y,z) = (0,0,0)\n",
    "# Location of the planet is defined in the .ncfiles as (x,y,z) = (0,0,0)\n",
    "nx0, ny0, nz0 = ( int(np.where(abs(X)==min(abs(X)))[0]),\n",
    "                  int(np.where(abs(Y)==min(abs(Y)))[0]), \n",
    "                  int(np.where(abs(Z)==min(abs(Z)))[0])  )\n",
    "            \n",
    "# Use memmap to alleviate RAM\n",
    "# This stores big arrays on the disk, but in a way that still allows for most\n",
    "# operations available on an np.array\n",
    "print(\"storing Magnetic field in a memmap\")\n",
    "file_Bx = path.join(mkdtemp(), 'Bx.dat')            \n",
    "Bx = np.memmap(file_Bx, dtype='float32', mode='w+', shape=(nx,ny,nz))\n",
    "Bx[:] = Magw['Bx']\n",
    "file_By = path.join(mkdtemp(), 'By.dat')            \n",
    "By = np.memmap(file_By, dtype='float32', mode='w+', shape=(nx,ny,nz))\n",
    "By[:] = Magw['By']\n",
    "file_Bz = path.join(mkdtemp(), 'Bz.dat')            \n",
    "Bz = np.memmap(file_Bz, dtype='float32', mode='w+', shape=(nx,ny,nz))\n",
    "Bz[:] = Magw['Bz']\n",
    "print(\"deleting Magw to alleviate RAM\")\n",
    "del Magw\n",
    "B = [Bx, By, Bz]"
   ]
  },
  {
   "cell_type": "code",
   "execution_count": 3,
   "metadata": {},
   "outputs": [
    {
     "ename": "FileNotFoundError",
     "evalue": "[Errno 2] No such file or directory: b'/data/Lathys/Visualisation/Occ/20_08_18_new_big_one_0/ncfiles/p3_files/p3_0000_18_08_20_t00230.nc'",
     "output_type": "error",
     "traceback": [
      "\u001b[0;31m---------------------------------------------------------------------------\u001b[0m",
      "\u001b[0;31mFileNotFoundError\u001b[0m                         Traceback (most recent call last)",
      "\u001b[0;32m<ipython-input-3-e4492347efb5>\u001b[0m in \u001b[0;36m<module>\u001b[0;34m\u001b[0m\n\u001b[0;32m----> 1\u001b[0;31m \u001b[0mp3_data\u001b[0m \u001b[0;34m=\u001b[0m \u001b[0mnc\u001b[0m\u001b[0;34m.\u001b[0m\u001b[0mDataset\u001b[0m\u001b[0;34m(\u001b[0m\u001b[0mp3_file\u001b[0m\u001b[0;34m,\u001b[0m\u001b[0;34m'r'\u001b[0m\u001b[0;34m)\u001b[0m\u001b[0;34m\u001b[0m\u001b[0;34m\u001b[0m\u001b[0m\n\u001b[0m\u001b[1;32m      2\u001b[0m \u001b[0mprint\u001b[0m\u001b[0;34m(\u001b[0m\u001b[0mp3_data\u001b[0m\u001b[0;34m.\u001b[0m\u001b[0m__dict__\u001b[0m\u001b[0;34m)\u001b[0m\u001b[0;34m\u001b[0m\u001b[0;34m\u001b[0m\u001b[0m\n",
      "\u001b[0;32mnetCDF4/_netCDF4.pyx\u001b[0m in \u001b[0;36mnetCDF4._netCDF4.Dataset.__init__\u001b[0;34m()\u001b[0m\n",
      "\u001b[0;32mnetCDF4/_netCDF4.pyx\u001b[0m in \u001b[0;36mnetCDF4._netCDF4._ensure_nc_success\u001b[0;34m()\u001b[0m\n",
      "\u001b[0;31mFileNotFoundError\u001b[0m: [Errno 2] No such file or directory: b'/data/Lathys/Visualisation/Occ/20_08_18_new_big_one_0/ncfiles/p3_files/p3_0000_18_08_20_t00230.nc'"
     ]
    }
   ],
   "source": [
    "posx = []\n",
    "posy = []\n",
    "posz = []\n",
    "\n",
    "velx = []\n",
    "vely = []\n",
    "velz = []\n",
    "\n",
    "i = 0\n",
    "\n",
    "for p3_file in listdir(filepath):\n",
    "    \n",
    "    if not(\".nc\" in p3_file):\n",
    "        continue\n",
    "    \n",
    "    i+=1\n",
    "        \n",
    "    print(\"Reading file\", i, \"/\", len(listdir(filepath)))\n",
    "    print(\"Reading \", p3_file, \" ...\")\n",
    "\n",
    "    p3_data = nc.Dataset(filepath + p3_file,'r')\n",
    "    \n",
    "    posx = posx + list(np.array(p3_data.variables['particule_x']))\n",
    "    posy = posy + list(np.array(p3_data.variables['particule_y']))\n",
    "    posz = posz + list(np.array(p3_data.variables['particule_z']))\n",
    "\n",
    "    velx = velx + list(-np.array(p3_data.variables['particule_vx']))\n",
    "    vely = vely + list(-np.array(p3_data.variables['particule_vy']))\n",
    "    velz = velz + list(np.array(p3_data.variables['particule_vz']))\n"
   ]
  },
  {
   "cell_type": "code",
   "execution_count": 1,
   "metadata": {},
   "outputs": [],
   "source": [
    "# /!\\ ugly hard coding\n",
    "\n",
    "nx = 1500\n",
    "ny = 720\n",
    "nz = 660\n",
    "dx = 1\n",
    "dy = 1\n",
    "dz = 1\n",
    "px = (nx - 100)*dx\n",
    "py = ny/2 * dy\n",
    "pz = nz/2 * dz\n",
    "\n",
    "def real_pos(pos_part, planet, sgn):\n",
    "    return sgn*(np.array(pos_part) - planet*np.ones(len(pos_part)))\n",
    "\n",
    "# /!\\ Verify this, I think y might need s=-1. See read_netcdf_3D.py\n",
    "rposx = real_pos(posx, px, -1)\n",
    "rposy = real_pos(posy, py, -1)\n",
    "rposz = real_pos(posz, pz,  1)"
   ]
  },
  {
   "cell_type": "code",
   "execution_count": null,
   "metadata": {
    "code_folding": []
   },
   "outputs": [],
   "source": [
    "def cubes(position_shock):\n",
    "    \n",
    "    '''Defines two cubes: one on the left and one on the right side of\n",
    "       a point.'''\n",
    "    \n",
    "    distance = 7\n",
    "    size_cubes = 6 # Goals and poles. This will be a 5 by 5 cube.\n",
    "    \n",
    "    x_shock = position_shock[0]\n",
    "    y_shock = position_shock[1]\n",
    "    z_shock = position_shock[2]\n",
    "    \n",
    "    center_cube = x_shock, y_shock, z_shock\n",
    "\n",
    "    cube_x_max = x_shock + size_cubes/2\n",
    "    cube_x_min = x_shock - size_cubes/2\n",
    "    cube_y_max = y_shock + size_cubes/2\n",
    "    cube_y_min = y_shock - size_cubes/2\n",
    "    cube_z_max = z_shock + size_cubes/2\n",
    "    cube_z_min = z_shock - size_cubes/2\n",
    "\n",
    "    ix_min_left  = int(np.where(cube_x_min + distance <=X)[0][0])    \n",
    "    ix_max_left  = int(np.where(cube_x_max + distance <=X)[0][0])\n",
    "    ix_min_right = int(np.where(cube_x_min - distance <=X)[0][0])    \n",
    "    ix_max_right = int(np.where(cube_x_max - distance <=X)[0][0])\n",
    "    iy_min = int(np.where(cube_y_min<=Y)[0][0])\n",
    "    iy_max = int(np.where(cube_y_max<=Y)[0][0])\n",
    "    iz_min = int(np.where(cube_z_min<=Z)[0][0])\n",
    "    iz_max = int(np.where(cube_z_max<=Z)[0][0])\n",
    "    \n",
    "    cubes = {'left':\n",
    "              { 'coord': (cube_x_min+distance, cube_x_max+distance, cube_y_min, cube_y_max, cube_z_min, cube_z_max),\n",
    "                'index': (ix_min_left , ix_max_left , iy_min, iy_max, iz_min, iz_max) },\n",
    "             \n",
    "             'right': \n",
    "              { 'coord': (cube_x_min-distance, cube_x_max-distance, cube_y_min, cube_y_max, cube_z_min, cube_z_max),\n",
    "                'index': (ix_min_right, ix_max_right, iy_min, iy_max, iz_min, iz_max) }\n",
    "             }\n",
    "    \n",
    "    return cubes"
   ]
  },
  {
   "cell_type": "code",
   "execution_count": null,
   "metadata": {},
   "outputs": [],
   "source": [
    "#for '20_08_18_new_big_one_0', at t=230\n",
    "#cube = (xmin, xmax, ymin, ymax, zmin, zmax)\n",
    "position_shock_sw = (-65, 180, 0)\n",
    "position_shock_bs = (-63, 135, 0)\n",
    "position_shock_mp = (-50,  76, 0)\n",
    "\n",
    "cubes_sw = cubes(position_shock_sw)\n",
    "cubes_bs = cubes(position_shock_bs)\n",
    "cubes_mp = cubes(position_shock_mp)"
   ]
  },
  {
   "cell_type": "code",
   "execution_count": null,
   "metadata": {},
   "outputs": [],
   "source": [
    "def incube(point, cube):\n",
    "    x, y, z = point\n",
    "    xmin, xmax, ymin, ymax, zmin, zmax = cube\n",
    "    return (     (xmin < x < xmax) \n",
    "             and (ymin < y < ymax)\n",
    "             and (zmin < z < zmax) )"
   ]
  },
  {
   "cell_type": "code",
   "execution_count": 2,
   "metadata": {
    "scrolled": false
   },
   "outputs": [
    {
     "ename": "NameError",
     "evalue": "name 'rposx' is not defined",
     "output_type": "error",
     "traceback": [
      "\u001b[0;31m---------------------------------------------------------------------------\u001b[0m",
      "\u001b[0;31mNameError\u001b[0m                                 Traceback (most recent call last)",
      "\u001b[0;32m<ipython-input-2-26d340da252b>\u001b[0m in \u001b[0;36m<module>\u001b[0;34m\u001b[0m\n\u001b[0;32m----> 1\u001b[0;31m \u001b[0mx1\u001b[0m \u001b[0;34m=\u001b[0m \u001b[0;34m[\u001b[0m\u001b[0mx\u001b[0m \u001b[0;32mfor\u001b[0m \u001b[0mx\u001b[0m \u001b[0;32min\u001b[0m \u001b[0mrposx\u001b[0m \u001b[0;32mif\u001b[0m \u001b[0;34m(\u001b[0m\u001b[0;34m-\u001b[0m\u001b[0;36m55\u001b[0m \u001b[0;34m<\u001b[0m \u001b[0mx\u001b[0m \u001b[0;32mand\u001b[0m \u001b[0mx\u001b[0m \u001b[0;34m<\u001b[0m \u001b[0;34m-\u001b[0m\u001b[0;36m70\u001b[0m\u001b[0;34m)\u001b[0m\u001b[0;34m]\u001b[0m\u001b[0;34m\u001b[0m\u001b[0;34m\u001b[0m\u001b[0m\n\u001b[0m",
      "\u001b[0;31mNameError\u001b[0m: name 'rposx' is not defined"
     ]
    }
   ],
   "source": [
    "print(\"Constructing list of particles in the solar wind\")\n",
    "\n",
    "x_sw = [rposx[i] for i in range(0, len(rposx))\n",
    "      if incube((rposx[i], rposy[i], rposz[i]), cube_sw)]\n",
    "y_sw = [rposy[i] for i in range(0, len(rposx))\n",
    "      if incube((rposx[i], rposy[i], rposz[i]), cube_sw)]\n",
    "z_sw = [rposz[i] for i in range(0, len(rposx))\n",
    "      if incube((rposx[i], rposy[i], rposz[i]), cube_sw)]\n",
    "\n",
    "vA = 89.371 #Ugly hard code\n",
    "vx_sw = [velx[i]*vA for i in range(0, len(rposx))\n",
    "      if incube((rposx[i], rposy[i], rposz[i]), cube_sw)]\n",
    "vy_sw = [vely[i]*vA for i in range(0, len(rposx))\n",
    "    if incube((rposx[i], rposy[i], rposz[i]), cube_sw)]\n",
    "vz_sw = [velz[i]*vA for i in range(0, len(rposx))\n",
    "      if incube((rposx[i], rposy[i], rposz[i]), cube_sw)]"
   ]
  },
  {
   "cell_type": "code",
   "execution_count": null,
   "metadata": {},
   "outputs": [],
   "source": [
    "print(\"Constructing list of particles in the magnetosheath, near the bow shock\")\n",
    "\n",
    "x_bs = [rposx[i] for i in range(0, len(rposx))\n",
    "      if incube((rposx[i], rposy[i], rposz[i]), cube_bs)]\n",
    "y_bs = [rposy[i] for i in range(0, len(rposx))\n",
    "      if incube((rposx[i], rposy[i], rposz[i]), cube_bs)]\n",
    "z_bs = [rposz[i] for i in range(0, len(rposx))\n",
    "      if incube((rposx[i], rposy[i], rposz[i]), cube_bs)]\n",
    "\n",
    "vA = 89.371 #Ugly hard code\n",
    "vx_bs = [velx[i]*vA for i in range(0, len(rposx))\n",
    "      if incube((rposx[i], rposy[i], rposz[i]), cube_bs)]\n",
    "vy_bs = [vely[i]*vA for i in range(0, len(rposx))\n",
    "    if incube((rposx[i], rposy[i], rposz[i]), cube_bs)]\n",
    "vz_bs = [velz[i]*vA for i in range(0, len(rposx))\n",
    "      if incube((rposx[i], rposy[i], rposz[i]), cube_bs)]"
   ]
  },
  {
   "cell_type": "code",
   "execution_count": null,
   "metadata": {},
   "outputs": [],
   "source": [
    "print(\"Constructing list of particles in the magnetosheath, near the magnetopause\")\n",
    "\n",
    "x_mp = [rposx[i] for i in range(0, len(rposx))\n",
    "      if incube((rposx[i], rposy[i], rposz[i]), cube_mp)]\n",
    "y_mp = [rposy[i] for i in range(0, len(rposx))\n",
    "      if incube((rposx[i], rposy[i], rposz[i]), cube_mp)]\n",
    "z_mp = [rposz[i] for i in range(0, len(rposx))\n",
    "      if incube((rposx[i], rposy[i], rposz[i]), cube_mp)]\n",
    "\n",
    "vA = 89.371 #Ugly hard code\n",
    "vx_mp = [velx[i]*vA for i in range(0, len(rposx))\n",
    "      if incube((rposx[i], rposy[i], rposz[i]), cube_mp)]\n",
    "vy_mp = [vely[i]*vA for i in range(0, len(rposx))\n",
    "    if incube((rposx[i], rposy[i], rposz[i]), cube_mp)]\n",
    "vz_mp = [velz[i]*vA for i in range(0, len(rposx))\n",
    "      if incube((rposx[i], rposy[i], rposz[i]), cube_mp)]"
   ]
  },
  {
   "cell_type": "code",
   "execution_count": null,
   "metadata": {},
   "outputs": [],
   "source": [
    "def avg(data):\n",
    "    return np.mean(data)\n",
    "\n",
    "def rms(data):\n",
    "    return np.mean(np.sqrt( (np.array(data) - np.array(avg(data)))**2))"
   ]
  },
  {
   "cell_type": "code",
   "execution_count": null,
   "metadata": {},
   "outputs": [],
   "source": [
    "rcParams[\"figure.figsize\"] = [5, 3.75]\n",
    "\n",
    "plt.close('all')\n",
    "plt.figure()\n",
    "plt.scatter(vx_sw, vy_sw, s = 0.05, color='black')\n",
    "# plt.title(\"Velocity distribution in the solar wind\", fontsize=17, weight=\"bold\", color=\"red\")\n",
    "plt.xlabel(r\"$V_x$ (km/s)\", fontsize=15)\n",
    "plt.ylabel(r\"$V_y$ (km/s)\", fontsize=15)\n",
    "plt.axis('equal')\n",
    "# plt.xlim([avg(vx_sw)+8*rms(vx_sw), avg(vx_sw)-8*rms(vx_sw)])\n",
    "# plt.ylim([avg(vy_sw)-8*rms(vy_sw), avg(vy_sw)+8*rms(vy_sw)])\n",
    "plt.xlim([avg(vx_mp)+8*rms(vx_mp), avg(vx_mp)-8*rms(vx_mp)])\n",
    "plt.ylim([avg(vy_mp)-8*rms(vy_mp), avg(vy_mp)+8*rms(vy_mp)])\n",
    "plt.tight_layout()\n",
    "plt.figure()\n",
    "plt.scatter(vx_bs, vy_bs, s = 0.05, color='black')\n",
    "# plt.title(\"Velocity distribution in the magnetosheath, near the bow shock\", fontsize=17, weight=\"bold\", color=\"red\")\n",
    "plt.xlabel(r\"$V_x$ (km/s)\", fontsize=15)\n",
    "plt.ylabel(r\"$V_y$ (km/s)\", fontsize=15)\n",
    "# plt.xlim([avg(vx_bs)+8*rms(vx_bs), avg(vx_bs)-8*rms(vx_bs)])\n",
    "# plt.ylim([avg(vy_bs)-8*rms(vy_bs), avg(vy_bs)+8*rms(vy_bs)])\n",
    "plt.xlim([avg(vx_mp)+8*rms(vx_mp), avg(vx_mp)-8*rms(vx_mp)])\n",
    "plt.ylim([avg(vy_mp)-8*rms(vy_mp), avg(vy_mp)+8*rms(vy_mp)])\n",
    "plt.tight_layout()\n",
    "plt.figure()\n",
    "plt.scatter(vx_mp, vy_mp, s = 0.05, color='black')\n",
    "# plt.title(\"Velocity distribution in the magnetosheath, near the magnetopause\", fontsize=17, weight=\"bold\", color=\"red\")\n",
    "plt.xlabel(r\"$V_x$ (km/s)\", fontsize=15)\n",
    "plt.ylabel(r\"$V_y$ (km/s)\", fontsize=15)\n",
    "plt.xlim([avg(vx_mp)+8*rms(vx_mp), avg(vx_mp)-8*rms(vx_mp)])\n",
    "plt.ylim([avg(vy_mp)-8*rms(vy_mp), avg(vy_mp)+8*rms(vy_mp)])\n",
    "plt.tight_layout()\n",
    "plt.show()"
   ]
  }
 ],
 "metadata": {
  "kernelspec": {
   "display_name": "Python 3",
   "language": "python",
   "name": "python3"
  },
  "language_info": {
   "codemirror_mode": {
    "name": "ipython",
    "version": 3
   },
   "file_extension": ".py",
   "mimetype": "text/x-python",
   "name": "python",
   "nbconvert_exporter": "python",
   "pygments_lexer": "ipython3",
   "version": "3.6.9"
  }
 },
 "nbformat": 4,
 "nbformat_minor": 4
}
